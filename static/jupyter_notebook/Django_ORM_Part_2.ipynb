{
 "cells": [
  {
   "cell_type": "code",
   "execution_count": null,
   "id": "e452e25d",
   "metadata": {},
   "outputs": [],
   "source": [
    "# How to Run Django in Jupyter Notebook\n",
    "# https://www.youtube.com/watch?v=TN5zIA--cz4&ab_channel=TechSunami"
   ]
  },
  {
   "cell_type": "code",
   "execution_count": 1,
   "id": "6dda5bc6",
   "metadata": {},
   "outputs": [],
   "source": [
    "import os\n",
    "os.environ[\"DJANGO_ALLOW_ASYNC_UNSAFE\"] = \"true\"\n",
    "from django.db import connection\n",
    "from django.db import reset_queries\n",
    "from django.db import models\n",
    "from django_orm_app.models import Author, Blog\n",
    "from faker import Faker \n",
    "import random\n"
   ]
  },
  {
   "cell_type": "code",
   "execution_count": 2,
   "id": "fd33d698",
   "metadata": {},
   "outputs": [],
   "source": [
    "def define_model(model):\n",
    "    print(f\"----------------- {model.__name__}-------------------\")\n",
    "    for field in model._meta.fields:\n",
    "        print(f\"{field.name} --> {field.get_internal_type()}\")\n",
    "    print('\\033[1m' + f\"Table name in database is {model._meta.db_table}\" + '\\033[0m')"
   ]
  },
  {
   "cell_type": "code",
   "execution_count": 3,
   "id": "29434233",
   "metadata": {},
   "outputs": [
    {
     "name": "stdout",
     "output_type": "stream",
     "text": [
      "----------------- Author-------------------\n",
      "id --> BigAutoField\n",
      "name --> CharField\n",
      "email --> CharField\n",
      "age --> IntegerField\n",
      "creation_date --> DateTimeField\n",
      "updation_date --> DateTimeField\n",
      "\u001b[1mTable name in database is author_model\u001b[0m\n",
      "----------------- Blog-------------------\n",
      "id --> BigAutoField\n",
      "name --> CharField\n",
      "author --> ForeignKey\n",
      "time_to_read --> IntegerField\n",
      "tagline --> TextField\n",
      "creation_date --> DateTimeField\n",
      "updation_date --> DateTimeField\n",
      "\u001b[1mTable name in database is blog_model\u001b[0m\n"
     ]
    }
   ],
   "source": [
    "define_model(Author)\n",
    "define_model(Blog)"
   ]
  },
  {
   "cell_type": "code",
   "execution_count": 4,
   "id": "dcb84148",
   "metadata": {},
   "outputs": [],
   "source": [
    "# fake = Faker()\n",
    "# range_of_author_id = 100"
   ]
  },
  {
   "cell_type": "code",
   "execution_count": 5,
   "id": "45fe64be",
   "metadata": {},
   "outputs": [],
   "source": [
    "# lst_author = []\n",
    "# for _ in range(range_of_author_id):\n",
    "#     lst_author.append(\n",
    "#         Author(\n",
    "#             name=fake.name(), \n",
    "#             age=random.randint(1,100)\n",
    "#         )\n",
    "#     )"
   ]
  },
  {
   "cell_type": "code",
   "execution_count": 6,
   "id": "b39fb8ca",
   "metadata": {},
   "outputs": [],
   "source": [
    "# objs_author = Author.objects.bulk_create(lst_author)"
   ]
  },
  {
   "cell_type": "code",
   "execution_count": 7,
   "id": "2a1fec75",
   "metadata": {},
   "outputs": [],
   "source": [
    "# lst_blog = []\n",
    "# for _ in range(10000):\n",
    "#     lst_blog.append(\n",
    "#         Blog(\n",
    "#             name=fake.sentence(), \n",
    "#             tagline= fake.paragraph(), \n",
    "#             author_id=random.randint(1, 100)\n",
    "#         )\n",
    "#     )"
   ]
  },
  {
   "cell_type": "code",
   "execution_count": 8,
   "id": "ed9d512f",
   "metadata": {},
   "outputs": [],
   "source": [
    "# objs_blog = Blog.objects.bulk_create(lst_blog)"
   ]
  },
  {
   "cell_type": "markdown",
   "id": "d6e8c724",
   "metadata": {},
   "source": [
    "## Table of Content\n",
    "1. [Method that return new Queryset](#3)\n",
    "    1. [filter](#3.a) \n",
    "    2. [exclude](#3.b) \n",
    "    3. [annotate ](#3.c) \n",
    "    4. [order_by](#3.d) \n",
    "    5. [distinct](#3.e) \n",
    "    6. [values](#3.f) \n",
    "    7. [values_list](#3.g) \n",
    "    8. [all](#3.h) \n",
    "    9. [union](#3.i) \n",
    "    10. [intersection](#3.j) \n",
    "    11. [difference](#3.k) \n",
    "    12. [only](#3.l)\n",
    "    13. [defer](#3.m)\n",
    "    14. [select_for_update](#3.n)\n",
    "    15. [raw](#3.o)"
   ]
  },
  {
   "cell_type": "code",
   "execution_count": 9,
   "id": "6eee6d01",
   "metadata": {},
   "outputs": [],
   "source": [
    "def get_query():\n",
    "    return connection.queries"
   ]
  },
  {
   "cell_type": "markdown",
   "id": "53e22f79",
   "metadata": {},
   "source": [
    "<a id=\"3\"></a>\n",
    "## Method that return new Queryset\n",
    "Django Documentation - https://docs.djangoproject.com/en/4.2/ref/models/querysets/#methods-that-return-new-querysets"
   ]
  },
  {
   "cell_type": "markdown",
   "id": "0332de08",
   "metadata": {},
   "source": [
    "<a id=\"3.a\"></a>\n",
    "### filter\n",
    "\n",
    "Django Documentation - https://docs.djangoproject.com/en/4.2/ref/models/querysets/#filter <br>\n",
    "All Field Lookup Documentation - https://docs.djangoproject.com/en/4.2/ref/models/querysets/#field-lookups"
   ]
  },
  {
   "cell_type": "code",
   "execution_count": 10,
   "id": "572aada9",
   "metadata": {},
   "outputs": [],
   "source": [
    "objs = Author.objects.filter(age__gt = 90)"
   ]
  },
  {
   "cell_type": "code",
   "execution_count": 11,
   "id": "12fbc899",
   "metadata": {},
   "outputs": [
    {
     "name": "stdout",
     "output_type": "stream",
     "text": [
      "Kathleen Hess 114\n",
      "Sarah Cunningham 100\n",
      "Dustin Robinson 100\n",
      "Austin Chang 95\n",
      "Cynthia Stevens 94\n",
      "Daniel Hansen 94\n",
      "Kimberly Perez 95\n",
      "Regina Rodriguez 99\n",
      "Nicholas Taylor 98\n",
      "Rebecca Johnson 95\n",
      "Danielle Martin 91\n",
      "Query made is {'sql': 'SELECT \"author_model\".\"id\", \"author_model\".\"name\", \"author_model\".\"email\", \"author_model\".\"age\", \"author_model\".\"creation_date\", \"author_model\".\"updation_date\" FROM \"author_model\" WHERE \"author_model\".\"age\" > 90', 'time': '0.001'}\n"
     ]
    }
   ],
   "source": [
    "for obj in objs:\n",
    "    print(obj.name, obj.age)\n",
    "\n",
    "print(f\"Query made is {get_query()[-1]}\")"
   ]
  },
  {
   "cell_type": "code",
   "execution_count": 17,
   "id": "346302db",
   "metadata": {},
   "outputs": [],
   "source": [
    "from django.db.models import Q\n",
    "objs = Author.objects.filter(Q(name__contains = \"S\") & Q(age__gt = 90))"
   ]
  },
  {
   "cell_type": "code",
   "execution_count": 18,
   "id": "e8f2a21a",
   "metadata": {},
   "outputs": [
    {
     "name": "stdout",
     "output_type": "stream",
     "text": [
      "Kathleen Hess 114\n",
      "Sarah Cunningham 100\n",
      "Dustin Robinson 100\n",
      "Austin Chang 95\n",
      "Cynthia Stevens 94\n",
      "Daniel Hansen 94\n",
      "Nicholas Taylor 98\n",
      "Rebecca Johnson 95\n"
     ]
    }
   ],
   "source": [
    "for obj in objs:\n",
    "    print(obj.name, obj.age)\n"
   ]
  },
  {
   "cell_type": "code",
   "execution_count": 19,
   "id": "83955af6",
   "metadata": {},
   "outputs": [
    {
     "name": "stdout",
     "output_type": "stream",
     "text": [
      "Query made is {'sql': 'SELECT \"author_model\".\"id\", \"author_model\".\"name\", \"author_model\".\"email\", \"author_model\".\"age\", \"author_model\".\"creation_date\", \"author_model\".\"updation_date\" FROM \"author_model\" WHERE (\"author_model\".\"name\" LIKE \\'%S%\\' ESCAPE \\'\\\\\\' AND \"author_model\".\"age\" > 90)', 'time': '0.000'}\n"
     ]
    }
   ],
   "source": [
    "print(f\"Query made is {get_query()[-1]}\")"
   ]
  },
  {
   "cell_type": "code",
   "execution_count": 20,
   "id": "2cdb3b94",
   "metadata": {},
   "outputs": [
    {
     "data": {
      "text/plain": [
       "<QuerySet [<Blog: Participant specific even economic force cultural dog opportunity.>, <Blog: Party page media light dog.>, <Blog: Dog summer administration present sense.>, <Blog: Brother dog democratic beat yeah.>, <Blog: Dog begin head mention worry.>, <Blog: Dog rich leader build picture thought quickly.>, <Blog: Away dog hospital role.>, <Blog: Apply back whom central dog.>, <Blog: Bed case many dog social.>, <Blog: National without spring language service dog.>, <Blog: Dog side three guy stock writer.>, <Blog: Floor dog article finish office forward eight.>, <Blog: Pick former identify fly center decade dog opportunity.>, <Blog: Low summer sport up local hear recently dog.>, <Blog: Task discover dog factor mother.>, <Blog: Security usually maybe yard far produce dog thought.>, <Blog: Worry scene dog agent.>, <Blog: Bill production other dog.>, <Blog: Throughout century lose dog view than difference.>, <Blog: Risk someone dog finally party daughter.>, '...(remaining elements truncated)...']>"
      ]
     },
     "execution_count": 20,
     "metadata": {},
     "output_type": "execute_result"
    }
   ],
   "source": [
    "#Chaining of Filter\n",
    "Blog.objects.filter(name__contains=\"dog\").filter(author__age__lt = 50)"
   ]
  },
  {
   "cell_type": "code",
   "execution_count": 21,
   "id": "7c08f1ad",
   "metadata": {},
   "outputs": [
    {
     "data": {
      "text/plain": [
       "{'sql': 'SELECT \"blog_model\".\"id\", \"blog_model\".\"name\", \"blog_model\".\"author_id\", \"blog_model\".\"time_to_read\", \"blog_model\".\"tagline\", \"blog_model\".\"creation_date\", \"blog_model\".\"updation_date\" FROM \"blog_model\" INNER JOIN \"author_model\" ON (\"blog_model\".\"author_id\" = \"author_model\".\"id\") WHERE (\"blog_model\".\"name\" LIKE \\'%dog%\\' ESCAPE \\'\\\\\\' AND \"author_model\".\"age\" < 50) LIMIT 21',\n",
       " 'time': '0.001'}"
      ]
     },
     "execution_count": 21,
     "metadata": {},
     "output_type": "execute_result"
    }
   ],
   "source": [
    "get_query()[-1]"
   ]
  },
  {
   "cell_type": "markdown",
   "id": "8932b961",
   "metadata": {},
   "source": [
    "<a id=\"3.b\"></a>\n",
    "### exclude\n",
    "\n",
    "Django Documentation - https://docs.djangoproject.com/en/4.2/ref/models/querysets/#exclude"
   ]
  },
  {
   "cell_type": "code",
   "execution_count": 22,
   "id": "e8ccaa3c",
   "metadata": {},
   "outputs": [],
   "source": [
    "objs = Author.objects.exclude(age__lt = 90)"
   ]
  },
  {
   "cell_type": "code",
   "execution_count": 23,
   "id": "d6d72146",
   "metadata": {},
   "outputs": [
    {
     "name": "stdout",
     "output_type": "stream",
     "text": [
      "Kathleen Hess 114\n",
      "Sarah Cunningham 100\n",
      "Dustin Robinson 100\n",
      "Austin Chang 95\n",
      "Cynthia Stevens 94\n",
      "Daniel Hansen 94\n",
      "Kimberly Perez 95\n",
      "Regina Rodriguez 99\n",
      "Nicholas Taylor 98\n",
      "Rebecca Johnson 95\n",
      "Danielle Martin 91\n",
      "Techsunami None\n",
      "Techsunami None\n"
     ]
    }
   ],
   "source": [
    "for obj in objs:\n",
    "    print(obj.name, obj.age)"
   ]
  },
  {
   "cell_type": "code",
   "execution_count": 24,
   "id": "d943d3f0",
   "metadata": {},
   "outputs": [
    {
     "name": "stdout",
     "output_type": "stream",
     "text": [
      "Query made is {'sql': 'SELECT \"author_model\".\"id\", \"author_model\".\"name\", \"author_model\".\"email\", \"author_model\".\"age\", \"author_model\".\"creation_date\", \"author_model\".\"updation_date\" FROM \"author_model\" WHERE NOT (\"author_model\".\"age\" < 90 AND \"author_model\".\"age\" IS NOT NULL)', 'time': '0.001'}\n"
     ]
    }
   ],
   "source": [
    "print(f\"Query made is {get_query()[-1]}\")"
   ]
  },
  {
   "cell_type": "markdown",
   "id": "ac5f7e5c",
   "metadata": {},
   "source": [
    "<a id=\"3.c\"></a>\n",
    "### annotate method\n",
    "Django Documentation - https://docs.djangoproject.com/en/4.2/ref/models/querysets/#update-or-create"
   ]
  },
  {
   "cell_type": "code",
   "execution_count": 27,
   "id": "a1db4910",
   "metadata": {},
   "outputs": [],
   "source": [
    "from django.db.models import Count, Avg\n",
    "objs = Author.objects.annotate(age_less_than_25 = Q(age__lt = 25))"
   ]
  },
  {
   "cell_type": "code",
   "execution_count": 28,
   "id": "f67508e0",
   "metadata": {},
   "outputs": [
    {
     "name": "stdout",
     "output_type": "stream",
     "text": [
      "Kathleen Hess -- False -- 114\n",
      "Heidi Davis -- False -- 36\n",
      "Bryan Conner -- True -- 11\n",
      "Eric Logan -- True -- 15\n",
      "Sarah Cunningham -- False -- 100\n",
      "Mrs. Tammy Elliott -- True -- 21\n",
      "Stephanie Gardner -- False -- 33\n",
      "Hector Johnson -- True -- 19\n",
      "Katherine Payne -- False -- 33\n",
      "Carlos Wolfe -- False -- 72\n"
     ]
    }
   ],
   "source": [
    "for obj in objs[:10]:\n",
    "    print(f\"{obj.name} -- {obj.age_less_than_25} -- {obj.age}\")"
   ]
  },
  {
   "cell_type": "code",
   "execution_count": 29,
   "id": "74184738",
   "metadata": {},
   "outputs": [
    {
     "data": {
      "text/plain": [
       "{'sql': 'SELECT \"author_model\".\"id\", \"author_model\".\"name\", \"author_model\".\"email\", \"author_model\".\"age\", \"author_model\".\"creation_date\", \"author_model\".\"updation_date\", \"author_model\".\"age\" < 25 AS \"age_less_than_25\" FROM \"author_model\" LIMIT 10',\n",
       " 'time': '0.000'}"
      ]
     },
     "execution_count": 29,
     "metadata": {},
     "output_type": "execute_result"
    }
   ],
   "source": [
    "get_query()[-1]"
   ]
  },
  {
   "cell_type": "markdown",
   "id": "c45074ed",
   "metadata": {},
   "source": [
    "<a id=\"3.d\"></a>\n",
    "### order_by\n",
    "\n",
    "Django Documentation - https://docs.djangoproject.com/en/4.2/ref/models/querysets/#order-by"
   ]
  },
  {
   "cell_type": "code",
   "execution_count": 31,
   "id": "0c022633",
   "metadata": {},
   "outputs": [],
   "source": [
    "objs = Author.objects.order_by(\"-age\")"
   ]
  },
  {
   "cell_type": "code",
   "execution_count": 32,
   "id": "b4d5d89f",
   "metadata": {},
   "outputs": [
    {
     "name": "stdout",
     "output_type": "stream",
     "text": [
      "Kathleen Hess 114\n",
      "Sarah Cunningham 100\n",
      "Dustin Robinson 100\n",
      "Regina Rodriguez 99\n",
      "Nicholas Taylor 98\n",
      "Austin Chang 95\n",
      "Kimberly Perez 95\n",
      "Rebecca Johnson 95\n",
      "Cynthia Stevens 94\n",
      "Daniel Hansen 94\n"
     ]
    }
   ],
   "source": [
    "for obj in objs[:10]:\n",
    "    print(obj.name, obj.age)"
   ]
  },
  {
   "cell_type": "code",
   "execution_count": 33,
   "id": "69bae848",
   "metadata": {},
   "outputs": [
    {
     "data": {
      "text/plain": [
       "{'sql': 'SELECT \"author_model\".\"id\", \"author_model\".\"name\", \"author_model\".\"email\", \"author_model\".\"age\", \"author_model\".\"creation_date\", \"author_model\".\"updation_date\" FROM \"author_model\" ORDER BY \"author_model\".\"age\" DESC LIMIT 10',\n",
       " 'time': '0.001'}"
      ]
     },
     "execution_count": 33,
     "metadata": {},
     "output_type": "execute_result"
    }
   ],
   "source": [
    "get_query()[-1]"
   ]
  },
  {
   "cell_type": "markdown",
   "id": "6101400d",
   "metadata": {},
   "source": [
    "<a id=\"3.e\"></a>\n",
    "### distinct\n",
    "\n",
    "Django Documentation - https://docs.djangoproject.com/en/4.2/ref/models/querysets/#distinct"
   ]
  },
  {
   "cell_type": "code",
   "execution_count": 34,
   "id": "00e4dc78",
   "metadata": {},
   "outputs": [],
   "source": [
    "# It remove duplicate row from database\n",
    "objs = Author.objects.distinct()"
   ]
  },
  {
   "cell_type": "code",
   "execution_count": 35,
   "id": "90e9d64a",
   "metadata": {},
   "outputs": [
    {
     "name": "stdout",
     "output_type": "stream",
     "text": [
      "Kathleen Hess 114\n",
      "Heidi Davis 36\n",
      "Bryan Conner 11\n",
      "Eric Logan 15\n",
      "Sarah Cunningham 100\n",
      "Mrs. Tammy Elliott 21\n",
      "Stephanie Gardner 33\n",
      "Hector Johnson 19\n",
      "Katherine Payne 33\n",
      "Carlos Wolfe 72\n",
      "Mason Shaw 58\n",
      "Brian Pham 76\n",
      "Elizabeth Doyle 33\n",
      "Charles Jackson 14\n",
      "Lisa Cox 13\n",
      "Julie Elliott 11\n",
      "Anne Campbell 80\n",
      "Dr. Diane Fletcher 39\n",
      "Mary Robbins 10\n",
      "Dustin Robinson 100\n"
     ]
    }
   ],
   "source": [
    "for obj in objs[:20]:\n",
    "    print(obj.name, obj.age)"
   ]
  },
  {
   "cell_type": "code",
   "execution_count": 36,
   "id": "26af708a",
   "metadata": {},
   "outputs": [
    {
     "data": {
      "text/plain": [
       "{'sql': 'SELECT DISTINCT \"author_model\".\"id\", \"author_model\".\"name\", \"author_model\".\"email\", \"author_model\".\"age\", \"author_model\".\"creation_date\", \"author_model\".\"updation_date\" FROM \"author_model\" LIMIT 20',\n",
       " 'time': '0.001'}"
      ]
     },
     "execution_count": 36,
     "metadata": {},
     "output_type": "execute_result"
    }
   ],
   "source": [
    "get_query()[-1]"
   ]
  },
  {
   "cell_type": "markdown",
   "id": "7273b977",
   "metadata": {},
   "source": [
    "<a id=\"3.f\"></a>\n",
    "### values\n",
    "\n",
    "Django Documentation - https://docs.djangoproject.com/en/4.2/ref/models/querysets/#values"
   ]
  },
  {
   "cell_type": "code",
   "execution_count": 37,
   "id": "c9de8e72",
   "metadata": {},
   "outputs": [
    {
     "data": {
      "text/plain": [
       "<QuerySet [{'id': 1, 'name': 'Kathleen Hess', 'email': None, 'age': 114, 'creation_date': datetime.datetime(2023, 7, 8, 14, 45, 45, 208582, tzinfo=datetime.timezone.utc), 'updation_date': datetime.datetime(2023, 7, 8, 16, 43, 0, 198996, tzinfo=datetime.timezone.utc)}, {'id': 2, 'name': 'Heidi Davis', 'email': None, 'age': 36, 'creation_date': datetime.datetime(2023, 7, 8, 14, 45, 45, 208636, tzinfo=datetime.timezone.utc), 'updation_date': datetime.datetime(2023, 7, 8, 14, 45, 45, 208647, tzinfo=datetime.timezone.utc)}, {'id': 3, 'name': 'Bryan Conner', 'email': None, 'age': 11, 'creation_date': datetime.datetime(2023, 7, 8, 14, 45, 45, 208662, tzinfo=datetime.timezone.utc), 'updation_date': datetime.datetime(2023, 7, 8, 14, 45, 45, 208671, tzinfo=datetime.timezone.utc)}, {'id': 4, 'name': 'Eric Logan', 'email': None, 'age': 15, 'creation_date': datetime.datetime(2023, 7, 8, 14, 45, 45, 208686, tzinfo=datetime.timezone.utc), 'updation_date': datetime.datetime(2023, 7, 8, 14, 45, 45, 208695, tzinfo=datetime.timezone.utc)}, {'id': 5, 'name': 'Sarah Cunningham', 'email': None, 'age': 100, 'creation_date': datetime.datetime(2023, 7, 8, 14, 45, 45, 208710, tzinfo=datetime.timezone.utc), 'updation_date': datetime.datetime(2023, 7, 8, 14, 45, 45, 208718, tzinfo=datetime.timezone.utc)}]>"
      ]
     },
     "execution_count": 37,
     "metadata": {},
     "output_type": "execute_result"
    }
   ],
   "source": [
    "Author.objects.values()[:5]"
   ]
  },
  {
   "cell_type": "code",
   "execution_count": 38,
   "id": "0c69fc14",
   "metadata": {},
   "outputs": [
    {
     "name": "stdout",
     "output_type": "stream",
     "text": [
      "query is {'sql': 'SELECT \"author_model\".\"id\", \"author_model\".\"name\", \"author_model\".\"email\", \"author_model\".\"age\", \"author_model\".\"creation_date\", \"author_model\".\"updation_date\" FROM \"author_model\" LIMIT 5', 'time': '0.001'}\n"
     ]
    }
   ],
   "source": [
    "print(f\"query is {get_query()[-1]}\")"
   ]
  },
  {
   "cell_type": "code",
   "execution_count": 39,
   "id": "7fc2ce78",
   "metadata": {},
   "outputs": [
    {
     "data": {
      "text/plain": [
       "<QuerySet [{'name': 'Kathleen Hess'}, {'name': 'Heidi Davis'}, {'name': 'Bryan Conner'}, {'name': 'Eric Logan'}, {'name': 'Sarah Cunningham'}, {'name': 'Mrs. Tammy Elliott'}, {'name': 'Stephanie Gardner'}, {'name': 'Hector Johnson'}, {'name': 'Katherine Payne'}, {'name': 'Carlos Wolfe'}, {'name': 'Mason Shaw'}, {'name': 'Brian Pham'}, {'name': 'Elizabeth Doyle'}, {'name': 'Charles Jackson'}, {'name': 'Lisa Cox'}, {'name': 'Julie Elliott'}, {'name': 'Anne Campbell'}, {'name': 'Dr. Diane Fletcher'}, {'name': 'Mary Robbins'}, {'name': 'Dustin Robinson'}, '...(remaining elements truncated)...']>"
      ]
     },
     "execution_count": 39,
     "metadata": {},
     "output_type": "execute_result"
    }
   ],
   "source": [
    "Author.objects.values(\"name\")"
   ]
  },
  {
   "cell_type": "code",
   "execution_count": 40,
   "id": "6c346cda",
   "metadata": {},
   "outputs": [
    {
     "name": "stdout",
     "output_type": "stream",
     "text": [
      "query is {'sql': 'SELECT \"author_model\".\"name\" FROM \"author_model\" LIMIT 21', 'time': '0.001'}\n"
     ]
    }
   ],
   "source": [
    "print(f\"query is {get_query()[-1]}\")"
   ]
  },
  {
   "cell_type": "code",
   "execution_count": 42,
   "id": "4ea12e12",
   "metadata": {},
   "outputs": [
    {
     "data": {
      "text/plain": [
       "<QuerySet [{'blog_entry': 112}, {'blog_entry': 122}, {'blog_entry': 108}, {'blog_entry': 87}, {'blog_entry': 102}, {'blog_entry': 97}, {'blog_entry': 102}, {'blog_entry': 111}, {'blog_entry': 89}, {'blog_entry': 109}, {'blog_entry': 73}, {'blog_entry': 87}, {'blog_entry': 102}, {'blog_entry': 91}, {'blog_entry': 90}, {'blog_entry': 99}, {'blog_entry': 86}, {'blog_entry': 96}, {'blog_entry': 98}, {'blog_entry': 95}, '...(remaining elements truncated)...']>"
      ]
     },
     "execution_count": 42,
     "metadata": {},
     "output_type": "execute_result"
    }
   ],
   "source": [
    "from django.db.models import Count\n",
    "Author.objects.all().values(blog_entry=Count(\"author_blog\"))"
   ]
  },
  {
   "cell_type": "code",
   "execution_count": 43,
   "id": "d69e8e4d",
   "metadata": {},
   "outputs": [
    {
     "name": "stdout",
     "output_type": "stream",
     "text": [
      "query is {'sql': 'SELECT COUNT(\"blog_model\".\"id\") AS \"blog_entry\" FROM \"author_model\" LEFT OUTER JOIN \"blog_model\" ON (\"author_model\".\"id\" = \"blog_model\".\"author_id\") GROUP BY \"author_model\".\"id\", \"author_model\".\"name\", \"author_model\".\"email\", \"author_model\".\"age\", \"author_model\".\"creation_date\", \"author_model\".\"updation_date\" LIMIT 21', 'time': '0.001'}\n"
     ]
    }
   ],
   "source": [
    "print(f\"query is {get_query()[-1]}\")"
   ]
  },
  {
   "cell_type": "markdown",
   "id": "5c48ed2d",
   "metadata": {},
   "source": [
    "<a id=\"3.g\"></a>\n",
    "### values_list\n",
    "\n",
    "Django Documentation - https://docs.djangoproject.com/en/4.2/ref/models/querysets/#values-list"
   ]
  },
  {
   "cell_type": "code",
   "execution_count": 44,
   "id": "8ce41c0c",
   "metadata": {},
   "outputs": [
    {
     "data": {
      "text/plain": [
       "<QuerySet [(1, 'Kathleen Hess', None, 114, datetime.datetime(2023, 7, 8, 14, 45, 45, 208582, tzinfo=datetime.timezone.utc), datetime.datetime(2023, 7, 8, 16, 43, 0, 198996, tzinfo=datetime.timezone.utc)), (2, 'Heidi Davis', None, 36, datetime.datetime(2023, 7, 8, 14, 45, 45, 208636, tzinfo=datetime.timezone.utc), datetime.datetime(2023, 7, 8, 14, 45, 45, 208647, tzinfo=datetime.timezone.utc)), (3, 'Bryan Conner', None, 11, datetime.datetime(2023, 7, 8, 14, 45, 45, 208662, tzinfo=datetime.timezone.utc), datetime.datetime(2023, 7, 8, 14, 45, 45, 208671, tzinfo=datetime.timezone.utc)), (4, 'Eric Logan', None, 15, datetime.datetime(2023, 7, 8, 14, 45, 45, 208686, tzinfo=datetime.timezone.utc), datetime.datetime(2023, 7, 8, 14, 45, 45, 208695, tzinfo=datetime.timezone.utc)), (5, 'Sarah Cunningham', None, 100, datetime.datetime(2023, 7, 8, 14, 45, 45, 208710, tzinfo=datetime.timezone.utc), datetime.datetime(2023, 7, 8, 14, 45, 45, 208718, tzinfo=datetime.timezone.utc))]>"
      ]
     },
     "execution_count": 44,
     "metadata": {},
     "output_type": "execute_result"
    }
   ],
   "source": [
    "Author.objects.values_list()[:5]"
   ]
  },
  {
   "cell_type": "code",
   "execution_count": 45,
   "id": "c2977b0d",
   "metadata": {},
   "outputs": [
    {
     "name": "stdout",
     "output_type": "stream",
     "text": [
      "query is {'sql': 'SELECT \"author_model\".\"id\", \"author_model\".\"name\", \"author_model\".\"email\", \"author_model\".\"age\", \"author_model\".\"creation_date\", \"author_model\".\"updation_date\" FROM \"author_model\" LIMIT 5', 'time': '0.001'}\n"
     ]
    }
   ],
   "source": [
    "print(f\"query is {get_query()[-1]}\")"
   ]
  },
  {
   "cell_type": "code",
   "execution_count": 46,
   "id": "5596eec1",
   "metadata": {},
   "outputs": [
    {
     "data": {
      "text/plain": [
       "<QuerySet [('Kathleen Hess',), ('Heidi Davis',), ('Bryan Conner',), ('Eric Logan',), ('Sarah Cunningham',), ('Mrs. Tammy Elliott',), ('Stephanie Gardner',), ('Hector Johnson',), ('Katherine Payne',), ('Carlos Wolfe',), ('Mason Shaw',), ('Brian Pham',), ('Elizabeth Doyle',), ('Charles Jackson',), ('Lisa Cox',), ('Julie Elliott',), ('Anne Campbell',), ('Dr. Diane Fletcher',), ('Mary Robbins',), ('Dustin Robinson',), '...(remaining elements truncated)...']>"
      ]
     },
     "execution_count": 46,
     "metadata": {},
     "output_type": "execute_result"
    }
   ],
   "source": [
    "Author.objects.values_list(\"name\")"
   ]
  },
  {
   "cell_type": "code",
   "execution_count": 47,
   "id": "00856c5e",
   "metadata": {},
   "outputs": [
    {
     "name": "stdout",
     "output_type": "stream",
     "text": [
      "query is {'sql': 'SELECT \"author_model\".\"name\" FROM \"author_model\" LIMIT 21', 'time': '0.001'}\n"
     ]
    }
   ],
   "source": [
    "print(f\"query is {get_query()[-1]}\")"
   ]
  },
  {
   "cell_type": "code",
   "execution_count": 48,
   "id": "19014ec3",
   "metadata": {},
   "outputs": [
    {
     "data": {
      "text/plain": [
       "<QuerySet ['Kathleen Hess', 'Heidi Davis', 'Bryan Conner', 'Eric Logan', 'Sarah Cunningham', 'Mrs. Tammy Elliott', 'Stephanie Gardner', 'Hector Johnson', 'Katherine Payne', 'Carlos Wolfe', 'Mason Shaw', 'Brian Pham', 'Elizabeth Doyle', 'Charles Jackson', 'Lisa Cox', 'Julie Elliott', 'Anne Campbell', 'Dr. Diane Fletcher', 'Mary Robbins', 'Dustin Robinson', '...(remaining elements truncated)...']>"
      ]
     },
     "execution_count": 48,
     "metadata": {},
     "output_type": "execute_result"
    }
   ],
   "source": [
    "Author.objects.values_list(\"name\", flat=True)"
   ]
  },
  {
   "cell_type": "markdown",
   "id": "d582c84e",
   "metadata": {},
   "source": [
    "<a id=\"3.h\"></a>\n",
    "### all\n",
    "\n",
    "Django Documentation - https://docs.djangoproject.com/en/4.2/ref/models/querysets/#all"
   ]
  },
  {
   "cell_type": "code",
   "execution_count": 49,
   "id": "2e5fed9b",
   "metadata": {},
   "outputs": [
    {
     "data": {
      "text/plain": [
       "<QuerySet [<Author: Kathleen Hess>, <Author: Heidi Davis>, <Author: Bryan Conner>, <Author: Eric Logan>, <Author: Sarah Cunningham>, <Author: Mrs. Tammy Elliott>, <Author: Stephanie Gardner>, <Author: Hector Johnson>, <Author: Katherine Payne>, <Author: Carlos Wolfe>, <Author: Mason Shaw>, <Author: Brian Pham>, <Author: Elizabeth Doyle>, <Author: Charles Jackson>, <Author: Lisa Cox>, <Author: Julie Elliott>, <Author: Anne Campbell>, <Author: Dr. Diane Fletcher>, <Author: Mary Robbins>, <Author: Dustin Robinson>, '...(remaining elements truncated)...']>"
      ]
     },
     "execution_count": 49,
     "metadata": {},
     "output_type": "execute_result"
    }
   ],
   "source": [
    "Author.objects.all()"
   ]
  },
  {
   "cell_type": "code",
   "execution_count": 50,
   "id": "05fc4ae6",
   "metadata": {},
   "outputs": [
    {
     "name": "stdout",
     "output_type": "stream",
     "text": [
      "query is {'sql': 'SELECT \"author_model\".\"id\", \"author_model\".\"name\", \"author_model\".\"email\", \"author_model\".\"age\", \"author_model\".\"creation_date\", \"author_model\".\"updation_date\" FROM \"author_model\" LIMIT 21', 'time': '0.001'}\n"
     ]
    }
   ],
   "source": [
    "print(f\"query is {get_query()[-1]}\")"
   ]
  },
  {
   "cell_type": "markdown",
   "id": "a3ded31a",
   "metadata": {},
   "source": [
    "<a id=\"3.i\"></a>\n",
    "### union\n",
    "\n",
    "Django Documentation - https://docs.djangoproject.com/en/4.2/ref/models/querysets/#union"
   ]
  },
  {
   "cell_type": "code",
   "execution_count": 51,
   "id": "b2543cd4",
   "metadata": {},
   "outputs": [],
   "source": [
    "qs1 = Author.objects.values_list(\"name\")\n",
    "qs2 = Author.objects.values_list(\"age\")"
   ]
  },
  {
   "cell_type": "code",
   "execution_count": 52,
   "id": "8b094211",
   "metadata": {},
   "outputs": [
    {
     "data": {
      "text/plain": [
       "<QuerySet [('Kathleen Hess',), ('Heidi Davis',), ('Bryan Conner',), ('Eric Logan',), ('Sarah Cunningham',), ('Mrs. Tammy Elliott',), ('Stephanie Gardner',), ('Hector Johnson',), ('Katherine Payne',), ('Carlos Wolfe',), ('Mason Shaw',), ('Brian Pham',), ('Elizabeth Doyle',), ('Charles Jackson',), ('Lisa Cox',), ('Julie Elliott',), ('Anne Campbell',), ('Dr. Diane Fletcher',), ('Mary Robbins',), ('Dustin Robinson',), '...(remaining elements truncated)...']>"
      ]
     },
     "execution_count": 52,
     "metadata": {},
     "output_type": "execute_result"
    }
   ],
   "source": [
    "qs1"
   ]
  },
  {
   "cell_type": "code",
   "execution_count": 53,
   "id": "2185e87d",
   "metadata": {},
   "outputs": [
    {
     "data": {
      "text/plain": [
       "<QuerySet [(114,), (36,), (11,), (15,), (100,), (21,), (33,), (19,), (33,), (72,), (58,), (76,), (33,), (14,), (13,), (11,), (80,), (39,), (10,), (100,), '...(remaining elements truncated)...']>"
      ]
     },
     "execution_count": 53,
     "metadata": {},
     "output_type": "execute_result"
    }
   ],
   "source": [
    "qs2"
   ]
  },
  {
   "cell_type": "code",
   "execution_count": 54,
   "id": "5482f029",
   "metadata": {},
   "outputs": [
    {
     "name": "stdout",
     "output_type": "stream",
     "text": [
      "(None,)\n",
      "(1,)\n",
      "(3,)\n",
      "(4,)\n",
      "(5,)\n",
      "(6,)\n",
      "(8,)\n",
      "(10,)\n",
      "(11,)\n",
      "(13,)\n",
      "(14,)\n",
      "(15,)\n",
      "(16,)\n",
      "(18,)\n",
      "(19,)\n",
      "(21,)\n",
      "(22,)\n",
      "(23,)\n",
      "(25,)\n",
      "(27,)\n",
      "(28,)\n",
      "(31,)\n",
      "(32,)\n",
      "(33,)\n",
      "(36,)\n",
      "(37,)\n",
      "(39,)\n",
      "(40,)\n",
      "(41,)\n",
      "(43,)\n",
      "(45,)\n",
      "(51,)\n",
      "(52,)\n",
      "(53,)\n",
      "(56,)\n",
      "(57,)\n",
      "(58,)\n",
      "(60,)\n",
      "(63,)\n",
      "(64,)\n",
      "(66,)\n",
      "(67,)\n",
      "(69,)\n",
      "(70,)\n",
      "(71,)\n",
      "(72,)\n",
      "(74,)\n",
      "(76,)\n",
      "(78,)\n",
      "(80,)\n",
      "(83,)\n",
      "(86,)\n",
      "(87,)\n",
      "(89,)\n",
      "(91,)\n",
      "(94,)\n",
      "(95,)\n",
      "(98,)\n",
      "(99,)\n",
      "(100,)\n",
      "(114,)\n",
      "('Alexandra West',)\n",
      "('Angela Potts',)\n",
      "('Ann Lewis',)\n",
      "('Anna Gibson',)\n",
      "('Anne Campbell',)\n",
      "('April Medina',)\n",
      "('Austin Chang',)\n",
      "('Brandi Alvarado',)\n",
      "('Brandy Chapman',)\n",
      "('Brian Navarro',)\n",
      "('Brian Pham',)\n",
      "('Bryan Conner',)\n",
      "('Bryan Hays',)\n",
      "('Cameron Carpenter',)\n",
      "('Carlos Wolfe',)\n",
      "('Carmen Smith',)\n",
      "('Carrie Thompson',)\n",
      "('Catherine Gonzales',)\n",
      "('Charles Jackson',)\n",
      "('Chelsea Johnson',)\n",
      "('Chelsey Carey',)\n",
      "('Christine Richards',)\n",
      "('Christopher Jones',)\n",
      "('Curtis Mueller',)\n",
      "('Cynthia Brown',)\n",
      "('Cynthia Stevens',)\n",
      "('Daniel Anderson',)\n",
      "('Daniel Hansen',)\n",
      "('Danielle Martin',)\n",
      "('Deborah Roy',)\n",
      "('Derek Reeves',)\n",
      "('Devon Warner',)\n",
      "('Douglas Hernandez',)\n",
      "('Dr. Diane Fletcher',)\n",
      "('Dustin Robinson',)\n",
      "('Edward Shaw',)\n",
      "('Elizabeth Doyle',)\n",
      "('Eric Logan',)\n",
      "('Eric Whitehead',)\n",
      "('Gary French',)\n",
      "('Heather Brown',)\n",
      "('Hector Johnson',)\n",
      "('Heidi Davis',)\n",
      "('Jennifer Bowman',)\n",
      "('Jennifer Ray',)\n",
      "('Jeremy Pope',)\n",
      "('Julie Elliott',)\n",
      "('Katherine Payne',)\n",
      "('Kathleen Hess',)\n",
      "('Kimberly Perez',)\n",
      "('Kyle Jones',)\n",
      "('Kyle Rodgers',)\n",
      "('Lisa Adams',)\n",
      "('Lisa Baker',)\n",
      "('Lisa Cox',)\n",
      "('Margaret Mccoy',)\n",
      "('Mark Crawford',)\n",
      "('Mark Thomas',)\n",
      "('Mary Collins',)\n",
      "('Mary Robbins',)\n",
      "('Mason Shaw',)\n",
      "('Matthew Jones',)\n",
      "('Megan Woodard',)\n",
      "('Melissa Wise',)\n",
      "('Michael Dixon',)\n",
      "('Michele Grant',)\n",
      "('Michele Snyder',)\n",
      "('Michelle Floyd',)\n",
      "('Miss Lindsey Campbell',)\n",
      "('Mitchell Farrell',)\n",
      "('Mitchell King',)\n",
      "('Mr. Danny Rhodes',)\n",
      "('Mrs. Tammy Elliott',)\n",
      "('Nathan Oconnor',)\n",
      "('Nicholas Taylor',)\n",
      "('Nicole Owens PhD',)\n",
      "('Randall Baker',)\n",
      "('Rebecca Johnson',)\n",
      "('Regina Rodriguez',)\n",
      "('Reginald Davies',)\n",
      "('Robert Duran',)\n",
      "('Ruth Burnett',)\n",
      "('Sandra Heath',)\n",
      "('Sarah Cunningham',)\n",
      "('Shannon Doyle',)\n",
      "('Sherry Lopez',)\n",
      "('Stephanie Gardner',)\n",
      "('Stephanie Peterson',)\n",
      "('Stephanie Ramsey',)\n",
      "('Stephanie Roberts',)\n",
      "('Steve Thomas',)\n",
      "('Sylvia Kelly',)\n",
      "('Tara Avila DDS',)\n",
      "('Taylor Becker',)\n",
      "('Techsunami',)\n",
      "('Tristan Logan',)\n",
      "('Vanessa Wilkinson',)\n",
      "('Vincent White MD',)\n",
      "('Wendy Baker',)\n",
      "('Wendy Chandler',)\n",
      "('William Coleman',)\n"
     ]
    }
   ],
   "source": [
    "for obj in qs1.union(qs2):\n",
    "    print(obj)"
   ]
  },
  {
   "cell_type": "code",
   "execution_count": 55,
   "id": "ead2e3df",
   "metadata": {},
   "outputs": [
    {
     "data": {
      "text/plain": [
       "{'sql': 'SELECT \"author_model\".\"name\" AS \"col1\" FROM \"author_model\" UNION SELECT \"author_model\".\"age\" AS \"col1\" FROM \"author_model\"',\n",
       " 'time': '0.001'}"
      ]
     },
     "execution_count": 55,
     "metadata": {},
     "output_type": "execute_result"
    }
   ],
   "source": [
    "get_query()[-1]"
   ]
  },
  {
   "cell_type": "markdown",
   "id": "35b8be29",
   "metadata": {},
   "source": [
    "<a id=\"3.j\"></a>\n",
    "### intersection\n",
    "\n",
    "Django Documentation - https://docs.djangoproject.com/en/4.2/ref/models/querysets/#intersection"
   ]
  },
  {
   "cell_type": "code",
   "execution_count": 56,
   "id": "3040fdc1",
   "metadata": {},
   "outputs": [],
   "source": [
    "qs1 = Author.objects.filter(Q(age__lt = 20) & Q(age__gt = 10)).values_list(\"age\", flat=True)"
   ]
  },
  {
   "cell_type": "code",
   "execution_count": 57,
   "id": "248005d6",
   "metadata": {},
   "outputs": [],
   "source": [
    "qs2 = Author.objects.filter(Q(age__lt = 15) & Q(age__gt = 5)).values_list(\"age\", flat=True)"
   ]
  },
  {
   "cell_type": "code",
   "execution_count": 58,
   "id": "75f22e7d",
   "metadata": {},
   "outputs": [
    {
     "data": {
      "text/plain": [
       "<QuerySet [11, 15, 19, 14, 13, 11, 19, 18, 18, 18, 16]>"
      ]
     },
     "execution_count": 58,
     "metadata": {},
     "output_type": "execute_result"
    }
   ],
   "source": [
    "qs1"
   ]
  },
  {
   "cell_type": "code",
   "execution_count": 59,
   "id": "092d0efc",
   "metadata": {},
   "outputs": [
    {
     "data": {
      "text/plain": [
       "<QuerySet [11, 14, 13, 11, 10, 8, 10, 6, 8, 6]>"
      ]
     },
     "execution_count": 59,
     "metadata": {},
     "output_type": "execute_result"
    }
   ],
   "source": [
    "qs2"
   ]
  },
  {
   "cell_type": "code",
   "execution_count": 60,
   "id": "83b75d66",
   "metadata": {},
   "outputs": [
    {
     "data": {
      "text/plain": [
       "<QuerySet [11, 13, 14]>"
      ]
     },
     "execution_count": 60,
     "metadata": {},
     "output_type": "execute_result"
    }
   ],
   "source": [
    "qs1.intersection(qs2)"
   ]
  },
  {
   "cell_type": "code",
   "execution_count": null,
   "id": "b565dacb",
   "metadata": {},
   "outputs": [],
   "source": [
    "get_query()[-1]"
   ]
  },
  {
   "cell_type": "markdown",
   "id": "144d94a7",
   "metadata": {},
   "source": [
    "<a id=\"3.k\"></a>\n",
    "### difference\n",
    "\n",
    "Django Documentation - https://docs.djangoproject.com/en/4.2/ref/models/querysets/#difference"
   ]
  },
  {
   "cell_type": "code",
   "execution_count": 66,
   "id": "e345f63d",
   "metadata": {},
   "outputs": [],
   "source": [
    "qs1 = Author.objects.filter(Q(age__lt = 20) & Q(age__gt = 10)).values_list(\"age\", flat=True)"
   ]
  },
  {
   "cell_type": "code",
   "execution_count": 67,
   "id": "df802bff",
   "metadata": {},
   "outputs": [],
   "source": [
    "qs2 = Author.objects.filter(Q(age__lt = 15) & Q(age__gt = 5)).values_list(\"age\", flat=True)"
   ]
  },
  {
   "cell_type": "code",
   "execution_count": 68,
   "id": "c66a70ee",
   "metadata": {},
   "outputs": [
    {
     "data": {
      "text/plain": [
       "<QuerySet [11, 15, 19, 14, 13, 11, 19, 18, 18, 18, 16]>"
      ]
     },
     "execution_count": 68,
     "metadata": {},
     "output_type": "execute_result"
    }
   ],
   "source": [
    "qs1"
   ]
  },
  {
   "cell_type": "code",
   "execution_count": 69,
   "id": "185bf247",
   "metadata": {},
   "outputs": [
    {
     "data": {
      "text/plain": [
       "<QuerySet [11, 14, 13, 11, 10, 8, 10, 6, 8, 6]>"
      ]
     },
     "execution_count": 69,
     "metadata": {},
     "output_type": "execute_result"
    }
   ],
   "source": [
    "qs2"
   ]
  },
  {
   "cell_type": "code",
   "execution_count": 70,
   "id": "a8fbe122",
   "metadata": {},
   "outputs": [
    {
     "data": {
      "text/plain": [
       "<QuerySet [6, 8, 10]>"
      ]
     },
     "execution_count": 70,
     "metadata": {},
     "output_type": "execute_result"
    }
   ],
   "source": [
    "qs2.difference(qs1)"
   ]
  },
  {
   "cell_type": "code",
   "execution_count": 71,
   "id": "0f10a1f3",
   "metadata": {},
   "outputs": [
    {
     "data": {
      "text/plain": [
       "{'sql': 'SELECT \"author_model\".\"age\" AS \"col1\" FROM \"author_model\" WHERE (\"author_model\".\"age\" < 15 AND \"author_model\".\"age\" > 5) EXCEPT SELECT \"author_model\".\"age\" AS \"col1\" FROM \"author_model\" WHERE (\"author_model\".\"age\" < 20 AND \"author_model\".\"age\" > 10) LIMIT 21',\n",
       " 'time': '0.000'}"
      ]
     },
     "execution_count": 71,
     "metadata": {},
     "output_type": "execute_result"
    }
   ],
   "source": [
    "get_query()[-1]"
   ]
  },
  {
   "cell_type": "markdown",
   "id": "621db3d3",
   "metadata": {},
   "source": [
    "<a id=\"3.l\"></a>\n",
    "### Only\n",
    "\n",
    "Django Documentation - https://docs.djangoproject.com/en/4.2/ref/models/querysets/#only"
   ]
  },
  {
   "cell_type": "code",
   "execution_count": 72,
   "id": "8b1a71f4",
   "metadata": {},
   "outputs": [],
   "source": [
    "objs = Author.objects.only(\"name\")"
   ]
  },
  {
   "cell_type": "code",
   "execution_count": 73,
   "id": "e80b75d7",
   "metadata": {},
   "outputs": [
    {
     "name": "stdout",
     "output_type": "stream",
     "text": [
      "{'_state': <django.db.models.base.ModelState object at 0x1080d39a0>, 'id': 1, 'name': 'Kathleen Hess'}\n",
      "{'_state': <django.db.models.base.ModelState object at 0x1080827a0>, 'id': 2, 'name': 'Heidi Davis'}\n",
      "{'_state': <django.db.models.base.ModelState object at 0x108082230>, 'id': 3, 'name': 'Bryan Conner'}\n",
      "{'_state': <django.db.models.base.ModelState object at 0x108083f10>, 'id': 4, 'name': 'Eric Logan'}\n",
      "{'_state': <django.db.models.base.ModelState object at 0x108081750>, 'id': 5, 'name': 'Sarah Cunningham'}\n",
      "{'_state': <django.db.models.base.ModelState object at 0x1081205e0>, 'id': 6, 'name': 'Mrs. Tammy Elliott'}\n",
      "{'_state': <django.db.models.base.ModelState object at 0x108120b50>, 'id': 7, 'name': 'Stephanie Gardner'}\n",
      "{'_state': <django.db.models.base.ModelState object at 0x108120b80>, 'id': 8, 'name': 'Hector Johnson'}\n",
      "{'_state': <django.db.models.base.ModelState object at 0x108120370>, 'id': 9, 'name': 'Katherine Payne'}\n",
      "{'_state': <django.db.models.base.ModelState object at 0x108120910>, 'id': 10, 'name': 'Carlos Wolfe'}\n"
     ]
    }
   ],
   "source": [
    "for obj in objs[:10]:\n",
    "    print(obj.__dict__)"
   ]
  },
  {
   "cell_type": "code",
   "execution_count": 74,
   "id": "e43d9002",
   "metadata": {},
   "outputs": [
    {
     "data": {
      "text/plain": [
       "{'sql': 'SELECT \"author_model\".\"id\", \"author_model\".\"name\" FROM \"author_model\" LIMIT 10',\n",
       " 'time': '0.001'}"
      ]
     },
     "execution_count": 74,
     "metadata": {},
     "output_type": "execute_result"
    }
   ],
   "source": [
    "get_query()[-1]"
   ]
  },
  {
   "cell_type": "markdown",
   "id": "011c5bc1",
   "metadata": {},
   "source": [
    "<a id=\"3.m\"></a>\n",
    "### defer\n",
    "\n",
    "Django Documentation - https://docs.djangoproject.com/en/4.2/ref/models/querysets/#defer"
   ]
  },
  {
   "cell_type": "code",
   "execution_count": 75,
   "id": "90c7cf75",
   "metadata": {},
   "outputs": [],
   "source": [
    "objs = Author.objects.defer(\"name\")"
   ]
  },
  {
   "cell_type": "code",
   "execution_count": 76,
   "id": "0506a640",
   "metadata": {},
   "outputs": [
    {
     "name": "stdout",
     "output_type": "stream",
     "text": [
      "{'_state': <django.db.models.base.ModelState object at 0x1081202e0>, 'id': 1, 'email': None, 'age': 114, 'creation_date': datetime.datetime(2023, 7, 8, 14, 45, 45, 208582, tzinfo=datetime.timezone.utc), 'updation_date': datetime.datetime(2023, 7, 8, 16, 43, 0, 198996, tzinfo=datetime.timezone.utc)}\n",
      "{'_state': <django.db.models.base.ModelState object at 0x108120a30>, 'id': 2, 'email': None, 'age': 36, 'creation_date': datetime.datetime(2023, 7, 8, 14, 45, 45, 208636, tzinfo=datetime.timezone.utc), 'updation_date': datetime.datetime(2023, 7, 8, 14, 45, 45, 208647, tzinfo=datetime.timezone.utc)}\n",
      "{'_state': <django.db.models.base.ModelState object at 0x1081207f0>, 'id': 3, 'email': None, 'age': 11, 'creation_date': datetime.datetime(2023, 7, 8, 14, 45, 45, 208662, tzinfo=datetime.timezone.utc), 'updation_date': datetime.datetime(2023, 7, 8, 14, 45, 45, 208671, tzinfo=datetime.timezone.utc)}\n",
      "{'_state': <django.db.models.base.ModelState object at 0x108120490>, 'id': 4, 'email': None, 'age': 15, 'creation_date': datetime.datetime(2023, 7, 8, 14, 45, 45, 208686, tzinfo=datetime.timezone.utc), 'updation_date': datetime.datetime(2023, 7, 8, 14, 45, 45, 208695, tzinfo=datetime.timezone.utc)}\n",
      "{'_state': <django.db.models.base.ModelState object at 0x108120c40>, 'id': 5, 'email': None, 'age': 100, 'creation_date': datetime.datetime(2023, 7, 8, 14, 45, 45, 208710, tzinfo=datetime.timezone.utc), 'updation_date': datetime.datetime(2023, 7, 8, 14, 45, 45, 208718, tzinfo=datetime.timezone.utc)}\n",
      "{'_state': <django.db.models.base.ModelState object at 0x108120d00>, 'id': 6, 'email': None, 'age': 21, 'creation_date': datetime.datetime(2023, 7, 8, 14, 45, 45, 208732, tzinfo=datetime.timezone.utc), 'updation_date': datetime.datetime(2023, 7, 8, 14, 45, 45, 208740, tzinfo=datetime.timezone.utc)}\n",
      "{'_state': <django.db.models.base.ModelState object at 0x108120dc0>, 'id': 7, 'email': None, 'age': 33, 'creation_date': datetime.datetime(2023, 7, 8, 14, 45, 45, 208754, tzinfo=datetime.timezone.utc), 'updation_date': datetime.datetime(2023, 7, 8, 14, 45, 45, 208763, tzinfo=datetime.timezone.utc)}\n",
      "{'_state': <django.db.models.base.ModelState object at 0x108120e80>, 'id': 8, 'email': None, 'age': 19, 'creation_date': datetime.datetime(2023, 7, 8, 14, 45, 45, 208777, tzinfo=datetime.timezone.utc), 'updation_date': datetime.datetime(2023, 7, 8, 14, 45, 45, 208785, tzinfo=datetime.timezone.utc)}\n",
      "{'_state': <django.db.models.base.ModelState object at 0x108120f40>, 'id': 9, 'email': None, 'age': 33, 'creation_date': datetime.datetime(2023, 7, 8, 14, 45, 45, 208799, tzinfo=datetime.timezone.utc), 'updation_date': datetime.datetime(2023, 7, 8, 14, 45, 45, 208807, tzinfo=datetime.timezone.utc)}\n",
      "{'_state': <django.db.models.base.ModelState object at 0x108121000>, 'id': 10, 'email': None, 'age': 72, 'creation_date': datetime.datetime(2023, 7, 8, 14, 45, 45, 208821, tzinfo=datetime.timezone.utc), 'updation_date': datetime.datetime(2023, 7, 8, 14, 45, 45, 208866, tzinfo=datetime.timezone.utc)}\n"
     ]
    }
   ],
   "source": [
    "for obj in objs[:10]:\n",
    "    print(obj.__dict__)"
   ]
  },
  {
   "cell_type": "code",
   "execution_count": 77,
   "id": "5242c36c",
   "metadata": {},
   "outputs": [
    {
     "data": {
      "text/plain": [
       "{'sql': 'SELECT \"author_model\".\"id\", \"author_model\".\"email\", \"author_model\".\"age\", \"author_model\".\"creation_date\", \"author_model\".\"updation_date\" FROM \"author_model\" LIMIT 10',\n",
       " 'time': '0.001'}"
      ]
     },
     "execution_count": 77,
     "metadata": {},
     "output_type": "execute_result"
    }
   ],
   "source": [
    "get_query()[-1]"
   ]
  },
  {
   "cell_type": "markdown",
   "id": "239792f7",
   "metadata": {},
   "source": [
    "<a id=\"3.o\"></a>\n",
    "### raw\n",
    "\n",
    "Django Documentation - https://docs.djangoproject.com/en/4.2/ref/models/querysets/#raw"
   ]
  },
  {
   "cell_type": "code",
   "execution_count": 78,
   "id": "f5d6de17",
   "metadata": {},
   "outputs": [],
   "source": [
    "objs = Author.objects.raw(\"SELECT * FROM AUTHOR_MODEL\")"
   ]
  },
  {
   "cell_type": "code",
   "execution_count": 79,
   "id": "1e33238a",
   "metadata": {},
   "outputs": [
    {
     "name": "stdout",
     "output_type": "stream",
     "text": [
      "Kathleen Hess 114\n",
      "Heidi Davis 36\n",
      "Bryan Conner 11\n",
      "Eric Logan 15\n",
      "Sarah Cunningham 100\n",
      "Mrs. Tammy Elliott 21\n",
      "Stephanie Gardner 33\n",
      "Hector Johnson 19\n",
      "Katherine Payne 33\n",
      "Carlos Wolfe 72\n"
     ]
    }
   ],
   "source": [
    "for obj in objs[:10]:\n",
    "    print(obj.name, obj.age)"
   ]
  },
  {
   "cell_type": "code",
   "execution_count": 80,
   "id": "4cf0f201",
   "metadata": {},
   "outputs": [
    {
     "data": {
      "text/plain": [
       "{'sql': 'SELECT * FROM AUTHOR_MODEL', 'time': '0.001'}"
      ]
     },
     "execution_count": 80,
     "metadata": {},
     "output_type": "execute_result"
    }
   ],
   "source": [
    "get_query()[-1]"
   ]
  },
  {
   "cell_type": "code",
   "execution_count": null,
   "id": "a5258ab4",
   "metadata": {},
   "outputs": [],
   "source": []
  },
  {
   "cell_type": "code",
   "execution_count": null,
   "id": "af4d0f1f",
   "metadata": {},
   "outputs": [],
   "source": []
  },
  {
   "cell_type": "code",
   "execution_count": null,
   "id": "506279e1",
   "metadata": {},
   "outputs": [],
   "source": []
  },
  {
   "cell_type": "code",
   "execution_count": null,
   "id": "37ed103c",
   "metadata": {},
   "outputs": [],
   "source": []
  },
  {
   "cell_type": "code",
   "execution_count": null,
   "id": "dcfe8da0",
   "metadata": {},
   "outputs": [],
   "source": []
  },
  {
   "cell_type": "code",
   "execution_count": null,
   "id": "aa817d92",
   "metadata": {},
   "outputs": [],
   "source": []
  },
  {
   "cell_type": "code",
   "execution_count": null,
   "id": "ae145c1a",
   "metadata": {},
   "outputs": [],
   "source": []
  },
  {
   "cell_type": "markdown",
   "id": "9da360f0",
   "metadata": {},
   "source": [
    "## Hey.... If You are liked the content Do subscribe to my Youtube Channel\n",
    "https://www.youtube.com/channel/UCpuKtSx_Cu8_ikyhlKAWBYA?sub_confirmation=1\n",
    "\n",
    "<b>Also You can connect with me on Linkedin</b> - https://www.linkedin.com/in/lakshit-ukani/"
   ]
  },
  {
   "cell_type": "code",
   "execution_count": null,
   "id": "dfd82f1e",
   "metadata": {},
   "outputs": [],
   "source": []
  }
 ],
 "metadata": {
  "kernelspec": {
   "display_name": "Django Shell-Plus",
   "language": "python",
   "name": "django_extensions"
  },
  "language_info": {
   "codemirror_mode": {
    "name": "ipython",
    "version": 3
   },
   "file_extension": ".py",
   "mimetype": "text/x-python",
   "name": "python",
   "nbconvert_exporter": "python",
   "pygments_lexer": "ipython3",
   "version": "3.10.11"
  }
 },
 "nbformat": 4,
 "nbformat_minor": 5
}
