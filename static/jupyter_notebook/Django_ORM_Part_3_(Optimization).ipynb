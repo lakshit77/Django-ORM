{
 "cells": [
  {
   "cell_type": "code",
   "execution_count": 51,
   "id": "2228a2f8",
   "metadata": {},
   "outputs": [],
   "source": [
    "# How to Run Django in Jupyter Notebook\n",
    "# https://www.youtube.com/watch?v=TN5zIA--cz4&ab_channel=TechSunami"
   ]
  },
  {
   "cell_type": "code",
   "execution_count": 52,
   "id": "a4537f6e",
   "metadata": {},
   "outputs": [],
   "source": [
    "import os\n",
    "os.environ[\"DJANGO_ALLOW_ASYNC_UNSAFE\"] = \"true\"\n",
    "from django.db import connection\n",
    "from django.db import reset_queries\n",
    "from django.db import models\n",
    "from django_orm_app.models import Author, Blog\n",
    "from faker import Faker \n",
    "import random\n"
   ]
  },
  {
   "cell_type": "code",
   "execution_count": 53,
   "id": "35aa0576",
   "metadata": {},
   "outputs": [],
   "source": [
    "def define_model(model):\n",
    "    print(f\"----------------- {model.__name__}-------------------\")\n",
    "    for field in model._meta.fields:\n",
    "        print(f\"{field.name} --> {field.get_internal_type()}\")\n",
    "    print('\\033[1m' + f\"Table name in database is {model._meta.db_table}\" + '\\033[0m')"
   ]
  },
  {
   "cell_type": "code",
   "execution_count": 54,
   "id": "ec1a36a1",
   "metadata": {},
   "outputs": [
    {
     "name": "stdout",
     "output_type": "stream",
     "text": [
      "----------------- Author-------------------\n",
      "id --> BigAutoField\n",
      "name --> CharField\n",
      "email --> CharField\n",
      "age --> IntegerField\n",
      "creation_date --> DateTimeField\n",
      "updation_date --> DateTimeField\n",
      "\u001b[1mTable name in database is author_model\u001b[0m\n",
      "----------------- Blog-------------------\n",
      "id --> BigAutoField\n",
      "name --> CharField\n",
      "author --> ForeignKey\n",
      "time_to_read --> IntegerField\n",
      "tagline --> TextField\n",
      "creation_date --> DateTimeField\n",
      "updation_date --> DateTimeField\n",
      "\u001b[1mTable name in database is blog_model\u001b[0m\n"
     ]
    }
   ],
   "source": [
    "define_model(Author)\n",
    "define_model(Blog)"
   ]
  },
  {
   "cell_type": "markdown",
   "id": "c7013303",
   "metadata": {},
   "source": [
    "### Generating fake data"
   ]
  },
  {
   "cell_type": "code",
   "execution_count": 55,
   "id": "c4921492",
   "metadata": {},
   "outputs": [],
   "source": [
    "# fake = Faker()\n",
    "# range_of_author_id = 100"
   ]
  },
  {
   "cell_type": "code",
   "execution_count": 56,
   "id": "715c58ff",
   "metadata": {},
   "outputs": [],
   "source": [
    "# lst_author = []\n",
    "# for _ in range(range_of_author_id):\n",
    "#     lst_author.append(\n",
    "#         Author(\n",
    "#             name=fake.name(), \n",
    "#             age=random.randint(1,100)\n",
    "#         )\n",
    "#     )\n",
    "# objs_author = Author.objects.bulk_create(lst_author)"
   ]
  },
  {
   "cell_type": "code",
   "execution_count": 57,
   "id": "154bb5e9",
   "metadata": {},
   "outputs": [],
   "source": [
    "# lst_blog = []\n",
    "# for _ in range(10000):\n",
    "#     lst_blog.append(\n",
    "#         Blog(\n",
    "#             name=fake.sentence(), \n",
    "#             tagline= fake.paragraph(), \n",
    "#             time_to_read = random.randint(5, 60),\n",
    "#             author_id=random.randint(1, 100)\n",
    "#         )\n",
    "#     )\n",
    "# objs_blog = Blog.objects.bulk_create(lst_blog)"
   ]
  },
  {
   "cell_type": "markdown",
   "id": "f81abf42",
   "metadata": {},
   "source": [
    "## Table of Content\n",
    "1. [Select Related](#1)\n",
    "    1. [Case 1](#1.a) \n",
    "2. [Prefetch Related](#2)\n",
    "    1. [Case 1](#2.a) \n",
    "3. [update_fields](#3)\n",
    "    1. [Case 1](#3.a)\n",
    "    2. [Case 2](#3.b)\n",
    "4. [F()](#4)\n",
    "    1. [Case 1](#4.a)\n",
    "    2. [Case 2](#4.b)"
   ]
  },
  {
   "cell_type": "code",
   "execution_count": 58,
   "id": "8eb82b8b",
   "metadata": {},
   "outputs": [],
   "source": [
    "def get_query():\n",
    "    return connection.queries"
   ]
  },
  {
   "cell_type": "markdown",
   "id": "05547e5f",
   "metadata": {},
   "source": [
    "<a id=\"1\"></a>\n",
    "### Select Related\n",
    "<pre>One uses select_related when the object that you’re going to be selecting is a single object, so OneToOneField or a ForeignKey</pre>\n",
    "Django Documentation - https://docs.djangoproject.com/en/4.2/ref/models/querysets/#select-related\n",
    "\n",
    "<a id=\"1.a\"></a>\n",
    "<h5><b>Case 1</b> - We want author name of blog having id = 1</h5>"
   ]
  },
  {
   "cell_type": "code",
   "execution_count": 59,
   "id": "881ddea6",
   "metadata": {},
   "outputs": [
    {
     "name": "stdout",
     "output_type": "stream",
     "text": [
      "Vanessa Wilkinson\n"
     ]
    },
    {
     "data": {
      "text/plain": [
       "[{'sql': 'SELECT \"blog_model\".\"id\", \"blog_model\".\"name\", \"blog_model\".\"author_id\", \"blog_model\".\"time_to_read\", \"blog_model\".\"tagline\", \"blog_model\".\"creation_date\", \"blog_model\".\"updation_date\" FROM \"blog_model\" WHERE \"blog_model\".\"id\" = 1 LIMIT 21',\n",
       "  'time': '0.000'},\n",
       " {'sql': 'SELECT \"author_model\".\"id\", \"author_model\".\"name\", \"author_model\".\"email\", \"author_model\".\"age\", \"author_model\".\"creation_date\", \"author_model\".\"updation_date\" FROM \"author_model\" WHERE \"author_model\".\"id\" = 63 LIMIT 21',\n",
       "  'time': '0.001'}]"
      ]
     },
     "execution_count": 59,
     "metadata": {},
     "output_type": "execute_result"
    }
   ],
   "source": [
    "#Not optimized\n",
    "reset_queries()\n",
    "blog_obj = Blog.objects.get(id=1)\n",
    "print(blog_obj.author.name)\n",
    "get_query()\n"
   ]
  },
  {
   "cell_type": "code",
   "execution_count": 61,
   "id": "e82a25a5",
   "metadata": {},
   "outputs": [
    {
     "name": "stdout",
     "output_type": "stream",
     "text": [
      "Vanessa Wilkinson\n"
     ]
    },
    {
     "data": {
      "text/plain": [
       "[{'sql': 'SELECT \"blog_model\".\"id\", \"blog_model\".\"name\", \"blog_model\".\"author_id\", \"blog_model\".\"time_to_read\", \"blog_model\".\"tagline\", \"blog_model\".\"creation_date\", \"blog_model\".\"updation_date\", \"author_model\".\"id\", \"author_model\".\"name\", \"author_model\".\"email\", \"author_model\".\"age\", \"author_model\".\"creation_date\", \"author_model\".\"updation_date\" FROM \"blog_model\" LEFT OUTER JOIN \"author_model\" ON (\"blog_model\".\"author_id\" = \"author_model\".\"id\") WHERE \"blog_model\".\"id\" = 1 LIMIT 21',\n",
       "  'time': '0.001'}]"
      ]
     },
     "execution_count": 61,
     "metadata": {},
     "output_type": "execute_result"
    }
   ],
   "source": [
    "#optimized\n",
    "reset_queries()\n",
    "blog_obj = Blog.objects.select_related(\"author\").get(id=1)\n",
    "print(blog_obj.author.name)\n",
    "get_query()\n"
   ]
  },
  {
   "cell_type": "markdown",
   "id": "1e303c56",
   "metadata": {},
   "source": [
    "<a id=\"1.b\"></a>\n",
    "<h5><b>Case 2</b> - Get all author name whose blog take time to read more than 50 mins</h5>"
   ]
  },
  {
   "cell_type": "code",
   "execution_count": 62,
   "id": "8101c813",
   "metadata": {},
   "outputs": [
    {
     "name": "stdout",
     "output_type": "stream",
     "text": [
      "Sylvia Kelly\n",
      "Mr. Danny Rhodes\n",
      "Angela Potts\n",
      "Robert Duran\n",
      "Lisa Adams\n"
     ]
    },
    {
     "data": {
      "text/plain": [
       "[{'sql': 'SELECT \"blog_model\".\"id\", \"blog_model\".\"name\", \"blog_model\".\"author_id\", \"blog_model\".\"time_to_read\", \"blog_model\".\"tagline\", \"blog_model\".\"creation_date\", \"blog_model\".\"updation_date\" FROM \"blog_model\" WHERE \"blog_model\".\"time_to_read\" > 50 LIMIT 5',\n",
       "  'time': '0.001'},\n",
       " {'sql': 'SELECT \"author_model\".\"id\", \"author_model\".\"name\", \"author_model\".\"email\", \"author_model\".\"age\", \"author_model\".\"creation_date\", \"author_model\".\"updation_date\" FROM \"author_model\" WHERE \"author_model\".\"id\" = 34 LIMIT 21',\n",
       "  'time': '0.000'},\n",
       " {'sql': 'SELECT \"author_model\".\"id\", \"author_model\".\"name\", \"author_model\".\"email\", \"author_model\".\"age\", \"author_model\".\"creation_date\", \"author_model\".\"updation_date\" FROM \"author_model\" WHERE \"author_model\".\"id\" = 86 LIMIT 21',\n",
       "  'time': '0.000'},\n",
       " {'sql': 'SELECT \"author_model\".\"id\", \"author_model\".\"name\", \"author_model\".\"email\", \"author_model\".\"age\", \"author_model\".\"creation_date\", \"author_model\".\"updation_date\" FROM \"author_model\" WHERE \"author_model\".\"id\" = 89 LIMIT 21',\n",
       "  'time': '0.000'},\n",
       " {'sql': 'SELECT \"author_model\".\"id\", \"author_model\".\"name\", \"author_model\".\"email\", \"author_model\".\"age\", \"author_model\".\"creation_date\", \"author_model\".\"updation_date\" FROM \"author_model\" WHERE \"author_model\".\"id\" = 28 LIMIT 21',\n",
       "  'time': '0.000'},\n",
       " {'sql': 'SELECT \"author_model\".\"id\", \"author_model\".\"name\", \"author_model\".\"email\", \"author_model\".\"age\", \"author_model\".\"creation_date\", \"author_model\".\"updation_date\" FROM \"author_model\" WHERE \"author_model\".\"id\" = 42 LIMIT 21',\n",
       "  'time': '0.000'}]"
      ]
     },
     "execution_count": 62,
     "metadata": {},
     "output_type": "execute_result"
    }
   ],
   "source": [
    "#Not optimized\n",
    "reset_queries()\n",
    "blog_queryset = Blog.objects.filter(time_to_read__gt=50)[:5]\n",
    "for obj in blog_queryset:\n",
    "    print(obj.author.name)\n",
    "get_query()"
   ]
  },
  {
   "cell_type": "code",
   "execution_count": 64,
   "id": "863c0359",
   "metadata": {},
   "outputs": [
    {
     "name": "stdout",
     "output_type": "stream",
     "text": [
      "Sylvia Kelly\n",
      "Mr. Danny Rhodes\n",
      "Angela Potts\n",
      "Robert Duran\n",
      "Lisa Adams\n"
     ]
    },
    {
     "data": {
      "text/plain": [
       "[{'sql': 'SELECT \"blog_model\".\"id\", \"blog_model\".\"name\", \"blog_model\".\"author_id\", \"blog_model\".\"time_to_read\", \"blog_model\".\"tagline\", \"blog_model\".\"creation_date\", \"blog_model\".\"updation_date\", \"author_model\".\"id\", \"author_model\".\"name\", \"author_model\".\"email\", \"author_model\".\"age\", \"author_model\".\"creation_date\", \"author_model\".\"updation_date\" FROM \"blog_model\" LEFT OUTER JOIN \"author_model\" ON (\"blog_model\".\"author_id\" = \"author_model\".\"id\") WHERE \"blog_model\".\"time_to_read\" > 50 LIMIT 5',\n",
       "  'time': '0.000'}]"
      ]
     },
     "execution_count": 64,
     "metadata": {},
     "output_type": "execute_result"
    }
   ],
   "source": [
    "#optimized\n",
    "reset_queries()\n",
    "blog_queryset = Blog.objects.filter(time_to_read__gt=50)[:5].select_related(\"author\")\n",
    "for obj in blog_queryset:\n",
    "    print(obj.author.name)\n",
    "get_query()"
   ]
  },
  {
   "cell_type": "markdown",
   "id": "d2ed28b7",
   "metadata": {},
   "source": [
    "<a id=\"2\"></a>\n",
    "### Prefetch Related\n",
    "<pre>You use prefetch_related when you’re going to get a “set” of things, so ManyToManyFields as you stated or reverse ForeignKeys.”</pre>\n",
    "Django Documentation - https://docs.djangoproject.com/en/4.2/ref/models/querysets/#prefetch-related\n",
    "\n",
    "<h5><b>Case 1</b> - We want top 10 blog of author having id = 1</h5>"
   ]
  },
  {
   "cell_type": "code",
   "execution_count": 65,
   "id": "9bc4788b",
   "metadata": {},
   "outputs": [
    {
     "name": "stdout",
     "output_type": "stream",
     "text": [
      "<QuerySet [<Blog: Include dinner tonight production under conference student anything.>, <Blog: Wall town pull feeling near miss vote money.>, <Blog: Site western issue wish herself section successful.>, <Blog: His memory expert rather increase either.>, <Blog: Argue stay cut between series collection.>, <Blog: Decade knowledge politics action law maintain month.>, <Blog: Pick ball evidence support region discussion.>, <Blog: Medical difference build group attorney remember.>, <Blog: Fire stop after beautiful day.>, <Blog: Beautiful play discover former once.>]>\n",
      "-------------\n",
      "Include dinner tonight production under conference student anything.\n",
      "Wall town pull feeling near miss vote money.\n",
      "Site western issue wish herself section successful.\n",
      "His memory expert rather increase either.\n",
      "Argue stay cut between series collection.\n",
      "Decade knowledge politics action law maintain month.\n",
      "Pick ball evidence support region discussion.\n",
      "Medical difference build group attorney remember.\n",
      "Fire stop after beautiful day.\n",
      "Beautiful play discover former once.\n"
     ]
    },
    {
     "data": {
      "text/plain": [
       "[{'sql': 'SELECT \"author_model\".\"id\", \"author_model\".\"name\", \"author_model\".\"email\", \"author_model\".\"age\", \"author_model\".\"creation_date\", \"author_model\".\"updation_date\" FROM \"author_model\" WHERE \"author_model\".\"id\" = 1 LIMIT 21',\n",
       "  'time': '0.000'},\n",
       " {'sql': 'SELECT \"blog_model\".\"id\", \"blog_model\".\"name\", \"blog_model\".\"author_id\", \"blog_model\".\"time_to_read\", \"blog_model\".\"tagline\", \"blog_model\".\"creation_date\", \"blog_model\".\"updation_date\" FROM \"blog_model\" WHERE \"blog_model\".\"author_id\" = 1 LIMIT 10',\n",
       "  'time': '0.000'},\n",
       " {'sql': 'SELECT \"blog_model\".\"id\", \"blog_model\".\"name\", \"blog_model\".\"author_id\", \"blog_model\".\"time_to_read\", \"blog_model\".\"tagline\", \"blog_model\".\"creation_date\", \"blog_model\".\"updation_date\" FROM \"blog_model\" WHERE \"blog_model\".\"author_id\" = 1 LIMIT 10',\n",
       "  'time': '0.000'}]"
      ]
     },
     "execution_count": 65,
     "metadata": {},
     "output_type": "execute_result"
    }
   ],
   "source": [
    "#Not optimized\n",
    "reset_queries()\n",
    "author_obj = Author.objects.get(id=1)\n",
    "blog_queryset = author_obj.author_blog.all()[:10]\n",
    "print(blog_queryset)\n",
    "print(\"-------------\")\n",
    "for obj in blog_queryset:\n",
    "    print(obj)\n",
    "get_query()"
   ]
  },
  {
   "cell_type": "code",
   "execution_count": 66,
   "id": "2c62cc8a",
   "metadata": {},
   "outputs": [
    {
     "name": "stdout",
     "output_type": "stream",
     "text": [
      "[<Blog: Include dinner tonight production under conference student anything.>, <Blog: Wall town pull feeling near miss vote money.>, <Blog: Site western issue wish herself section successful.>, <Blog: His memory expert rather increase either.>, <Blog: Argue stay cut between series collection.>, <Blog: Decade knowledge politics action law maintain month.>, <Blog: Pick ball evidence support region discussion.>, <Blog: Medical difference build group attorney remember.>, <Blog: Fire stop after beautiful day.>, <Blog: Beautiful play discover former once.>]\n",
      "-------------\n",
      "Include dinner tonight production under conference student anything.\n",
      "Wall town pull feeling near miss vote money.\n",
      "Site western issue wish herself section successful.\n",
      "His memory expert rather increase either.\n",
      "Argue stay cut between series collection.\n",
      "Decade knowledge politics action law maintain month.\n",
      "Pick ball evidence support region discussion.\n",
      "Medical difference build group attorney remember.\n",
      "Fire stop after beautiful day.\n",
      "Beautiful play discover former once.\n"
     ]
    },
    {
     "data": {
      "text/plain": [
       "[{'sql': 'SELECT \"author_model\".\"id\", \"author_model\".\"name\", \"author_model\".\"email\", \"author_model\".\"age\", \"author_model\".\"creation_date\", \"author_model\".\"updation_date\" FROM \"author_model\" WHERE \"author_model\".\"id\" = 1 LIMIT 21',\n",
       "  'time': '0.001'},\n",
       " {'sql': 'SELECT \"blog_model\".\"id\", \"blog_model\".\"name\", \"blog_model\".\"author_id\", \"blog_model\".\"time_to_read\", \"blog_model\".\"tagline\", \"blog_model\".\"creation_date\", \"blog_model\".\"updation_date\" FROM \"blog_model\" WHERE \"blog_model\".\"author_id\" IN (1)',\n",
       "  'time': '0.000'}]"
      ]
     },
     "execution_count": 66,
     "metadata": {},
     "output_type": "execute_result"
    }
   ],
   "source": [
    "# optimized\n",
    "reset_queries()\n",
    "author_obj = Author.objects.prefetch_related(\"author_blog\").get(id=1)\n",
    "blog_queryset = author_obj.author_blog.all()[:10]\n",
    "print(blog_queryset)\n",
    "print(\"-------------\")\n",
    "for obj in blog_queryset:\n",
    "    print(obj)\n",
    "get_query()"
   ]
  },
  {
   "cell_type": "code",
   "execution_count": null,
   "id": "0ce651db",
   "metadata": {},
   "outputs": [],
   "source": []
  },
  {
   "cell_type": "code",
   "execution_count": null,
   "id": "52f44569",
   "metadata": {},
   "outputs": [],
   "source": []
  },
  {
   "cell_type": "markdown",
   "id": "48741be4",
   "metadata": {},
   "source": [
    "<a id=\"3\"></a>\n",
    "### update_fields\n",
    "\n",
    "Django Documentation - https://docs.djangoproject.com/en/4.2/ref/models/instances/#ref-models-update-fields\n",
    "\n",
    "<a id=\"3.a\"></a>\n",
    "<h5><b>Case </b> - Change tagline of blog id = 5</h5>"
   ]
  },
  {
   "cell_type": "code",
   "execution_count": 67,
   "id": "b7e52f0b",
   "metadata": {},
   "outputs": [
    {
     "data": {
      "text/plain": [
       "[{'sql': 'SELECT \"blog_model\".\"id\", \"blog_model\".\"name\", \"blog_model\".\"author_id\", \"blog_model\".\"time_to_read\", \"blog_model\".\"tagline\", \"blog_model\".\"creation_date\", \"blog_model\".\"updation_date\" FROM \"blog_model\" WHERE \"blog_model\".\"id\" = 5 LIMIT 21',\n",
       "  'time': '0.001'},\n",
       " {'sql': 'UPDATE \"blog_model\" SET \"name\" = \\'Natural deal attention defense oil.\\', \"author_id\" = 34, \"time_to_read\" = 51, \"tagline\" = \\'New Tagline\\', \"creation_date\" = \\'2023-07-08 14:46:17.789535\\', \"updation_date\" = \\'2023-07-08 20:52:32.372212\\' WHERE \"blog_model\".\"id\" = 5',\n",
       "  'time': '0.001'}]"
      ]
     },
     "execution_count": 67,
     "metadata": {},
     "output_type": "execute_result"
    }
   ],
   "source": [
    "#Not optimized\n",
    "reset_queries()\n",
    "blog_obj = Blog.objects.get(id=5)\n",
    "blog_obj.tagline = \"New Tagline\"\n",
    "blog_obj.save()\n",
    "get_query()"
   ]
  },
  {
   "cell_type": "code",
   "execution_count": 15,
   "id": "9f2aaed2",
   "metadata": {},
   "outputs": [
    {
     "data": {
      "text/plain": [
       "[{'sql': 'SELECT \"blog_model\".\"id\", \"blog_model\".\"name\", \"blog_model\".\"author_id\", \"blog_model\".\"time_to_read\", \"blog_model\".\"tagline\", \"blog_model\".\"creation_date\", \"blog_model\".\"updation_date\" FROM \"blog_model\" WHERE \"blog_model\".\"id\" = 5 LIMIT 21',\n",
       "  'time': '0.005'},\n",
       " {'sql': 'UPDATE \"blog_model\" SET \"tagline\" = \\'New Tagline\\' WHERE \"blog_model\".\"id\" = 5',\n",
       "  'time': '0.000'}]"
      ]
     },
     "execution_count": 15,
     "metadata": {},
     "output_type": "execute_result"
    }
   ],
   "source": [
    "# optimized\n",
    "reset_queries()\n",
    "blog_obj = Blog.objects.get(id=5)\n",
    "blog_obj.tagline = \"New Tagline\"\n",
    "blog_obj.save(update_fields=[\"tagline\"])\n",
    "get_query()"
   ]
  },
  {
   "cell_type": "code",
   "execution_count": 16,
   "id": "f99742b8",
   "metadata": {},
   "outputs": [
    {
     "data": {
      "text/plain": [
       "[{'sql': 'SELECT \"blog_model\".\"id\", \"blog_model\".\"tagline\" FROM \"blog_model\" WHERE \"blog_model\".\"id\" = 5 LIMIT 21',\n",
       "  'time': '0.000'},\n",
       " {'sql': 'UPDATE \"blog_model\" SET \"tagline\" = \\'New Tagline\\' WHERE \"blog_model\".\"id\" = 5',\n",
       "  'time': '0.000'}]"
      ]
     },
     "execution_count": 16,
     "metadata": {},
     "output_type": "execute_result"
    }
   ],
   "source": [
    "# More optimized\n",
    "reset_queries()\n",
    "blog_obj = Blog.objects.only(\"tagline\").get(id=5)\n",
    "blog_obj.tagline = \"New Tagline\"\n",
    "blog_obj.save(update_fields=[\"tagline\"])\n",
    "get_query()"
   ]
  },
  {
   "cell_type": "markdown",
   "id": "648db4e5",
   "metadata": {},
   "source": [
    "<a id=\"4\"></a>\n",
    "### F( )\n",
    "\n",
    "Django Documentation - https://docs.djangoproject.com/en/4.2/ref/models/expressions/#f-expressions\n",
    "\n",
    "<a id=\"4.a\"></a>\n",
    "<h5><b>Case 1</b> - Increase Age of Author having id = 1 by 1</h5>"
   ]
  },
  {
   "cell_type": "code",
   "execution_count": 68,
   "id": "6eaec7bd",
   "metadata": {},
   "outputs": [
    {
     "name": "stdout",
     "output_type": "stream",
     "text": [
      "114\n"
     ]
    },
    {
     "data": {
      "text/plain": [
       "[{'sql': 'SELECT \"author_model\".\"id\", \"author_model\".\"name\", \"author_model\".\"email\", \"author_model\".\"age\", \"author_model\".\"creation_date\", \"author_model\".\"updation_date\" FROM \"author_model\" WHERE \"author_model\".\"id\" = 1 LIMIT 21',\n",
       "  'time': '0.000'},\n",
       " {'sql': 'UPDATE \"author_model\" SET \"name\" = \\'Kathleen Hess\\', \"email\" = NULL, \"age\" = 115, \"creation_date\" = \\'2023-07-08 14:45:45.208582\\', \"updation_date\" = \\'2023-07-08 20:55:02.204255\\' WHERE \"author_model\".\"id\" = 1',\n",
       "  'time': '0.002'}]"
      ]
     },
     "execution_count": 68,
     "metadata": {},
     "output_type": "execute_result"
    }
   ],
   "source": [
    "#Not optimized\n",
    "reset_queries()\n",
    "author_obj = Author.objects.get(id=1)\n",
    "print(author_obj.age)\n",
    "author_obj.age += 1\n",
    "author_obj.save()\n",
    "get_query()"
   ]
  },
  {
   "cell_type": "code",
   "execution_count": 69,
   "id": "2553c065",
   "metadata": {},
   "outputs": [
    {
     "name": "stdout",
     "output_type": "stream",
     "text": [
      "115\n"
     ]
    },
    {
     "data": {
      "text/plain": [
       "[{'sql': 'SELECT \"author_model\".\"id\", \"author_model\".\"name\", \"author_model\".\"email\", \"author_model\".\"age\", \"author_model\".\"creation_date\", \"author_model\".\"updation_date\" FROM \"author_model\" WHERE \"author_model\".\"id\" = 1 LIMIT 21',\n",
       "  'time': '0.001'},\n",
       " {'sql': 'UPDATE \"author_model\" SET \"name\" = \\'Kathleen Hess\\', \"email\" = NULL, \"age\" = (\"author_model\".\"age\" + 1), \"creation_date\" = \\'2023-07-08 14:45:45.208582\\', \"updation_date\" = \\'2023-07-08 20:55:09.563813\\' WHERE \"author_model\".\"id\" = 1',\n",
       "  'time': '0.002'}]"
      ]
     },
     "execution_count": 69,
     "metadata": {},
     "output_type": "execute_result"
    }
   ],
   "source": [
    "from django.db.models import F\n",
    "#optimized\n",
    "reset_queries()\n",
    "author_obj = Author.objects.get(id=1)\n",
    "print(author_obj.age)\n",
    "author_obj.age = F(\"age\") + 1\n",
    "author_obj.save()\n",
    "get_query()"
   ]
  },
  {
   "cell_type": "code",
   "execution_count": 70,
   "id": "82478f91",
   "metadata": {},
   "outputs": [
    {
     "data": {
      "text/plain": [
       "[{'sql': 'UPDATE \"author_model\" SET \"age\" = (\"author_model\".\"age\" + 1) WHERE \"author_model\".\"id\" = 1',\n",
       "  'time': '0.003'}]"
      ]
     },
     "execution_count": 70,
     "metadata": {},
     "output_type": "execute_result"
    }
   ],
   "source": [
    "from django.db.models import F\n",
    "# More optimized\n",
    "reset_queries()\n",
    "Author.objects.filter(id=1).update(age = F(\"age\")+1)\n",
    "get_query()"
   ]
  },
  {
   "cell_type": "markdown",
   "id": "667c88aa",
   "metadata": {},
   "source": [
    "<b>Another Advantage is Avoiding race condition using F()</b>"
   ]
  },
  {
   "cell_type": "markdown",
   "id": "3dd71ce9",
   "metadata": {},
   "source": [
    "<a id=\"4.b\"></a>\n",
    "<h5><b>Case 2</b> - In bizzare world you want all blog whose time to read is less than author age 😂</h5>"
   ]
  },
  {
   "cell_type": "code",
   "execution_count": 75,
   "id": "a65e7903",
   "metadata": {},
   "outputs": [
    {
     "name": "stdout",
     "output_type": "stream",
     "text": [
      "34 41\n",
      "11 22\n",
      "9 67\n",
      "32 33\n",
      "50 94\n"
     ]
    },
    {
     "data": {
      "text/plain": [
       "[{'sql': 'SELECT \"blog_model\".\"id\", \"blog_model\".\"name\", \"blog_model\".\"author_id\", \"blog_model\".\"time_to_read\", \"blog_model\".\"tagline\", \"blog_model\".\"creation_date\", \"blog_model\".\"updation_date\" FROM \"blog_model\" LIMIT 8',\n",
       "  'time': '0.000'},\n",
       " {'sql': 'SELECT \"author_model\".\"id\", \"author_model\".\"name\", \"author_model\".\"email\", \"author_model\".\"age\", \"author_model\".\"creation_date\", \"author_model\".\"updation_date\" FROM \"author_model\" WHERE \"author_model\".\"id\" = 63 LIMIT 21',\n",
       "  'time': '0.001'},\n",
       " {'sql': 'SELECT \"author_model\".\"id\", \"author_model\".\"name\", \"author_model\".\"email\", \"author_model\".\"age\", \"author_model\".\"creation_date\", \"author_model\".\"updation_date\" FROM \"author_model\" WHERE \"author_model\".\"id\" = 91 LIMIT 21',\n",
       "  'time': '0.000'},\n",
       " {'sql': 'SELECT \"author_model\".\"id\", \"author_model\".\"name\", \"author_model\".\"email\", \"author_model\".\"age\", \"author_model\".\"creation_date\", \"author_model\".\"updation_date\" FROM \"author_model\" WHERE \"author_model\".\"id\" = 39 LIMIT 21',\n",
       "  'time': '0.000'},\n",
       " {'sql': 'SELECT \"author_model\".\"id\", \"author_model\".\"name\", \"author_model\".\"email\", \"author_model\".\"age\", \"author_model\".\"creation_date\", \"author_model\".\"updation_date\" FROM \"author_model\" WHERE \"author_model\".\"id\" = 87 LIMIT 21',\n",
       "  'time': '0.001'},\n",
       " {'sql': 'SELECT \"author_model\".\"id\", \"author_model\".\"name\", \"author_model\".\"email\", \"author_model\".\"age\", \"author_model\".\"creation_date\", \"author_model\".\"updation_date\" FROM \"author_model\" WHERE \"author_model\".\"id\" = 34 LIMIT 21',\n",
       "  'time': '0.000'},\n",
       " {'sql': 'SELECT \"author_model\".\"id\", \"author_model\".\"name\", \"author_model\".\"email\", \"author_model\".\"age\", \"author_model\".\"creation_date\", \"author_model\".\"updation_date\" FROM \"author_model\" WHERE \"author_model\".\"id\" = 7 LIMIT 21',\n",
       "  'time': '0.000'},\n",
       " {'sql': 'SELECT \"author_model\".\"id\", \"author_model\".\"name\", \"author_model\".\"email\", \"author_model\".\"age\", \"author_model\".\"creation_date\", \"author_model\".\"updation_date\" FROM \"author_model\" WHERE \"author_model\".\"id\" = 9 LIMIT 21',\n",
       "  'time': '0.000'},\n",
       " {'sql': 'SELECT \"author_model\".\"id\", \"author_model\".\"name\", \"author_model\".\"email\", \"author_model\".\"age\", \"author_model\".\"creation_date\", \"author_model\".\"updation_date\" FROM \"author_model\" WHERE \"author_model\".\"id\" = 40 LIMIT 21',\n",
       "  'time': '0.000'}]"
      ]
     },
     "execution_count": 75,
     "metadata": {},
     "output_type": "execute_result"
    }
   ],
   "source": [
    "# Not optimized\n",
    "reset_queries()\n",
    "for obj in Blog.objects.all()[:8]:\n",
    "    if obj.time_to_read < obj.author.age:\n",
    "        print(obj.time_to_read, obj.author.age)\n",
    "get_query()"
   ]
  },
  {
   "cell_type": "code",
   "execution_count": 72,
   "id": "caa3ec0e",
   "metadata": {},
   "outputs": [
    {
     "name": "stdout",
     "output_type": "stream",
     "text": [
      "34 41\n",
      "11 22\n",
      "9 67\n",
      "32 33\n",
      "50 94\n"
     ]
    },
    {
     "data": {
      "text/plain": [
       "[{'sql': 'SELECT \"blog_model\".\"id\", \"blog_model\".\"name\", \"blog_model\".\"author_id\", \"blog_model\".\"time_to_read\", \"blog_model\".\"tagline\", \"blog_model\".\"creation_date\", \"blog_model\".\"updation_date\" FROM \"blog_model\" INNER JOIN \"author_model\" ON (\"blog_model\".\"author_id\" = \"author_model\".\"id\") WHERE \"blog_model\".\"time_to_read\" < (\"author_model\".\"age\") LIMIT 5',\n",
       "  'time': '0.001'},\n",
       " {'sql': 'SELECT \"author_model\".\"id\", \"author_model\".\"name\", \"author_model\".\"email\", \"author_model\".\"age\", \"author_model\".\"creation_date\", \"author_model\".\"updation_date\" FROM \"author_model\" WHERE \"author_model\".\"id\" = 63 LIMIT 21',\n",
       "  'time': '0.000'},\n",
       " {'sql': 'SELECT \"author_model\".\"id\", \"author_model\".\"name\", \"author_model\".\"email\", \"author_model\".\"age\", \"author_model\".\"creation_date\", \"author_model\".\"updation_date\" FROM \"author_model\" WHERE \"author_model\".\"id\" = 91 LIMIT 21',\n",
       "  'time': '0.000'},\n",
       " {'sql': 'SELECT \"author_model\".\"id\", \"author_model\".\"name\", \"author_model\".\"email\", \"author_model\".\"age\", \"author_model\".\"creation_date\", \"author_model\".\"updation_date\" FROM \"author_model\" WHERE \"author_model\".\"id\" = 39 LIMIT 21',\n",
       "  'time': '0.001'},\n",
       " {'sql': 'SELECT \"author_model\".\"id\", \"author_model\".\"name\", \"author_model\".\"email\", \"author_model\".\"age\", \"author_model\".\"creation_date\", \"author_model\".\"updation_date\" FROM \"author_model\" WHERE \"author_model\".\"id\" = 7 LIMIT 21',\n",
       "  'time': '0.000'},\n",
       " {'sql': 'SELECT \"author_model\".\"id\", \"author_model\".\"name\", \"author_model\".\"email\", \"author_model\".\"age\", \"author_model\".\"creation_date\", \"author_model\".\"updation_date\" FROM \"author_model\" WHERE \"author_model\".\"id\" = 40 LIMIT 21',\n",
       "  'time': '0.000'}]"
      ]
     },
     "execution_count": 72,
     "metadata": {},
     "output_type": "execute_result"
    }
   ],
   "source": [
    "from django.db.models import F\n",
    "# optimized\n",
    "reset_queries()\n",
    "for obj in Blog.objects.filter(time_to_read__lt = F(\"author__age\"))[:5]:\n",
    "    print(obj.time_to_read, obj.author.age)\n",
    "get_query()"
   ]
  },
  {
   "cell_type": "code",
   "execution_count": 77,
   "id": "d59f6199",
   "metadata": {},
   "outputs": [
    {
     "name": "stdout",
     "output_type": "stream",
     "text": [
      "34 41\n",
      "11 22\n",
      "9 67\n",
      "32 33\n",
      "50 94\n"
     ]
    },
    {
     "data": {
      "text/plain": [
       "[{'sql': 'SELECT \"blog_model\".\"id\", \"blog_model\".\"name\", \"blog_model\".\"author_id\", \"blog_model\".\"time_to_read\", \"blog_model\".\"tagline\", \"blog_model\".\"creation_date\", \"blog_model\".\"updation_date\", \"author_model\".\"id\", \"author_model\".\"name\", \"author_model\".\"email\", \"author_model\".\"age\", \"author_model\".\"creation_date\", \"author_model\".\"updation_date\" FROM \"blog_model\" INNER JOIN \"author_model\" ON (\"blog_model\".\"author_id\" = \"author_model\".\"id\") WHERE \"blog_model\".\"time_to_read\" < (\"author_model\".\"age\") LIMIT 5',\n",
       "  'time': '0.001'}]"
      ]
     },
     "execution_count": 77,
     "metadata": {},
     "output_type": "execute_result"
    }
   ],
   "source": [
    "from django.db.models import F\n",
    "# More optimized\n",
    "reset_queries()\n",
    "for obj in Blog.objects.filter(time_to_read__lt = F(\"author__age\"))[:5].select_related(\"author\"):\n",
    "    print(obj.time_to_read, obj.author.age)\n",
    "get_query()"
   ]
  },
  {
   "cell_type": "code",
   "execution_count": null,
   "id": "98db6fb5",
   "metadata": {},
   "outputs": [],
   "source": []
  },
  {
   "cell_type": "code",
   "execution_count": null,
   "id": "7ca48768",
   "metadata": {},
   "outputs": [],
   "source": []
  },
  {
   "cell_type": "code",
   "execution_count": null,
   "id": "8d7536a6",
   "metadata": {},
   "outputs": [],
   "source": []
  },
  {
   "cell_type": "code",
   "execution_count": null,
   "id": "11094f21",
   "metadata": {},
   "outputs": [],
   "source": []
  },
  {
   "cell_type": "code",
   "execution_count": null,
   "id": "e0696a45",
   "metadata": {},
   "outputs": [],
   "source": []
  },
  {
   "cell_type": "code",
   "execution_count": null,
   "id": "913498b2",
   "metadata": {},
   "outputs": [],
   "source": []
  },
  {
   "cell_type": "code",
   "execution_count": null,
   "id": "47d83f4f",
   "metadata": {},
   "outputs": [],
   "source": []
  },
  {
   "cell_type": "markdown",
   "id": "587aa560",
   "metadata": {},
   "source": [
    "## Hey.... If You are liked the content Do subscribe to my Youtube Channel\n",
    "https://www.youtube.com/channel/UCpuKtSx_Cu8_ikyhlKAWBYA?sub_confirmation=1\n",
    "\n",
    "<b>Also You can connect with me on Linkedin</b> - https://www.linkedin.com/in/lakshit-ukani/"
   ]
  },
  {
   "cell_type": "code",
   "execution_count": null,
   "id": "377a3d5e",
   "metadata": {},
   "outputs": [],
   "source": []
  }
 ],
 "metadata": {
  "kernelspec": {
   "display_name": "Django Shell-Plus",
   "language": "python",
   "name": "django_extensions"
  },
  "language_info": {
   "codemirror_mode": {
    "name": "ipython",
    "version": 3
   },
   "file_extension": ".py",
   "mimetype": "text/x-python",
   "name": "python",
   "nbconvert_exporter": "python",
   "pygments_lexer": "ipython3",
   "version": "3.10.11"
  }
 },
 "nbformat": 4,
 "nbformat_minor": 5
}
