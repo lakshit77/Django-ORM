{
 "cells": [
  {
   "cell_type": "code",
   "execution_count": 1,
   "id": "5993608e",
   "metadata": {},
   "outputs": [],
   "source": [
    "# How to Run Django in Jupyter Notebook\n",
    "# https://www.youtube.com/watch?v=TN5zIA--cz4&ab_channel=TechSunami"
   ]
  },
  {
   "cell_type": "code",
   "execution_count": 1,
   "id": "6dda5bc6",
   "metadata": {},
   "outputs": [],
   "source": [
    "import os\n",
    "os.environ[\"DJANGO_ALLOW_ASYNC_UNSAFE\"] = \"true\"\n",
    "from django.db import connection\n",
    "from django.db import reset_queries\n",
    "from django.db import models\n",
    "from django_orm_app.models import Author, Blog\n",
    "from faker import Faker \n",
    "import random"
   ]
  },
  {
   "cell_type": "code",
   "execution_count": 2,
   "id": "51fcf47c",
   "metadata": {},
   "outputs": [],
   "source": [
    "def define_model(model):\n",
    "    print(f\"----------------- {model.__name__}-------------------\")\n",
    "    for field in model._meta.fields:\n",
    "        print(f\"{field.name} --> {field.get_internal_type()}\")\n",
    "    print('\\033[1m' + f\"Table name in database is {model._meta.db_table}\" + '\\033[0m')"
   ]
  },
  {
   "cell_type": "code",
   "execution_count": 3,
   "id": "ae343256",
   "metadata": {},
   "outputs": [
    {
     "name": "stdout",
     "output_type": "stream",
     "text": [
      "----------------- Author-------------------\n",
      "id --> BigAutoField\n",
      "name --> CharField\n",
      "email --> CharField\n",
      "age --> IntegerField\n",
      "creation_date --> DateTimeField\n",
      "updation_date --> DateTimeField\n",
      "\u001b[1mTable name in database is author_model\u001b[0m\n",
      "----------------- Blog-------------------\n",
      "id --> BigAutoField\n",
      "name --> CharField\n",
      "author --> ForeignKey\n",
      "tagline --> TextField\n",
      "creation_date --> DateTimeField\n",
      "updation_date --> DateTimeField\n",
      "\u001b[1mTable name in database is blog_model\u001b[0m\n"
     ]
    }
   ],
   "source": [
    "define_model(Author)\n",
    "define_model(Blog)"
   ]
  },
  {
   "cell_type": "markdown",
   "id": "d8226c63",
   "metadata": {},
   "source": [
    "### Generating Random Data"
   ]
  },
  {
   "cell_type": "code",
   "execution_count": 5,
   "id": "835af83f",
   "metadata": {},
   "outputs": [],
   "source": [
    "# fake = Faker()\n",
    "# range_of_author_id = 100"
   ]
  },
  {
   "cell_type": "code",
   "execution_count": 6,
   "id": "1b82778d",
   "metadata": {},
   "outputs": [],
   "source": [
    "# lst_author = []\n",
    "# for _ in range(range_of_author_id):\n",
    "#     lst_author.append(\n",
    "#         Author(\n",
    "#             name=fake.name(), \n",
    "#             age=random.randint(1,100)\n",
    "#         )\n",
    "#     )"
   ]
  },
  {
   "cell_type": "code",
   "execution_count": 7,
   "id": "2e7668e0",
   "metadata": {},
   "outputs": [],
   "source": [
    "# objs_author = Author.objects.bulk_create(lst_author)"
   ]
  },
  {
   "cell_type": "code",
   "execution_count": 8,
   "id": "00dbcbd1",
   "metadata": {},
   "outputs": [],
   "source": [
    "# lst_blog = []\n",
    "# for _ in range(10000):\n",
    "#     lst_blog.append(\n",
    "#         Blog(\n",
    "#             name=fake.sentence(), \n",
    "#             tagline= fake.paragraph(), \n",
    "#             author_id=random.randint(1, 100)\n",
    "#         )\n",
    "#     )"
   ]
  },
  {
   "cell_type": "code",
   "execution_count": 9,
   "id": "75e7013f",
   "metadata": {},
   "outputs": [],
   "source": [
    "# objs_blog = Blog.objects.bulk_create(lst_blog)"
   ]
  },
  {
   "cell_type": "markdown",
   "id": "d6e8c724",
   "metadata": {},
   "source": [
    "## Table of Content\n",
    "1. [Model Creation Type](#1)\n",
    "2. [Understand Query Evaluation](#2)\n",
    "    1. [Queryset are Lazy](#2.a) \n",
    "    2. [How Queryset held data in Memory](#2.b)\n",
    "3. [Method that don't return Queryset](#3)\n",
    "    1. [get](#3.a) \n",
    "    2. [get_or_create](#3.b) \n",
    "    3. [update_or_create ](#3.c) \n",
    "    4. [bulk_create](#3.d) \n",
    "    5. [bulk_update](#3.e) \n",
    "    6. [count](#3.f) \n",
    "    7. [latest](#3.g) \n",
    "    8. [earliest](#3.h) \n",
    "    9. [last](#3.i) \n",
    "    10. [first](#3.j) \n",
    "    11. [exists](#3.k) \n",
    "    12. [contains](#3.l)\n",
    "    13. [delete](#3.m)\n",
    "    14. [update](#3.n)\n",
    "    15. [aggregate](#3.o)"
   ]
  },
  {
   "cell_type": "code",
   "execution_count": 10,
   "id": "6eee6d01",
   "metadata": {},
   "outputs": [],
   "source": [
    "def get_query():\n",
    "    return connection.queries\n",
    "\n",
    "reset_queries()"
   ]
  },
  {
   "cell_type": "markdown",
   "id": "edd8ac19",
   "metadata": {},
   "source": [
    "<a id=\"1\"></a>\n",
    "## Model Creation Type\n"
   ]
  },
  {
   "cell_type": "code",
   "execution_count": 4,
   "id": "e3820fd9",
   "metadata": {},
   "outputs": [],
   "source": [
    "author_instance = Author(\n",
    "    name = \"Lakshit\", \n",
    "    email=\"lakshit@gmail.com\"\n",
    ")\n",
    "author_instance.save()"
   ]
  },
  {
   "cell_type": "code",
   "execution_count": 5,
   "id": "50a13711",
   "metadata": {},
   "outputs": [],
   "source": [
    "blog_instance = Blog.objects.create(\n",
    "    name=\"blog no 1\", \n",
    "    tagline=\"All the latest bloggggg news.\",\n",
    "    author=author_instance\n",
    ")"
   ]
  },
  {
   "cell_type": "code",
   "execution_count": 6,
   "id": "7a05a6e4",
   "metadata": {},
   "outputs": [],
   "source": [
    "blog_dict = {\n",
    "    \"name\":\"Blog number 2\", \n",
    "    \"tagline\":\"This is best blog everrrrrrrrr......\",\n",
    "    \"author\":author_instance\n",
    "}\n",
    "blog_instance_2 = Blog.objects.create(**blog_dict)"
   ]
  },
  {
   "cell_type": "code",
   "execution_count": 7,
   "id": "3bfc212c",
   "metadata": {},
   "outputs": [
    {
     "ename": "NameError",
     "evalue": "name 'get_query' is not defined",
     "output_type": "error",
     "traceback": [
      "\u001b[0;31m---------------------------------------------------------------------------\u001b[0m",
      "\u001b[0;31mNameError\u001b[0m                                 Traceback (most recent call last)",
      "Cell \u001b[0;32mIn[7], line 1\u001b[0m\n\u001b[0;32m----> 1\u001b[0m \u001b[43mget_query\u001b[49m()\n",
      "\u001b[0;31mNameError\u001b[0m: name 'get_query' is not defined"
     ]
    }
   ],
   "source": [
    "get_query()"
   ]
  },
  {
   "cell_type": "code",
   "execution_count": 10,
   "id": "17a3c1e4",
   "metadata": {},
   "outputs": [],
   "source": [
    "reset_queries()"
   ]
  },
  {
   "cell_type": "markdown",
   "id": "c3e08919",
   "metadata": {},
   "source": [
    "A <b>QuerySet</b> represents a collection of objects from your database. It can have zero, one or many filters. Filters narrow down the query results based on the given parameters. In SQL terms, a QuerySet equates to a SELECT statement, and a filter is a limiting clause such as WHERE or LIMIT ."
   ]
  },
  {
   "cell_type": "markdown",
   "id": "f2dde433",
   "metadata": {},
   "source": [
    "<a id=\"2\"></a>\n",
    "## Understand Query Evaluation"
   ]
  },
  {
   "cell_type": "markdown",
   "id": "b03e1191",
   "metadata": {},
   "source": [
    "<a id=\"2.a\"></a>\n",
    "### Queryset are Lazy\n",
    "<pre>QuerySets are lazy – the act of creating a QuerySet doesn’t involve any database activity. You can stack filters together all day long, and Django won’t actually run the query until the QuerySet is evaluated. Take a look  at below example:</pre>\n",
    "\n",
    "Django Documentation - https://docs.djangoproject.com/en/4.2/topics/db/queries/#querysets-are-lazy"
   ]
  },
  {
   "cell_type": "code",
   "execution_count": 11,
   "id": "437be9d3",
   "metadata": {},
   "outputs": [],
   "source": [
    "q = Blog.objects.filter(id = 1)"
   ]
  },
  {
   "cell_type": "code",
   "execution_count": 12,
   "id": "ae81e8ef",
   "metadata": {},
   "outputs": [
    {
     "data": {
      "text/plain": [
       "<QuerySet [<Blog: blog no 1>]>"
      ]
     },
     "execution_count": 12,
     "metadata": {},
     "output_type": "execute_result"
    }
   ],
   "source": [
    "q"
   ]
  },
  {
   "cell_type": "code",
   "execution_count": 13,
   "id": "f9831812",
   "metadata": {},
   "outputs": [
    {
     "data": {
      "text/plain": [
       "[{'sql': 'SELECT \"blog_model\".\"id\", \"blog_model\".\"name\", \"blog_model\".\"author_id\", \"blog_model\".\"tagline\", \"blog_model\".\"creation_date\", \"blog_model\".\"updation_date\" FROM \"blog_model\" WHERE \"blog_model\".\"id\" = 1 LIMIT 21',\n",
       "  'time': '0.001'}]"
      ]
     },
     "execution_count": 13,
     "metadata": {},
     "output_type": "execute_result"
    }
   ],
   "source": [
    "get_query()"
   ]
  },
  {
   "cell_type": "code",
   "execution_count": 47,
   "id": "cb416b48",
   "metadata": {},
   "outputs": [],
   "source": [
    "reset_queries()"
   ]
  },
  {
   "cell_type": "markdown",
   "id": "ad618007",
   "metadata": {},
   "source": [
    "<a id=\"2.b\"></a>\n",
    "### How Queryset held data in Memory\n",
    "\n",
    "Django Documentation - https://docs.djangoproject.com/en/4.2/topics/db/queries/#caching-and-querysets"
   ]
  },
  {
   "cell_type": "code",
   "execution_count": 30,
   "id": "861f4a29",
   "metadata": {},
   "outputs": [],
   "source": [
    "q = Blog.objects.all()"
   ]
  },
  {
   "cell_type": "code",
   "execution_count": 41,
   "id": "46dea8e3",
   "metadata": {},
   "outputs": [
    {
     "data": {
      "text/plain": [
       "<Blog: lakshit>"
      ]
     },
     "execution_count": 41,
     "metadata": {},
     "output_type": "execute_result"
    }
   ],
   "source": [
    "q[0]"
   ]
  },
  {
   "cell_type": "code",
   "execution_count": 42,
   "id": "12d4cda4",
   "metadata": {},
   "outputs": [
    {
     "data": {
      "text/plain": [
       "[{'sql': 'SELECT \"blog_model\".\"id\", \"blog_model\".\"name\", \"blog_model\".\"author_id\", \"blog_model\".\"tagline\", \"blog_model\".\"creation_date\", \"blog_model\".\"updation_date\" FROM \"blog_model\" LIMIT 1',\n",
       "  'time': '0.000'},\n",
       " {'sql': 'SELECT \"blog_model\".\"id\", \"blog_model\".\"name\", \"blog_model\".\"author_id\", \"blog_model\".\"tagline\", \"blog_model\".\"creation_date\", \"blog_model\".\"updation_date\" FROM \"blog_model\" LIMIT 1',\n",
       "  'time': '0.000'},\n",
       " {'sql': 'SELECT \"blog_model\".\"id\", \"blog_model\".\"name\", \"blog_model\".\"author_id\", \"blog_model\".\"tagline\", \"blog_model\".\"creation_date\", \"blog_model\".\"updation_date\" FROM \"blog_model\" LIMIT 1',\n",
       "  'time': '0.000'},\n",
       " {'sql': 'SELECT \"blog_model\".\"id\", \"blog_model\".\"name\", \"blog_model\".\"author_id\", \"blog_model\".\"tagline\", \"blog_model\".\"creation_date\", \"blog_model\".\"updation_date\" FROM \"blog_model\"',\n",
       "  'time': '0.001'}]"
      ]
     },
     "execution_count": 42,
     "metadata": {},
     "output_type": "execute_result"
    }
   ],
   "source": [
    "get_query()"
   ]
  },
  {
   "cell_type": "code",
   "execution_count": 37,
   "id": "5419497d",
   "metadata": {},
   "outputs": [
    {
     "name": "stdout",
     "output_type": "stream",
     "text": [
      "['lakshit', 'Blog number 2', 'blog no 1', 'Blog number 2']\n"
     ]
    }
   ],
   "source": [
    "print([p.name for p in q])"
   ]
  },
  {
   "cell_type": "code",
   "execution_count": 21,
   "id": "a0ee7657",
   "metadata": {},
   "outputs": [
    {
     "data": {
      "text/plain": [
       "1"
      ]
     },
     "execution_count": 21,
     "metadata": {},
     "output_type": "execute_result"
    }
   ],
   "source": [
    "Blog.objects.filter(id = 1).update(name = \"lakshit\")"
   ]
  },
  {
   "cell_type": "code",
   "execution_count": 19,
   "id": "894924ad",
   "metadata": {},
   "outputs": [
    {
     "data": {
      "text/plain": [
       "{'_state': <django.db.models.base.ModelState at 0x10a8c8ac0>,\n",
       " 'id': 1,\n",
       " 'name': 'blog no 1',\n",
       " 'author_id': 1,\n",
       " 'tagline': 'All the latest bloggggg news.',\n",
       " 'creation_date': datetime.datetime(2023, 7, 4, 20, 34, 40, 924446, tzinfo=datetime.timezone.utc),\n",
       " 'updation_date': datetime.datetime(2023, 7, 4, 20, 34, 40, 924496, tzinfo=datetime.timezone.utc)}"
      ]
     },
     "execution_count": 19,
     "metadata": {},
     "output_type": "execute_result"
    }
   ],
   "source": [
    "q[0].__dict__"
   ]
  },
  {
   "cell_type": "code",
   "execution_count": 25,
   "id": "6669d273",
   "metadata": {},
   "outputs": [
    {
     "data": {
      "text/plain": [
       "'lakshit'"
      ]
     },
     "execution_count": 25,
     "metadata": {},
     "output_type": "execute_result"
    }
   ],
   "source": [
    "q[0].name"
   ]
  },
  {
   "cell_type": "markdown",
   "id": "53e22f79",
   "metadata": {},
   "source": [
    "<a id=\"3\"></a>\n",
    "## Method that don't return Queryset\n",
    "Django Documentation - https://docs.djangoproject.com/en/4.2/ref/models/querysets/#methods-that-do-not-return-querysets"
   ]
  },
  {
   "cell_type": "markdown",
   "id": "0332de08",
   "metadata": {},
   "source": [
    "<a id=\"3.a\"></a>\n",
    "### get\n",
    "\n",
    "Django Documentation - https://docs.djangoproject.com/en/4.2/ref/models/querysets/#get"
   ]
  },
  {
   "cell_type": "code",
   "execution_count": 43,
   "id": "304d736e",
   "metadata": {},
   "outputs": [],
   "source": [
    "obj = Blog.objects.get(id = 1)"
   ]
  },
  {
   "cell_type": "code",
   "execution_count": 44,
   "id": "515f6174",
   "metadata": {},
   "outputs": [
    {
     "name": "stdout",
     "output_type": "stream",
     "text": [
      "In Does Not exist Block\n"
     ]
    }
   ],
   "source": [
    "try:\n",
    "    obj = Blog.objects.get(id = 100)\n",
    "except Blog.DoesNotExist:\n",
    "    print(\"In Does Not exist Block\")\n",
    "except Blog.MultipleObjectsReturned:\n",
    "    print(\"In Multi Object Block\")"
   ]
  },
  {
   "cell_type": "markdown",
   "id": "8932b961",
   "metadata": {},
   "source": [
    "<a id=\"3.b\"></a>\n",
    "### get_or_create\n",
    "\n",
    "Django Documentation - https://docs.djangoproject.com/en/4.2/ref/models/querysets/#get-or-create"
   ]
  },
  {
   "cell_type": "code",
   "execution_count": 48,
   "id": "c52775d1",
   "metadata": {},
   "outputs": [],
   "source": [
    "#Traditional Way\n",
    "try:\n",
    "    obj = Blog.objects.get(id = 100)\n",
    "except Blog.DoesNotExist:\n",
    "    blog_dict = {\n",
    "        \"name\":\"Blog number 2\", \n",
    "        \"tagline\":\"This is best blog everrrrrrrrr......\"\n",
    "    }\n",
    "    obj = Blog.objects.create(**blog_dict)"
   ]
  },
  {
   "cell_type": "code",
   "execution_count": 51,
   "id": "63161bb8",
   "metadata": {},
   "outputs": [
    {
     "data": {
      "text/plain": [
       "[{'sql': 'SELECT \"blog_model\".\"id\", \"blog_model\".\"name\", \"blog_model\".\"author_id\", \"blog_model\".\"tagline\", \"blog_model\".\"creation_date\", \"blog_model\".\"updation_date\" FROM \"blog_model\" WHERE \"blog_model\".\"id\" = 100 LIMIT 21',\n",
       "  'time': '0.001'},\n",
       " {'sql': 'INSERT INTO \"blog_model\" (\"name\", \"author_id\", \"tagline\", \"creation_date\", \"updation_date\") VALUES (\\'Blog number 2\\', NULL, \\'This is best blog everrrrrrrrr......\\', \\'2023-07-04 20:40:44.004965\\', \\'2023-07-04 20:40:44.005007\\') RETURNING \"blog_model\".\"id\"',\n",
       "  'time': '0.001'},\n",
       " {'sql': 'SELECT \"blog_model\".\"id\", \"blog_model\".\"name\", \"blog_model\".\"author_id\", \"blog_model\".\"tagline\", \"blog_model\".\"creation_date\", \"blog_model\".\"updation_date\" FROM \"blog_model\" WHERE \"blog_model\".\"id\" = 100 LIMIT 21',\n",
       "  'time': '0.000'},\n",
       " {'sql': 'BEGIN', 'time': '0.000'},\n",
       " {'sql': 'INSERT INTO \"blog_model\" (\"id\", \"name\", \"author_id\", \"tagline\", \"creation_date\", \"updation_date\") VALUES (100, \\'Blog number 2\\', NULL, \\'This is best blog everrrrrrrrr......\\', \\'2023-07-04 20:40:48.790337\\', \\'2023-07-04 20:40:48.790421\\') RETURNING \"blog_model\".\"id\"',\n",
       "  'time': '0.001'},\n",
       " {'sql': 'COMMIT', 'time': '0.001'}]"
      ]
     },
     "execution_count": 51,
     "metadata": {},
     "output_type": "execute_result"
    }
   ],
   "source": [
    "get_query()"
   ]
  },
  {
   "cell_type": "code",
   "execution_count": 50,
   "id": "b6228aa5",
   "metadata": {},
   "outputs": [],
   "source": [
    "obj, created = Blog.objects.get_or_create(\n",
    "    id=100,\n",
    "    defaults={\n",
    "        \"name\":\"Blog number 2\", \n",
    "        \"tagline\":\"This is best blog everrrrrrrrr......\"\n",
    "    },\n",
    ")"
   ]
  },
  {
   "cell_type": "markdown",
   "id": "ac5f7e5c",
   "metadata": {},
   "source": [
    "<a id=\"3.c\"></a>\n",
    "### update_or_create \n",
    "Django Documentation - https://docs.djangoproject.com/en/4.2/ref/models/querysets/#update-or-create"
   ]
  },
  {
   "cell_type": "code",
   "execution_count": 55,
   "id": "04cb375b",
   "metadata": {},
   "outputs": [],
   "source": [
    "search_field = {\"name\": \"Lakshit\"}\n",
    "update_field = {\"name\": \"Techsunami\"}\n",
    "try:\n",
    "    obj = Author.objects.get(**search_field)\n",
    "    for key, value in update_field.items():\n",
    "        setattr(obj, key, value)\n",
    "    obj.save()\n",
    "except Author.DoesNotExist:\n",
    "    new_values = search_field\n",
    "    new_values.update(update_field)\n",
    "    obj = Author(**new_values)\n",
    "    obj.save()"
   ]
  },
  {
   "cell_type": "code",
   "execution_count": 62,
   "id": "f90d6fe8",
   "metadata": {},
   "outputs": [
    {
     "data": {
      "text/plain": [
       "[{'sql': 'SELECT \"blog_model\".\"id\", \"blog_model\".\"name\", \"blog_model\".\"author_id\", \"blog_model\".\"tagline\", \"blog_model\".\"creation_date\", \"blog_model\".\"updation_date\" FROM \"blog_model\" WHERE \"blog_model\".\"id\" = 100 LIMIT 21',\n",
       "  'time': '0.001'},\n",
       " {'sql': 'INSERT INTO \"blog_model\" (\"name\", \"author_id\", \"tagline\", \"creation_date\", \"updation_date\") VALUES (\\'Blog number 2\\', NULL, \\'This is best blog everrrrrrrrr......\\', \\'2023-07-04 20:40:44.004965\\', \\'2023-07-04 20:40:44.005007\\') RETURNING \"blog_model\".\"id\"',\n",
       "  'time': '0.001'},\n",
       " {'sql': 'SELECT \"blog_model\".\"id\", \"blog_model\".\"name\", \"blog_model\".\"author_id\", \"blog_model\".\"tagline\", \"blog_model\".\"creation_date\", \"blog_model\".\"updation_date\" FROM \"blog_model\" WHERE \"blog_model\".\"id\" = 100 LIMIT 21',\n",
       "  'time': '0.000'},\n",
       " {'sql': 'BEGIN', 'time': '0.000'},\n",
       " {'sql': 'INSERT INTO \"blog_model\" (\"id\", \"name\", \"author_id\", \"tagline\", \"creation_date\", \"updation_date\") VALUES (100, \\'Blog number 2\\', NULL, \\'This is best blog everrrrrrrrr......\\', \\'2023-07-04 20:40:48.790337\\', \\'2023-07-04 20:40:48.790421\\') RETURNING \"blog_model\".\"id\"',\n",
       "  'time': '0.001'},\n",
       " {'sql': 'COMMIT', 'time': '0.001'},\n",
       " {'sql': 'SELECT \"author_model\".\"id\", \"author_model\".\"name\", \"author_model\".\"email\", \"author_model\".\"age\", \"author_model\".\"creation_date\", \"author_model\".\"updation_date\" FROM \"author_model\" WHERE \"author_model\".\"name\" = \\'Lakshit\\' LIMIT 21',\n",
       "  'time': '0.001'},\n",
       " {'sql': 'BEGIN', 'time': '0.000'},\n",
       " {'sql': 'SELECT \"author_model\".\"id\", \"author_model\".\"name\", \"author_model\".\"email\", \"author_model\".\"age\", \"author_model\".\"creation_date\", \"author_model\".\"updation_date\" FROM \"author_model\" WHERE \"author_model\".\"name\" = \\'Lakshit\\' LIMIT 21',\n",
       "  'time': '0.000'},\n",
       " {'sql': 'ROLLBACK', 'time': '0.000'},\n",
       " {'sql': 'SELECT \"author_model\".\"id\", \"author_model\".\"name\", \"author_model\".\"email\", \"author_model\".\"age\", \"author_model\".\"creation_date\", \"author_model\".\"updation_date\" FROM \"author_model\" WHERE \"author_model\".\"name\" = \\'Lakshit\\' LIMIT 1',\n",
       "  'time': '0.001'},\n",
       " {'sql': 'BEGIN', 'time': '0.000'},\n",
       " {'sql': 'DELETE FROM \"blog_model\" WHERE \"blog_model\".\"author_id\" IN (1)',\n",
       "  'time': '0.001'},\n",
       " {'sql': 'DELETE FROM \"author_model\" WHERE \"author_model\".\"id\" IN (1)',\n",
       "  'time': '0.000'},\n",
       " {'sql': 'COMMIT', 'time': '0.001'},\n",
       " {'sql': 'SELECT \"author_model\".\"id\", \"author_model\".\"name\", \"author_model\".\"email\", \"author_model\".\"age\", \"author_model\".\"creation_date\", \"author_model\".\"updation_date\" FROM \"author_model\" WHERE \"author_model\".\"name\" = \\'Lakshit\\' LIMIT 21',\n",
       "  'time': '0.001'},\n",
       " {'sql': 'UPDATE \"author_model\" SET \"name\" = \\'Techsunami\\', \"email\" = \\'lakshit@gmail.com\\', \"age\" = NULL, \"creation_date\" = \\'2023-07-04 20:35:23.979331\\', \"updation_date\" = \\'2023-07-04 20:43:07.082250\\' WHERE \"author_model\".\"id\" = 2',\n",
       "  'time': '0.002'},\n",
       " {'sql': 'BEGIN', 'time': '0.000'},\n",
       " {'sql': 'SELECT \"author_model\".\"id\", \"author_model\".\"name\", \"author_model\".\"email\", \"author_model\".\"age\", \"author_model\".\"creation_date\", \"author_model\".\"updation_date\" FROM \"author_model\" WHERE \"author_model\".\"name\" = \\'Lakshit\\' LIMIT 21',\n",
       "  'time': '0.001'},\n",
       " {'sql': 'SAVEPOINT \"s8404442624_x1\"', 'time': '0.000'},\n",
       " {'sql': 'INSERT INTO \"author_model\" (\"name\", \"email\", \"age\", \"creation_date\", \"updation_date\") VALUES (\\'Techsunami\\', NULL, NULL, \\'2023-07-04 20:43:29.750482\\', \\'2023-07-04 20:43:29.750523\\') RETURNING \"author_model\".\"id\"',\n",
       "  'time': '0.001'},\n",
       " {'sql': 'RELEASE SAVEPOINT \"s8404442624_x1\"', 'time': '0.000'},\n",
       " {'sql': 'COMMIT', 'time': '0.001'}]"
      ]
     },
     "execution_count": 62,
     "metadata": {},
     "output_type": "execute_result"
    }
   ],
   "source": [
    "get_query()"
   ]
  },
  {
   "cell_type": "code",
   "execution_count": 56,
   "id": "9135de3d",
   "metadata": {},
   "outputs": [
    {
     "data": {
      "text/plain": [
       "<Author: Techsunami>"
      ]
     },
     "execution_count": 56,
     "metadata": {},
     "output_type": "execute_result"
    }
   ],
   "source": [
    "obj"
   ]
  },
  {
   "cell_type": "code",
   "execution_count": 59,
   "id": "3b0ff104",
   "metadata": {},
   "outputs": [],
   "source": [
    "obj, created = Author.objects.update_or_create(\n",
    "    name=\"Lakshit\",\n",
    "    defaults={\"name\": \"Techsunami\"},\n",
    ")"
   ]
  },
  {
   "cell_type": "markdown",
   "id": "c45074ed",
   "metadata": {},
   "source": [
    "<a id=\"3.d\"></a>\n",
    "### bulk_create\n",
    "\n",
    "<pre>\n",
    "<b>Note</b>\n",
    " - The model’s save() method will not be called, and the pre_save and post_save signals will not be sent.\n",
    "</pre>\n",
    "\n",
    "Django Documentation - https://docs.djangoproject.com/en/4.2/ref/models/querysets/#bulk-create/"
   ]
  },
  {
   "cell_type": "code",
   "execution_count": 63,
   "id": "05ddebb8",
   "metadata": {},
   "outputs": [],
   "source": [
    "reset_queries()"
   ]
  },
  {
   "cell_type": "code",
   "execution_count": 64,
   "id": "a44e1012",
   "metadata": {},
   "outputs": [
    {
     "data": {
      "text/plain": [
       "[]"
      ]
     },
     "execution_count": 64,
     "metadata": {},
     "output_type": "execute_result"
    }
   ],
   "source": [
    "get_query()"
   ]
  },
  {
   "cell_type": "code",
   "execution_count": 65,
   "id": "dfde79b2",
   "metadata": {},
   "outputs": [],
   "source": [
    "objs = Blog.objects.bulk_create(\n",
    "    [\n",
    "        Blog(name=\"Blog number 3\"),\n",
    "        Blog(name=\"Blog number 4\"),\n",
    "        Blog(name=\"Blog number 5\")\n",
    "    ]\n",
    ")"
   ]
  },
  {
   "cell_type": "code",
   "execution_count": 66,
   "id": "f46f38fc",
   "metadata": {},
   "outputs": [
    {
     "data": {
      "text/plain": [
       "[{'sql': 'BEGIN', 'time': '0.000'},\n",
       " {'sql': 'INSERT INTO \"blog_model\" (\"name\", \"author_id\", \"tagline\", \"creation_date\", \"updation_date\") VALUES (\\'Blog number 3\\', NULL, \\'\\', \\'2023-07-04 20:44:37.288404\\', \\'2023-07-04 20:44:37.288447\\'), (\\'Blog number 4\\', NULL, \\'\\', \\'2023-07-04 20:44:37.288471\\', \\'2023-07-04 20:44:37.288485\\'), (\\'Blog number 5\\', NULL, \\'\\', \\'2023-07-04 20:44:37.288506\\', \\'2023-07-04 20:44:37.288520\\') RETURNING \"blog_model\".\"id\"',\n",
       "  'time': '0.001'},\n",
       " {'sql': 'COMMIT', 'time': '0.001'}]"
      ]
     },
     "execution_count": 66,
     "metadata": {},
     "output_type": "execute_result"
    }
   ],
   "source": [
    "get_query()"
   ]
  },
  {
   "cell_type": "markdown",
   "id": "6101400d",
   "metadata": {},
   "source": [
    "<a id=\"3.e\"></a>\n",
    "### bulk_update\n",
    "\n",
    "Django Documentation - https://docs.djangoproject.com/en/4.2/ref/models/querysets/#bulk-update"
   ]
  },
  {
   "cell_type": "code",
   "execution_count": 67,
   "id": "db5256ac",
   "metadata": {},
   "outputs": [
    {
     "data": {
      "text/plain": [
       "3"
      ]
     },
     "execution_count": 67,
     "metadata": {},
     "output_type": "execute_result"
    }
   ],
   "source": [
    "objs[0].name = \"SOmething 1\"\n",
    "objs[1].name = \"something 2\"\n",
    "objs[2].name = \"something 3\"\n",
    "\n",
    "Blog.objects.bulk_update(objs, [\"name\"])"
   ]
  },
  {
   "cell_type": "code",
   "execution_count": 68,
   "id": "5d827444",
   "metadata": {},
   "outputs": [
    {
     "data": {
      "text/plain": [
       "[<Blog: SOmething 1>, <Blog: something 2>, <Blog: something 3>]"
      ]
     },
     "execution_count": 68,
     "metadata": {},
     "output_type": "execute_result"
    }
   ],
   "source": [
    "objs"
   ]
  },
  {
   "cell_type": "code",
   "execution_count": 69,
   "id": "59fba484",
   "metadata": {},
   "outputs": [
    {
     "data": {
      "text/plain": [
       "[{'sql': 'BEGIN', 'time': '0.000'},\n",
       " {'sql': 'INSERT INTO \"blog_model\" (\"name\", \"author_id\", \"tagline\", \"creation_date\", \"updation_date\") VALUES (\\'Blog number 3\\', NULL, \\'\\', \\'2023-07-04 20:44:37.288404\\', \\'2023-07-04 20:44:37.288447\\'), (\\'Blog number 4\\', NULL, \\'\\', \\'2023-07-04 20:44:37.288471\\', \\'2023-07-04 20:44:37.288485\\'), (\\'Blog number 5\\', NULL, \\'\\', \\'2023-07-04 20:44:37.288506\\', \\'2023-07-04 20:44:37.288520\\') RETURNING \"blog_model\".\"id\"',\n",
       "  'time': '0.001'},\n",
       " {'sql': 'COMMIT', 'time': '0.001'},\n",
       " {'sql': 'BEGIN', 'time': '0.000'},\n",
       " {'sql': 'UPDATE \"blog_model\" SET \"name\" = CASE WHEN (\"blog_model\".\"id\" = 101) THEN \\'SOmething 1\\' WHEN (\"blog_model\".\"id\" = 102) THEN \\'something 2\\' WHEN (\"blog_model\".\"id\" = 103) THEN \\'something 3\\' ELSE NULL END WHERE \"blog_model\".\"id\" IN (101, 102, 103)',\n",
       "  'time': '0.001'},\n",
       " {'sql': 'COMMIT', 'time': '0.001'}]"
      ]
     },
     "execution_count": 69,
     "metadata": {},
     "output_type": "execute_result"
    }
   ],
   "source": [
    "get_query()"
   ]
  },
  {
   "cell_type": "markdown",
   "id": "7273b977",
   "metadata": {},
   "source": [
    "<a id=\"3.f\"></a>\n",
    "### count\n",
    "\n",
    "Django Documentation - https://docs.djangoproject.com/en/4.2/ref/models/querysets/#count"
   ]
  },
  {
   "cell_type": "code",
   "execution_count": 70,
   "id": "fa4ec134",
   "metadata": {},
   "outputs": [],
   "source": [
    "objs = Blog.objects.all()"
   ]
  },
  {
   "cell_type": "code",
   "execution_count": 71,
   "id": "947b13ae",
   "metadata": {},
   "outputs": [
    {
     "name": "stdout",
     "output_type": "stream",
     "text": [
      "Query made is {'sql': 'SELECT \"blog_model\".\"id\", \"blog_model\".\"name\", \"blog_model\".\"author_id\", \"blog_model\".\"tagline\", \"blog_model\".\"creation_date\", \"blog_model\".\"updation_date\" FROM \"blog_model\"', 'time': '0.001'}\n"
     ]
    }
   ],
   "source": [
    "# Not optimized\n",
    "len(objs)\n",
    "print(f\"Query made is {get_query()[-1]}\")"
   ]
  },
  {
   "cell_type": "code",
   "execution_count": 72,
   "id": "93297849",
   "metadata": {},
   "outputs": [
    {
     "name": "stdout",
     "output_type": "stream",
     "text": [
      "Query made is {'sql': 'SELECT COUNT(*) AS \"__count\" FROM \"blog_model\"', 'time': '0.001'}\n"
     ]
    }
   ],
   "source": [
    "# optimized\n",
    "Blog.objects.count()\n",
    "print(f\"Query made is {get_query()[-1]}\")"
   ]
  },
  {
   "cell_type": "markdown",
   "id": "5c48ed2d",
   "metadata": {},
   "source": [
    "<a id=\"3.g\"></a>\n",
    "### latest\n",
    "\n",
    "Django Documentation - https://docs.djangoproject.com/en/4.2/ref/models/querysets/#latest"
   ]
  },
  {
   "cell_type": "code",
   "execution_count": 73,
   "id": "d22a523c",
   "metadata": {},
   "outputs": [
    {
     "data": {
      "text/plain": [
       "<Blog: something 3>"
      ]
     },
     "execution_count": 73,
     "metadata": {},
     "output_type": "execute_result"
    }
   ],
   "source": [
    "Blog.objects.latest(\"id\", \"creation_date\")"
   ]
  },
  {
   "cell_type": "code",
   "execution_count": 76,
   "id": "9c5a1293",
   "metadata": {},
   "outputs": [
    {
     "data": {
      "text/plain": [
       "{'sql': 'SELECT \"blog_model\".\"id\", \"blog_model\".\"name\", \"blog_model\".\"author_id\", \"blog_model\".\"tagline\", \"blog_model\".\"creation_date\", \"blog_model\".\"updation_date\" FROM \"blog_model\" ORDER BY \"blog_model\".\"id\" DESC, \"blog_model\".\"creation_date\" DESC LIMIT 1',\n",
       " 'time': '0.001'}"
      ]
     },
     "execution_count": 76,
     "metadata": {},
     "output_type": "execute_result"
    }
   ],
   "source": [
    "get_query()[-1]"
   ]
  },
  {
   "cell_type": "markdown",
   "id": "d582c84e",
   "metadata": {},
   "source": [
    "<a id=\"3.h\"></a>\n",
    "### earliest\n",
    "\n",
    "Django Documentation - https://docs.djangoproject.com/en/4.2/ref/models/querysets/#earliest"
   ]
  },
  {
   "cell_type": "code",
   "execution_count": 77,
   "id": "4920224c",
   "metadata": {},
   "outputs": [
    {
     "name": "stdout",
     "output_type": "stream",
     "text": [
      "Query made is {'sql': 'SELECT \"blog_model\".\"id\", \"blog_model\".\"name\", \"blog_model\".\"author_id\", \"blog_model\".\"tagline\", \"blog_model\".\"creation_date\", \"blog_model\".\"updation_date\" FROM \"blog_model\" ORDER BY \"blog_model\".\"id\" ASC LIMIT 1', 'time': '0.001'}\n"
     ]
    }
   ],
   "source": [
    "Blog.objects.earliest(\"id\")\n",
    "print(f\"Query made is {get_query()[-1]}\")"
   ]
  },
  {
   "cell_type": "markdown",
   "id": "a3ded31a",
   "metadata": {},
   "source": [
    "<a id=\"3.i\"></a>\n",
    "### last\n",
    "\n",
    "Django Documentation - https://docs.djangoproject.com/en/4.2/ref/models/querysets/#last"
   ]
  },
  {
   "cell_type": "code",
   "execution_count": 78,
   "id": "069a6b28",
   "metadata": {},
   "outputs": [
    {
     "name": "stdout",
     "output_type": "stream",
     "text": [
      "Query made is {'sql': 'SELECT \"blog_model\".\"id\", \"blog_model\".\"name\", \"blog_model\".\"author_id\", \"blog_model\".\"tagline\", \"blog_model\".\"creation_date\", \"blog_model\".\"updation_date\" FROM \"blog_model\" ORDER BY \"blog_model\".\"id\" DESC LIMIT 1', 'time': '0.001'}\n"
     ]
    }
   ],
   "source": [
    "Blog.objects.last()\n",
    "print(f\"Query made is {get_query()[-1]}\")"
   ]
  },
  {
   "cell_type": "markdown",
   "id": "35b8be29",
   "metadata": {},
   "source": [
    "<a id=\"3.j\"></a>\n",
    "### first\n",
    "\n",
    "Django Documentation - https://docs.djangoproject.com/en/4.2/ref/models/querysets/#first"
   ]
  },
  {
   "cell_type": "code",
   "execution_count": 79,
   "id": "76f71f02",
   "metadata": {},
   "outputs": [
    {
     "name": "stdout",
     "output_type": "stream",
     "text": [
      "Query made is {'sql': 'SELECT \"blog_model\".\"id\", \"blog_model\".\"name\", \"blog_model\".\"author_id\", \"blog_model\".\"tagline\", \"blog_model\".\"creation_date\", \"blog_model\".\"updation_date\" FROM \"blog_model\" ORDER BY \"blog_model\".\"id\" ASC LIMIT 1', 'time': '0.001'}\n"
     ]
    }
   ],
   "source": [
    "Blog.objects.first()\n",
    "print(f\"Query made is {get_query()[-1]}\")"
   ]
  },
  {
   "cell_type": "markdown",
   "id": "144d94a7",
   "metadata": {},
   "source": [
    "<a id=\"3.k\"></a>\n",
    "### exists\n",
    "\n",
    "Django Documentation - https://docs.djangoproject.com/en/4.2/ref/models/querysets/#exists"
   ]
  },
  {
   "cell_type": "code",
   "execution_count": 95,
   "id": "f4fdec91",
   "metadata": {},
   "outputs": [],
   "source": [
    "objs = Blog.objects.filter(name=\"SOmething 1\")"
   ]
  },
  {
   "cell_type": "code",
   "execution_count": 93,
   "id": "61d43ba3",
   "metadata": {},
   "outputs": [
    {
     "name": "stdout",
     "output_type": "stream",
     "text": [
      "Query made is {'sql': 'SELECT \"blog_model\".\"id\", \"blog_model\".\"name\", \"blog_model\".\"author_id\", \"blog_model\".\"tagline\", \"blog_model\".\"creation_date\", \"blog_model\".\"updation_date\" FROM \"blog_model\" WHERE \"blog_model\".\"name\" = \\'SOmething 1\\'', 'time': '0.001'}\n"
     ]
    }
   ],
   "source": [
    "# Not optimized\n",
    "if objs:\n",
    "    print(f\"Query made is {get_query()[-1]}\")"
   ]
  },
  {
   "cell_type": "code",
   "execution_count": 96,
   "id": "3c15f649",
   "metadata": {},
   "outputs": [
    {
     "name": "stdout",
     "output_type": "stream",
     "text": [
      "Query made is {'sql': 'SELECT 1 AS \"a\" FROM \"blog_model\" WHERE \"blog_model\".\"name\" = \\'SOmething 1\\' LIMIT 1', 'time': '0.001'}\n"
     ]
    }
   ],
   "source": [
    "# optimized\n",
    "if objs.exists():\n",
    "    print(f\"Query made is {get_query()[-1]}\")"
   ]
  },
  {
   "cell_type": "markdown",
   "id": "621db3d3",
   "metadata": {},
   "source": [
    "<a id=\"3.l\"></a>\n",
    "### contains\n",
    "\n",
    "Django Documentation - https://docs.djangoproject.com/en/4.2/ref/models/querysets/#contains"
   ]
  },
  {
   "cell_type": "code",
   "execution_count": 101,
   "id": "829ff02b",
   "metadata": {},
   "outputs": [],
   "source": [
    "objs = Blog.objects.filter(name=\"SOmething 1\")"
   ]
  },
  {
   "cell_type": "code",
   "execution_count": 100,
   "id": "128d305e",
   "metadata": {},
   "outputs": [
    {
     "name": "stdout",
     "output_type": "stream",
     "text": [
      "Query made is {'sql': 'SELECT \"blog_model\".\"id\", \"blog_model\".\"name\", \"blog_model\".\"author_id\", \"blog_model\".\"tagline\", \"blog_model\".\"creation_date\", \"blog_model\".\"updation_date\" FROM \"blog_model\" WHERE \"blog_model\".\"name\" = \\'SOmething 1\\'', 'time': '0.000'}\n"
     ]
    }
   ],
   "source": [
    "# Not optimized\n",
    "if objs[0] in objs:\n",
    "    print(f\"Query made is {get_query()[-1]}\")"
   ]
  },
  {
   "cell_type": "code",
   "execution_count": 102,
   "id": "9a6e6852",
   "metadata": {},
   "outputs": [
    {
     "name": "stdout",
     "output_type": "stream",
     "text": [
      "Query made is {'sql': 'SELECT 1 AS \"a\" FROM \"blog_model\" WHERE (\"blog_model\".\"name\" = \\'SOmething 1\\' AND \"blog_model\".\"id\" = 101) LIMIT 1', 'time': '0.000'}\n"
     ]
    }
   ],
   "source": [
    "#Optimized\n",
    "if objs.contains(objs[0]):\n",
    "    print(f\"Query made is {get_query()[-1]}\")"
   ]
  },
  {
   "cell_type": "markdown",
   "id": "011c5bc1",
   "metadata": {},
   "source": [
    "<a id=\"3.m\"></a>\n",
    "### delete\n",
    "\n",
    "Django Documentation - https://docs.djangoproject.com/en/4.2/ref/models/querysets/#delete"
   ]
  },
  {
   "cell_type": "code",
   "execution_count": 103,
   "id": "de7087a4",
   "metadata": {},
   "outputs": [
    {
     "data": {
      "text/plain": [
       "(0, {})"
      ]
     },
     "execution_count": 103,
     "metadata": {},
     "output_type": "execute_result"
    }
   ],
   "source": [
    "Blog.objects.filter(name=\"Blog number 3\").delete()"
   ]
  },
  {
   "cell_type": "markdown",
   "id": "ac807d4f",
   "metadata": {},
   "source": [
    "<a id=\"3.n\"></a>\n",
    "### update\n",
    "<pre>\n",
    "<b>Note</b>\n",
    " - The model’s save() method will not be called, and the pre_save and post_save signals will not be sent.\n",
    "</pre>\n",
    "\n",
    "Django Documentation - https://docs.djangoproject.com/en/4.2/ref/models/querysets/#update"
   ]
  },
  {
   "cell_type": "code",
   "execution_count": null,
   "id": "c309f90c",
   "metadata": {},
   "outputs": [],
   "source": [
    "# Not optimized\n",
    "obj = Blog.objects.get(id=1)\n",
    "obj.name = \"Somenameeee\"\n",
    "obj.save()\n",
    "\n",
    "print(f\"Query made is {get_query()[-1]}\")"
   ]
  },
  {
   "cell_type": "code",
   "execution_count": null,
   "id": "447313cd",
   "metadata": {},
   "outputs": [],
   "source": [
    "# Optimized because no need to bring in memory (more will learn in future video)\n",
    "Blog.objects.filter(id=1).update(name=\"Donnnnn\")\n",
    "print(f\"Query made is {get_query()[-1]}\")"
   ]
  },
  {
   "cell_type": "markdown",
   "id": "239792f7",
   "metadata": {},
   "source": [
    "<a id=\"3.o\"></a>\n",
    "### aggregate\n",
    "<pre> Operation happen in Database directly</pre>\n",
    "\n",
    "Django Documentation - https://docs.djangoproject.com/en/4.2/ref/models/querysets/#aggregate"
   ]
  },
  {
   "cell_type": "code",
   "execution_count": null,
   "id": "02b77f28",
   "metadata": {},
   "outputs": [],
   "source": [
    "reset_queries()"
   ]
  },
  {
   "cell_type": "code",
   "execution_count": null,
   "id": "2ba191e6",
   "metadata": {},
   "outputs": [],
   "source": [
    "get_query()"
   ]
  },
  {
   "cell_type": "code",
   "execution_count": null,
   "id": "645c3e7a",
   "metadata": {},
   "outputs": [],
   "source": [
    "from django.db.models import Count\n",
    "Blog.objects.aggregate(number_of_entries = Count(\"author\"))\n",
    "print(f\"Query made is {get_query()[-1]}\")"
   ]
  },
  {
   "cell_type": "code",
   "execution_count": null,
   "id": "4801e954",
   "metadata": {},
   "outputs": [],
   "source": [
    "Blog.objects.aggregate(Count(\"author\"))\n",
    "print(f\"Query made is {get_query()[-1]}\")"
   ]
  },
  {
   "cell_type": "markdown",
   "id": "5b7e434b",
   "metadata": {},
   "source": [
    "There are more aggregation Function like Count - https://docs.djangoproject.com/en/4.2/ref/models/querysets/#id6"
   ]
  },
  {
   "cell_type": "markdown",
   "id": "bebd3104",
   "metadata": {},
   "source": [
    "<a id=\"3.p\"></a>\n",
    "### Reverse Foreign Key\n",
    "\n",
    "Documentation - https://stackoverflow.com/questions/5437335/django-queryset-with-filtering-on-reverse-foreign-key"
   ]
  },
  {
   "cell_type": "code",
   "execution_count": 11,
   "id": "d8b7245d",
   "metadata": {},
   "outputs": [],
   "source": [
    "author_obj = Author.objects.get(id=5)"
   ]
  },
  {
   "cell_type": "code",
   "execution_count": 12,
   "id": "f5d6de17",
   "metadata": {},
   "outputs": [
    {
     "data": {
      "text/plain": [
       "<QuerySet [<Blog: Low you without development buy necessary.>, <Blog: Consider as interview heavy those sport.>, <Blog: Significant will radio.>, <Blog: Everyone house city interesting lose.>, <Blog: Value unit lot past task effect.>, <Blog: Relationship glass ok defense message.>, <Blog: Purpose maintain under despite part.>, <Blog: Study little together.>, <Blog: Both staff light successful.>, <Blog: Newspaper affect time agency meet response to.>, <Blog: Our nor day boy everybody end movement forget.>, <Blog: Cell game pay must imagine five.>, <Blog: Success while his everything history letter strong.>, <Blog: Hot receive create.>, <Blog: Follow economic admit continue.>, <Blog: Expert star admit make likely focus open.>, <Blog: Campaign seem school water have.>, <Blog: Anything ball sport three.>, <Blog: Network moment he none office history just.>, <Blog: Break health from series represent increase each oil.>, '...(remaining elements truncated)...']>"
      ]
     },
     "execution_count": 12,
     "metadata": {},
     "output_type": "execute_result"
    }
   ],
   "source": [
    "#If you have written related_name\n",
    "author_obj.author_blog.all()\n",
    "\n",
    "# #else\n",
    "# author_obj.blog_set.all()"
   ]
  },
  {
   "cell_type": "code",
   "execution_count": null,
   "id": "1e33238a",
   "metadata": {},
   "outputs": [],
   "source": [
    "print(f\"Query made is {get_query()[-1]}\")"
   ]
  },
  {
   "cell_type": "code",
   "execution_count": null,
   "id": "4cf0f201",
   "metadata": {},
   "outputs": [],
   "source": []
  },
  {
   "cell_type": "code",
   "execution_count": null,
   "id": "a5258ab4",
   "metadata": {},
   "outputs": [],
   "source": []
  },
  {
   "cell_type": "code",
   "execution_count": null,
   "id": "af4d0f1f",
   "metadata": {},
   "outputs": [],
   "source": []
  },
  {
   "cell_type": "code",
   "execution_count": null,
   "id": "506279e1",
   "metadata": {},
   "outputs": [],
   "source": []
  },
  {
   "cell_type": "code",
   "execution_count": null,
   "id": "37ed103c",
   "metadata": {},
   "outputs": [],
   "source": []
  },
  {
   "cell_type": "code",
   "execution_count": null,
   "id": "dcfe8da0",
   "metadata": {},
   "outputs": [],
   "source": []
  },
  {
   "cell_type": "code",
   "execution_count": null,
   "id": "aa817d92",
   "metadata": {},
   "outputs": [],
   "source": []
  },
  {
   "cell_type": "code",
   "execution_count": null,
   "id": "ae145c1a",
   "metadata": {},
   "outputs": [],
   "source": []
  },
  {
   "cell_type": "markdown",
   "id": "9da360f0",
   "metadata": {},
   "source": [
    "## Hey.... If You are liked the content Do subscribe to my Youtube Channel\n",
    "https://www.youtube.com/channel/UCpuKtSx_Cu8_ikyhlKAWBYA?sub_confirmation=1\n",
    "\n",
    "<b>Also You can connect with me on Linkedin</b> - https://www.linkedin.com/in/lakshit-ukani/"
   ]
  },
  {
   "cell_type": "code",
   "execution_count": null,
   "id": "dfd82f1e",
   "metadata": {},
   "outputs": [],
   "source": []
  }
 ],
 "metadata": {
  "kernelspec": {
   "display_name": "Django Shell-Plus",
   "language": "python",
   "name": "django_extensions"
  },
  "language_info": {
   "codemirror_mode": {
    "name": "ipython",
    "version": 3
   },
   "file_extension": ".py",
   "mimetype": "text/x-python",
   "name": "python",
   "nbconvert_exporter": "python",
   "pygments_lexer": "ipython3",
   "version": "3.10.11"
  }
 },
 "nbformat": 4,
 "nbformat_minor": 5
}
