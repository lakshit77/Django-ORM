{
 "cells": [
  {
   "cell_type": "code",
   "execution_count": 81,
   "id": "e452e25d",
   "metadata": {},
   "outputs": [],
   "source": [
    "# How to Run Django in Jupyter Notebook\n",
    "# Add video link here"
   ]
  },
  {
   "cell_type": "code",
   "execution_count": 82,
   "id": "6dda5bc6",
   "metadata": {},
   "outputs": [],
   "source": [
    "import os\n",
    "os.environ[\"DJANGO_ALLOW_ASYNC_UNSAFE\"] = \"true\"\n",
    "from django.db import connection\n",
    "from django.db import reset_queries\n",
    "from django.db import models\n",
    "from django_orm_app.models import Author, Blog\n",
    "from faker import Faker \n",
    "import random\n"
   ]
  },
  {
   "cell_type": "code",
   "execution_count": 85,
   "id": "4f6ac4fd",
   "metadata": {},
   "outputs": [
    {
     "data": {
      "text/plain": [
       "30000"
      ]
     },
     "execution_count": 85,
     "metadata": {},
     "output_type": "execute_result"
    }
   ],
   "source": [
    "Blog.objects.count()"
   ]
  },
  {
   "cell_type": "code",
   "execution_count": 86,
   "id": "dcb84148",
   "metadata": {},
   "outputs": [],
   "source": [
    "# fake = Faker()\n",
    "# range_of_author_id = 100"
   ]
  },
  {
   "cell_type": "code",
   "execution_count": 87,
   "id": "45fe64be",
   "metadata": {},
   "outputs": [],
   "source": [
    "# lst_author = []\n",
    "# for _ in range(range_of_author_id):\n",
    "#     lst_author.append(\n",
    "#         Author(\n",
    "#             name=fake.name(), \n",
    "#             age=random.randint(1,100)\n",
    "#         )\n",
    "#     )"
   ]
  },
  {
   "cell_type": "code",
   "execution_count": 88,
   "id": "b39fb8ca",
   "metadata": {},
   "outputs": [],
   "source": [
    "# objs_author = Author.objects.bulk_create(lst_author)"
   ]
  },
  {
   "cell_type": "code",
   "execution_count": 89,
   "id": "2a1fec75",
   "metadata": {},
   "outputs": [],
   "source": [
    "# lst_blog = []\n",
    "# for _ in range(10000):\n",
    "#     lst_blog.append(\n",
    "#         Blog(\n",
    "#             name=fake.sentence(), \n",
    "#             tagline= fake.paragraph(), \n",
    "#             author_id=random.randint(1, 100)\n",
    "#         )\n",
    "#     )"
   ]
  },
  {
   "cell_type": "code",
   "execution_count": 90,
   "id": "ed9d512f",
   "metadata": {},
   "outputs": [],
   "source": [
    "# objs_blog = Blog.objects.bulk_create(lst_blog)"
   ]
  },
  {
   "cell_type": "markdown",
   "id": "d6e8c724",
   "metadata": {},
   "source": [
    "## Table of Content\n",
    "1. [Method that return new Queryset](#3)\n",
    "    1. [filter](#3.a) \n",
    "    2. [exclude](#3.b) \n",
    "    3. [annotate ](#3.c) \n",
    "    4. [order_by](#3.d) \n",
    "    5. [distinct](#3.e) \n",
    "    6. [values](#3.f) \n",
    "    7. [values_list](#3.g) \n",
    "    8. [all](#3.h) \n",
    "    9. [union](#3.i) \n",
    "    10. [intersection](#3.j) \n",
    "    11. [difference](#3.k) \n",
    "    12. [defer](#3.l)\n",
    "    13. [only](#3.m)\n",
    "    14. [select_for_update](#3.n)\n",
    "    15. [raw](#3.o)"
   ]
  },
  {
   "cell_type": "code",
   "execution_count": 17,
   "id": "6eee6d01",
   "metadata": {},
   "outputs": [],
   "source": [
    "def get_query():\n",
    "    return connection.queries"
   ]
  },
  {
   "cell_type": "markdown",
   "id": "53e22f79",
   "metadata": {},
   "source": [
    "<a id=\"3\"></a>\n",
    "## Method that return new Queryset\n",
    "Django Documentation - https://docs.djangoproject.com/en/4.2/ref/models/querysets/#methods-that-return-new-querysets"
   ]
  },
  {
   "cell_type": "markdown",
   "id": "0332de08",
   "metadata": {},
   "source": [
    "<a id=\"3.a\"></a>\n",
    "### filter\n",
    "\n",
    "Django Documentation - https://docs.djangoproject.com/en/4.2/ref/models/querysets/#filter <br>\n",
    "All Field Lookup Documentation - https://docs.djangoproject.com/en/4.2/ref/models/querysets/#field-lookups"
   ]
  },
  {
   "cell_type": "code",
   "execution_count": 20,
   "id": "572aada9",
   "metadata": {},
   "outputs": [],
   "source": [
    "objs = Author.objects.filter(age__gt = 90)"
   ]
  },
  {
   "cell_type": "code",
   "execution_count": 21,
   "id": "12fbc899",
   "metadata": {},
   "outputs": [
    {
     "name": "stdout",
     "output_type": "stream",
     "text": [
      "Justin Johnston 96\n",
      "Robert Lopez 91\n",
      "Marcus Lee 97\n",
      "Debbie Garcia 92\n",
      "Justin Taylor 96\n",
      "Kelsey Boyer 96\n",
      "Taylor Dorsey 100\n",
      "Jacob Jones 95\n",
      "Karen Harvey 97\n",
      "Nancy Nelson 100\n",
      "Tiffany Jones 92\n",
      "Tracy Beck 98\n",
      "Joshua Evans 91\n",
      "Kristina Knapp 93\n",
      "Todd Patrick 100\n",
      "Kathryn Perez 99\n",
      "Query made is {'sql': 'SELECT \"author_model\".\"id\", \"author_model\".\"name\", \"author_model\".\"email\", \"author_model\".\"age\", \"author_model\".\"creation_date\", \"author_model\".\"updation_date\" FROM \"author_model\" WHERE \"author_model\".\"age\" > 90', 'time': '0.001'}\n"
     ]
    }
   ],
   "source": [
    "for obj in objs:\n",
    "    print(obj.name, obj.age)\n",
    "\n",
    "print(f\"Query made is {get_query()[-1]}\")"
   ]
  },
  {
   "cell_type": "code",
   "execution_count": 22,
   "id": "346302db",
   "metadata": {},
   "outputs": [],
   "source": [
    "from django.db.models import Q\n",
    "objs = Author.objects.filter(Q(name__icontains = \"Sarah\") | Q(age__gt = 90))"
   ]
  },
  {
   "cell_type": "code",
   "execution_count": 23,
   "id": "e8f2a21a",
   "metadata": {},
   "outputs": [
    {
     "name": "stdout",
     "output_type": "stream",
     "text": [
      "Justin Johnston 96\n",
      "Robert Lopez 91\n",
      "Marcus Lee 97\n",
      "Debbie Garcia 92\n",
      "Justin Taylor 96\n",
      "Kelsey Boyer 96\n",
      "Taylor Dorsey 100\n",
      "Jacob Jones 95\n",
      "Karen Harvey 97\n",
      "Nancy Nelson 100\n",
      "Tiffany Jones 92\n",
      "Tracy Beck 98\n",
      "Joshua Evans 91\n",
      "Kristina Knapp 93\n",
      "Todd Patrick 100\n",
      "Kathryn Perez 99\n"
     ]
    }
   ],
   "source": [
    "for obj in objs:\n",
    "    print(obj.name, obj.age)\n"
   ]
  },
  {
   "cell_type": "code",
   "execution_count": 24,
   "id": "83955af6",
   "metadata": {},
   "outputs": [
    {
     "name": "stdout",
     "output_type": "stream",
     "text": [
      "Query made is {'sql': 'SELECT \"author_model\".\"id\", \"author_model\".\"name\", \"author_model\".\"email\", \"author_model\".\"age\", \"author_model\".\"creation_date\", \"author_model\".\"updation_date\" FROM \"author_model\" WHERE (\"author_model\".\"name\" LIKE \\'%Sarah%\\' ESCAPE \\'\\\\\\' OR \"author_model\".\"age\" > 90)', 'time': '0.000'}\n"
     ]
    }
   ],
   "source": [
    "print(f\"Query made is {get_query()[-1]}\")"
   ]
  },
  {
   "cell_type": "code",
   "execution_count": 229,
   "id": "2cdb3b94",
   "metadata": {},
   "outputs": [
    {
     "data": {
      "text/plain": [
       "<QuerySet [<Blog: So side then save bank though dog.>, <Blog: White heavy dog attention.>, <Blog: Decide TV heart dog war plant including miss.>, <Blog: During season dog anything impact lot.>, <Blog: Professional off lay dog five husband.>, <Blog: Hair edge or PM dog live prevent focus.>, <Blog: However certain dog kind.>, <Blog: Risk rate dog eight hotel share tend.>, <Blog: Wish dog him affect across affect edge.>, <Blog: And example but wife word dog.>, <Blog: On dog season detail.>, <Blog: Spend itself dog soon approach big.>, <Blog: Scene political dog natural.>, <Blog: Store reflect machine modern buy dog.>, <Blog: Tonight dog majority sea style organization wish.>, <Blog: It learn dog require attack movement.>, <Blog: Manager control dog.>, <Blog: Usually science truth hour dog.>, <Blog: Point dog story week better politics threat property.>, <Blog: Far skill dog trouble case this.>, '...(remaining elements truncated)...']>"
      ]
     },
     "execution_count": 229,
     "metadata": {},
     "output_type": "execute_result"
    }
   ],
   "source": [
    "#Chaining of Filter\n",
    "Blog.objects.filter(name__contains=\"dog\").filter(author__age__lt = 50)"
   ]
  },
  {
   "cell_type": "code",
   "execution_count": 230,
   "id": "7c08f1ad",
   "metadata": {},
   "outputs": [
    {
     "data": {
      "text/plain": [
       "{'sql': 'SELECT \"blog_model\".\"id\", \"blog_model\".\"name\", \"blog_model\".\"author_id\", \"blog_model\".\"tagline\", \"blog_model\".\"creation_date\", \"blog_model\".\"updation_date\" FROM \"blog_model\" INNER JOIN \"author_model\" ON (\"blog_model\".\"author_id\" = \"author_model\".\"id\") WHERE (\"blog_model\".\"name\" LIKE \\'%dog%\\' ESCAPE \\'\\\\\\' AND \"author_model\".\"age\" < 50) LIMIT 21',\n",
       " 'time': '0.000'}"
      ]
     },
     "execution_count": 230,
     "metadata": {},
     "output_type": "execute_result"
    }
   ],
   "source": [
    "get_query()[-1]"
   ]
  },
  {
   "cell_type": "markdown",
   "id": "8932b961",
   "metadata": {},
   "source": [
    "<a id=\"3.b\"></a>\n",
    "### exclude\n",
    "\n",
    "Django Documentation - https://docs.djangoproject.com/en/4.2/ref/models/querysets/#exclude"
   ]
  },
  {
   "cell_type": "code",
   "execution_count": 25,
   "id": "e8ccaa3c",
   "metadata": {},
   "outputs": [],
   "source": [
    "objs = Author.objects.exclude(age__lt = 90)"
   ]
  },
  {
   "cell_type": "code",
   "execution_count": 26,
   "id": "d6d72146",
   "metadata": {},
   "outputs": [
    {
     "name": "stdout",
     "output_type": "stream",
     "text": [
      "Justin Johnston 96\n",
      "Robert Lopez 91\n",
      "Marcus Lee 97\n",
      "Debbie Garcia 92\n",
      "Justin Taylor 96\n",
      "Kelsey Boyer 96\n",
      "Taylor Dorsey 100\n",
      "Jacob Jones 95\n",
      "Karen Harvey 97\n",
      "Nancy Nelson 100\n",
      "Tiffany Jones 92\n",
      "Tracy Beck 98\n",
      "Joshua Evans 91\n",
      "Jack Wilson 90\n",
      "Kristina Knapp 93\n",
      "Todd Patrick 100\n",
      "Kathryn Perez 99\n"
     ]
    }
   ],
   "source": [
    "for obj in objs:\n",
    "    print(obj.name, obj.age)"
   ]
  },
  {
   "cell_type": "code",
   "execution_count": 27,
   "id": "d943d3f0",
   "metadata": {},
   "outputs": [
    {
     "name": "stdout",
     "output_type": "stream",
     "text": [
      "Query made is {'sql': 'SELECT \"author_model\".\"id\", \"author_model\".\"name\", \"author_model\".\"email\", \"author_model\".\"age\", \"author_model\".\"creation_date\", \"author_model\".\"updation_date\" FROM \"author_model\" WHERE NOT (\"author_model\".\"age\" < 90 AND \"author_model\".\"age\" IS NOT NULL)', 'time': '0.000'}\n"
     ]
    }
   ],
   "source": [
    "print(f\"Query made is {get_query()[-1]}\")"
   ]
  },
  {
   "cell_type": "markdown",
   "id": "ac5f7e5c",
   "metadata": {},
   "source": [
    "<a id=\"3.c\"></a>\n",
    "### annotate method\n",
    "Django Documentation - https://docs.djangoproject.com/en/4.2/ref/models/querysets/#update-or-create"
   ]
  },
  {
   "cell_type": "code",
   "execution_count": 33,
   "id": "a1db4910",
   "metadata": {},
   "outputs": [],
   "source": [
    "from django.db.models import Count, Avg\n",
    "objs = Author.objects.annotate(age_less_than_25 = Q(age__lt = 25))"
   ]
  },
  {
   "cell_type": "code",
   "execution_count": 34,
   "id": "f67508e0",
   "metadata": {},
   "outputs": [
    {
     "name": "stdout",
     "output_type": "stream",
     "text": [
      "Justin Johnston -- False -- 96\n",
      "Mark Berry -- False -- 80\n",
      "Heather Friedman -- False -- 89\n",
      "Amy White -- False -- 59\n",
      "Timothy Cameron -- False -- 65\n",
      "Debra Gray -- False -- 89\n",
      "Drew Sweeney -- True -- 2\n",
      "Tina Valdez -- False -- 48\n",
      "Brandon Barker -- True -- 19\n",
      "Robert Lopez -- False -- 91\n",
      "Marcus Lee -- False -- 97\n",
      "Julie Carter -- False -- 50\n",
      "Lori Oconnor -- False -- 51\n",
      "Debbie Garcia -- False -- 92\n",
      "Benjamin Harris -- True -- 14\n",
      "Michael Montes -- False -- 32\n",
      "Richard Price -- False -- 34\n",
      "James Gomez -- True -- 18\n",
      "Justin Taylor -- False -- 96\n",
      "Kelsey Boyer -- False -- 96\n",
      "Joseph Roberts -- False -- 69\n",
      "Christopher Hernandez -- False -- 81\n",
      "Dustin Schroeder -- False -- 47\n",
      "Logan Chang -- False -- 48\n",
      "Taylor Dorsey -- False -- 100\n",
      "Stephanie Brewer -- False -- 33\n",
      "Anthony Brown -- False -- 62\n",
      "Breanna Camacho -- False -- 79\n",
      "Jeffrey Powers -- False -- 85\n",
      "Jennifer Ball -- True -- 23\n",
      "Rachel Smith -- True -- 2\n",
      "Peter Byrd -- True -- 8\n",
      "Stephanie Barr -- True -- 24\n",
      "Jacob Jones -- False -- 95\n",
      "Timothy Morgan -- False -- 69\n",
      "Colton Smith -- False -- 45\n",
      "Kyle Taylor III -- True -- 9\n",
      "James Brown -- True -- 11\n",
      "Joan Martinez -- False -- 83\n",
      "Karen Harvey -- False -- 97\n",
      "Miguel Cruz -- True -- 20\n",
      "Steven Stewart -- False -- 33\n",
      "Katherine Bennett -- False -- 80\n",
      "Nancy Nelson -- False -- 100\n",
      "Whitney Miller -- True -- 21\n",
      "Paul Wagner -- False -- 68\n",
      "Clayton Taylor -- False -- 80\n",
      "Tiffany Jones -- False -- 92\n",
      "Marcus Diaz -- False -- 49\n",
      "Amy Cruz -- False -- 67\n",
      "Tracy Beck -- False -- 98\n",
      "Daniel Villegas -- True -- 7\n",
      "Debbie Mckee -- True -- 16\n",
      "Joshua Evans -- False -- 91\n",
      "Tina Jackson -- False -- 39\n",
      "Nicholas Hall -- False -- 89\n",
      "Spencer Hayes -- False -- 59\n",
      "Alicia Nichols -- False -- 29\n",
      "Vicki Griffin -- False -- 45\n",
      "Lindsay Mayer -- True -- 20\n",
      "Dakota Lee -- False -- 26\n",
      "Jack Wilson -- False -- 90\n",
      "Miranda Massey -- False -- 80\n",
      "William Mckinney -- False -- 77\n",
      "Crystal Jenkins -- False -- 68\n",
      "Sherri Li -- True -- 21\n",
      "Adriana Clark -- True -- 3\n",
      "Benjamin Hamilton -- False -- 28\n",
      "Sydney Gallagher -- False -- 89\n",
      "Cindy Murphy -- False -- 37\n",
      "Colleen Cochran -- True -- 8\n",
      "Angela Webb -- True -- 1\n",
      "Tracy Howard -- False -- 38\n",
      "Aaron Parker -- False -- 57\n",
      "Jeffrey Delgado -- False -- 80\n",
      "Connie Mathews -- False -- 47\n",
      "Gary Turner -- False -- 62\n",
      "Haley Goodwin -- False -- 41\n",
      "Christopher Campbell -- True -- 23\n",
      "Ralph Martinez -- False -- 51\n",
      "Sheryl Moss -- True -- 3\n",
      "Tina Brewer -- False -- 83\n",
      "Kimberly Thomas -- False -- 36\n",
      "Tracy Martinez -- True -- 22\n",
      "Kristina Knapp -- False -- 93\n",
      "Jordan Williams -- False -- 46\n",
      "Christopher Murphy -- False -- 77\n",
      "Patrick Olson -- False -- 76\n",
      "Tonya Gallegos -- False -- 88\n",
      "Danny Sherman -- False -- 50\n",
      "Rachel White -- True -- 12\n",
      "Brianna Smith -- False -- 81\n",
      "Stephanie Mitchell -- False -- 60\n",
      "Pamela Carroll -- True -- 5\n",
      "Todd Patrick -- False -- 100\n",
      "Mark George -- False -- 52\n",
      "Kathryn Perez -- False -- 99\n",
      "Samuel Jones -- False -- 47\n",
      "Reginald Williamson -- False -- 57\n",
      "Jennifer Harris -- True -- 18\n"
     ]
    }
   ],
   "source": [
    "for obj in objs:\n",
    "    print(f\"{obj.name} -- {obj.age_less_than_25} -- {obj.age}\")"
   ]
  },
  {
   "cell_type": "code",
   "execution_count": 35,
   "id": "74184738",
   "metadata": {},
   "outputs": [
    {
     "data": {
      "text/plain": [
       "{'sql': 'SELECT \"author_model\".\"id\", \"author_model\".\"name\", \"author_model\".\"email\", \"author_model\".\"age\", \"author_model\".\"creation_date\", \"author_model\".\"updation_date\", \"author_model\".\"age\" < 25 AS \"age_less_than_25\" FROM \"author_model\"',\n",
       " 'time': '0.000'}"
      ]
     },
     "execution_count": 35,
     "metadata": {},
     "output_type": "execute_result"
    }
   ],
   "source": [
    "get_query()[-1]"
   ]
  },
  {
   "cell_type": "markdown",
   "id": "c45074ed",
   "metadata": {},
   "source": [
    "<a id=\"3.d\"></a>\n",
    "### order_by\n",
    "\n",
    "Django Documentation - https://docs.djangoproject.com/en/4.2/ref/models/querysets/#order-by"
   ]
  },
  {
   "cell_type": "code",
   "execution_count": 47,
   "id": "0c022633",
   "metadata": {},
   "outputs": [],
   "source": [
    "objs = Author.objects.order_by(\"-age\")"
   ]
  },
  {
   "cell_type": "code",
   "execution_count": 48,
   "id": "b4d5d89f",
   "metadata": {},
   "outputs": [
    {
     "name": "stdout",
     "output_type": "stream",
     "text": [
      "Taylor Dorsey 100\n",
      "Nancy Nelson 100\n",
      "Todd Patrick 100\n",
      "Kathryn Perez 99\n",
      "Tracy Beck 98\n",
      "Marcus Lee 97\n",
      "Karen Harvey 97\n",
      "Justin Johnston 96\n",
      "Justin Taylor 96\n",
      "Kelsey Boyer 96\n",
      "Jacob Jones 95\n",
      "Kristina Knapp 93\n",
      "Debbie Garcia 92\n",
      "Tiffany Jones 92\n",
      "Robert Lopez 91\n",
      "Joshua Evans 91\n",
      "Jack Wilson 90\n",
      "Heather Friedman 89\n",
      "Debra Gray 89\n",
      "Nicholas Hall 89\n",
      "Sydney Gallagher 89\n",
      "Tonya Gallegos 88\n",
      "Jeffrey Powers 85\n",
      "Joan Martinez 83\n",
      "Tina Brewer 83\n",
      "Christopher Hernandez 81\n",
      "Brianna Smith 81\n",
      "Mark Berry 80\n",
      "Katherine Bennett 80\n",
      "Clayton Taylor 80\n",
      "Miranda Massey 80\n",
      "Jeffrey Delgado 80\n",
      "Breanna Camacho 79\n",
      "William Mckinney 77\n",
      "Christopher Murphy 77\n",
      "Patrick Olson 76\n",
      "Joseph Roberts 69\n",
      "Timothy Morgan 69\n",
      "Paul Wagner 68\n",
      "Crystal Jenkins 68\n",
      "Amy Cruz 67\n",
      "Timothy Cameron 65\n",
      "Anthony Brown 62\n",
      "Gary Turner 62\n",
      "Stephanie Mitchell 60\n",
      "Amy White 59\n",
      "Spencer Hayes 59\n",
      "Aaron Parker 57\n",
      "Reginald Williamson 57\n",
      "Mark George 52\n",
      "Lori Oconnor 51\n",
      "Ralph Martinez 51\n",
      "Julie Carter 50\n",
      "Danny Sherman 50\n",
      "Marcus Diaz 49\n",
      "Tina Valdez 48\n",
      "Logan Chang 48\n",
      "Dustin Schroeder 47\n",
      "Connie Mathews 47\n",
      "Samuel Jones 47\n",
      "Jordan Williams 46\n",
      "Colton Smith 45\n",
      "Vicki Griffin 45\n",
      "Haley Goodwin 41\n",
      "Tina Jackson 39\n",
      "Tracy Howard 38\n",
      "Cindy Murphy 37\n",
      "Kimberly Thomas 36\n",
      "Richard Price 34\n",
      "Stephanie Brewer 33\n",
      "Steven Stewart 33\n",
      "Michael Montes 32\n",
      "Alicia Nichols 29\n",
      "Benjamin Hamilton 28\n",
      "Dakota Lee 26\n",
      "Stephanie Barr 24\n",
      "Jennifer Ball 23\n",
      "Christopher Campbell 23\n",
      "Tracy Martinez 22\n",
      "Whitney Miller 21\n",
      "Sherri Li 21\n",
      "Miguel Cruz 20\n",
      "Lindsay Mayer 20\n",
      "Brandon Barker 19\n",
      "James Gomez 18\n",
      "Jennifer Harris 18\n",
      "Debbie Mckee 16\n",
      "Benjamin Harris 14\n",
      "Rachel White 12\n",
      "James Brown 11\n",
      "Kyle Taylor III 9\n",
      "Peter Byrd 8\n",
      "Colleen Cochran 8\n",
      "Daniel Villegas 7\n",
      "Pamela Carroll 5\n",
      "Adriana Clark 3\n",
      "Sheryl Moss 3\n",
      "Drew Sweeney 2\n",
      "Rachel Smith 2\n",
      "Angela Webb 1\n"
     ]
    }
   ],
   "source": [
    "for obj in objs:\n",
    "    print(obj.name, obj.age)"
   ]
  },
  {
   "cell_type": "code",
   "execution_count": 49,
   "id": "69bae848",
   "metadata": {},
   "outputs": [
    {
     "data": {
      "text/plain": [
       "{'sql': 'SELECT \"author_model\".\"id\", \"author_model\".\"name\", \"author_model\".\"email\", \"author_model\".\"age\", \"author_model\".\"creation_date\", \"author_model\".\"updation_date\" FROM \"author_model\" ORDER BY \"author_model\".\"age\" DESC',\n",
       " 'time': '0.000'}"
      ]
     },
     "execution_count": 49,
     "metadata": {},
     "output_type": "execute_result"
    }
   ],
   "source": [
    "get_query()[-1]"
   ]
  },
  {
   "cell_type": "markdown",
   "id": "6101400d",
   "metadata": {},
   "source": [
    "<a id=\"3.e\"></a>\n",
    "### distinct\n",
    "\n",
    "Django Documentation - https://docs.djangoproject.com/en/4.2/ref/models/querysets/#distinct"
   ]
  },
  {
   "cell_type": "code",
   "execution_count": 107,
   "id": "00e4dc78",
   "metadata": {},
   "outputs": [],
   "source": [
    "# It remove duplicate row from database\n",
    "objs = Author.objects.distinct()"
   ]
  },
  {
   "cell_type": "code",
   "execution_count": 108,
   "id": "90e9d64a",
   "metadata": {},
   "outputs": [
    {
     "name": "stdout",
     "output_type": "stream",
     "text": [
      "Justin Johnston 96\n",
      "Mark Berry 80\n",
      "Heather Friedman 89\n",
      "Amy White 59\n",
      "Timothy Cameron 65\n",
      "Debra Gray 89\n",
      "Drew Sweeney 2\n",
      "Tina Valdez 48\n",
      "Brandon Barker 19\n",
      "Robert Lopez 91\n",
      "Marcus Lee 97\n",
      "Julie Carter 50\n",
      "Lori Oconnor 51\n",
      "Debbie Garcia 92\n",
      "Benjamin Harris 14\n",
      "Michael Montes 32\n",
      "Richard Price 34\n",
      "James Gomez 18\n",
      "Justin Taylor 96\n",
      "Kelsey Boyer 96\n"
     ]
    }
   ],
   "source": [
    "for obj in objs[:20]:\n",
    "    print(obj.name, obj.age)"
   ]
  },
  {
   "cell_type": "code",
   "execution_count": 109,
   "id": "26af708a",
   "metadata": {},
   "outputs": [
    {
     "data": {
      "text/plain": [
       "{'sql': 'SELECT DISTINCT \"author_model\".\"id\", \"author_model\".\"name\", \"author_model\".\"email\", \"author_model\".\"age\", \"author_model\".\"creation_date\", \"author_model\".\"updation_date\" FROM \"author_model\" LIMIT 20',\n",
       " 'time': '0.001'}"
      ]
     },
     "execution_count": 109,
     "metadata": {},
     "output_type": "execute_result"
    }
   ],
   "source": [
    "get_query()[-1]"
   ]
  },
  {
   "cell_type": "markdown",
   "id": "7273b977",
   "metadata": {},
   "source": [
    "<a id=\"3.f\"></a>\n",
    "### values\n",
    "\n",
    "Django Documentation - https://docs.djangoproject.com/en/4.2/ref/models/querysets/#values"
   ]
  },
  {
   "cell_type": "code",
   "execution_count": 110,
   "id": "c9de8e72",
   "metadata": {},
   "outputs": [
    {
     "data": {
      "text/plain": [
       "<QuerySet [{'id': 1, 'name': 'Justin Johnston', 'email': None, 'age': 96, 'creation_date': datetime.datetime(2023, 7, 2, 19, 13, 55, 858228, tzinfo=datetime.timezone.utc), 'updation_date': datetime.datetime(2023, 7, 2, 19, 13, 55, 858280, tzinfo=datetime.timezone.utc)}, {'id': 2, 'name': 'Mark Berry', 'email': None, 'age': 80, 'creation_date': datetime.datetime(2023, 7, 2, 19, 13, 55, 858308, tzinfo=datetime.timezone.utc), 'updation_date': datetime.datetime(2023, 7, 2, 19, 13, 55, 858323, tzinfo=datetime.timezone.utc)}, {'id': 3, 'name': 'Heather Friedman', 'email': None, 'age': 89, 'creation_date': datetime.datetime(2023, 7, 2, 19, 13, 55, 858347, tzinfo=datetime.timezone.utc), 'updation_date': datetime.datetime(2023, 7, 2, 19, 13, 55, 858360, tzinfo=datetime.timezone.utc)}, {'id': 4, 'name': 'Amy White', 'email': None, 'age': 59, 'creation_date': datetime.datetime(2023, 7, 2, 19, 13, 55, 858388, tzinfo=datetime.timezone.utc), 'updation_date': datetime.datetime(2023, 7, 2, 19, 13, 55, 858403, tzinfo=datetime.timezone.utc)}, {'id': 5, 'name': 'Timothy Cameron', 'email': None, 'age': 65, 'creation_date': datetime.datetime(2023, 7, 2, 19, 13, 55, 858426, tzinfo=datetime.timezone.utc), 'updation_date': datetime.datetime(2023, 7, 2, 19, 13, 55, 858440, tzinfo=datetime.timezone.utc)}, {'id': 6, 'name': 'Debra Gray', 'email': None, 'age': 89, 'creation_date': datetime.datetime(2023, 7, 2, 19, 13, 55, 858463, tzinfo=datetime.timezone.utc), 'updation_date': datetime.datetime(2023, 7, 2, 19, 13, 55, 858477, tzinfo=datetime.timezone.utc)}, {'id': 7, 'name': 'Drew Sweeney', 'email': None, 'age': 2, 'creation_date': datetime.datetime(2023, 7, 2, 19, 13, 55, 858499, tzinfo=datetime.timezone.utc), 'updation_date': datetime.datetime(2023, 7, 2, 19, 13, 55, 858513, tzinfo=datetime.timezone.utc)}, {'id': 8, 'name': 'Tina Valdez', 'email': None, 'age': 48, 'creation_date': datetime.datetime(2023, 7, 2, 19, 13, 55, 858535, tzinfo=datetime.timezone.utc), 'updation_date': datetime.datetime(2023, 7, 2, 19, 13, 55, 858548, tzinfo=datetime.timezone.utc)}, {'id': 9, 'name': 'Brandon Barker', 'email': None, 'age': 19, 'creation_date': datetime.datetime(2023, 7, 2, 19, 13, 55, 858570, tzinfo=datetime.timezone.utc), 'updation_date': datetime.datetime(2023, 7, 2, 19, 13, 55, 858583, tzinfo=datetime.timezone.utc)}, {'id': 10, 'name': 'Robert Lopez', 'email': None, 'age': 91, 'creation_date': datetime.datetime(2023, 7, 2, 19, 13, 55, 858606, tzinfo=datetime.timezone.utc), 'updation_date': datetime.datetime(2023, 7, 2, 19, 13, 55, 858619, tzinfo=datetime.timezone.utc)}, {'id': 11, 'name': 'Marcus Lee', 'email': None, 'age': 97, 'creation_date': datetime.datetime(2023, 7, 2, 19, 13, 55, 858641, tzinfo=datetime.timezone.utc), 'updation_date': datetime.datetime(2023, 7, 2, 19, 13, 55, 858653, tzinfo=datetime.timezone.utc)}, {'id': 12, 'name': 'Julie Carter', 'email': None, 'age': 50, 'creation_date': datetime.datetime(2023, 7, 2, 19, 13, 55, 858677, tzinfo=datetime.timezone.utc), 'updation_date': datetime.datetime(2023, 7, 2, 19, 13, 55, 858690, tzinfo=datetime.timezone.utc)}, {'id': 13, 'name': 'Lori Oconnor', 'email': None, 'age': 51, 'creation_date': datetime.datetime(2023, 7, 2, 19, 13, 55, 858713, tzinfo=datetime.timezone.utc), 'updation_date': datetime.datetime(2023, 7, 2, 19, 13, 55, 858725, tzinfo=datetime.timezone.utc)}, {'id': 14, 'name': 'Debbie Garcia', 'email': None, 'age': 92, 'creation_date': datetime.datetime(2023, 7, 2, 19, 13, 55, 858748, tzinfo=datetime.timezone.utc), 'updation_date': datetime.datetime(2023, 7, 2, 19, 13, 55, 858760, tzinfo=datetime.timezone.utc)}, {'id': 15, 'name': 'Benjamin Harris', 'email': None, 'age': 14, 'creation_date': datetime.datetime(2023, 7, 2, 19, 13, 55, 858783, tzinfo=datetime.timezone.utc), 'updation_date': datetime.datetime(2023, 7, 2, 19, 13, 55, 858796, tzinfo=datetime.timezone.utc)}, {'id': 16, 'name': 'Michael Montes', 'email': None, 'age': 32, 'creation_date': datetime.datetime(2023, 7, 2, 19, 13, 55, 858819, tzinfo=datetime.timezone.utc), 'updation_date': datetime.datetime(2023, 7, 2, 19, 13, 55, 858832, tzinfo=datetime.timezone.utc)}, {'id': 17, 'name': 'Richard Price', 'email': None, 'age': 34, 'creation_date': datetime.datetime(2023, 7, 2, 19, 13, 55, 858854, tzinfo=datetime.timezone.utc), 'updation_date': datetime.datetime(2023, 7, 2, 19, 13, 55, 858867, tzinfo=datetime.timezone.utc)}, {'id': 18, 'name': 'James Gomez', 'email': None, 'age': 18, 'creation_date': datetime.datetime(2023, 7, 2, 19, 13, 55, 858889, tzinfo=datetime.timezone.utc), 'updation_date': datetime.datetime(2023, 7, 2, 19, 13, 55, 858903, tzinfo=datetime.timezone.utc)}, {'id': 19, 'name': 'Justin Taylor', 'email': None, 'age': 96, 'creation_date': datetime.datetime(2023, 7, 2, 19, 13, 55, 858925, tzinfo=datetime.timezone.utc), 'updation_date': datetime.datetime(2023, 7, 2, 19, 13, 55, 858938, tzinfo=datetime.timezone.utc)}, {'id': 20, 'name': 'Kelsey Boyer', 'email': None, 'age': 96, 'creation_date': datetime.datetime(2023, 7, 2, 19, 13, 55, 858961, tzinfo=datetime.timezone.utc), 'updation_date': datetime.datetime(2023, 7, 2, 19, 13, 55, 858974, tzinfo=datetime.timezone.utc)}, '...(remaining elements truncated)...']>"
      ]
     },
     "execution_count": 110,
     "metadata": {},
     "output_type": "execute_result"
    }
   ],
   "source": [
    "Author.objects.values()"
   ]
  },
  {
   "cell_type": "code",
   "execution_count": 113,
   "id": "0c69fc14",
   "metadata": {},
   "outputs": [
    {
     "name": "stdout",
     "output_type": "stream",
     "text": [
      "query is {'sql': 'SELECT \"author_model\".\"id\", \"author_model\".\"name\", \"author_model\".\"email\", \"author_model\".\"age\", \"author_model\".\"creation_date\", \"author_model\".\"updation_date\" FROM \"author_model\" LIMIT 21', 'time': '0.001'}\n"
     ]
    }
   ],
   "source": [
    "print(f\"query is {get_query()[-1]}\")"
   ]
  },
  {
   "cell_type": "code",
   "execution_count": 114,
   "id": "7fc2ce78",
   "metadata": {},
   "outputs": [
    {
     "data": {
      "text/plain": [
       "<QuerySet [{'name': 'Justin Johnston'}, {'name': 'Mark Berry'}, {'name': 'Heather Friedman'}, {'name': 'Amy White'}, {'name': 'Timothy Cameron'}, {'name': 'Debra Gray'}, {'name': 'Drew Sweeney'}, {'name': 'Tina Valdez'}, {'name': 'Brandon Barker'}, {'name': 'Robert Lopez'}, {'name': 'Marcus Lee'}, {'name': 'Julie Carter'}, {'name': 'Lori Oconnor'}, {'name': 'Debbie Garcia'}, {'name': 'Benjamin Harris'}, {'name': 'Michael Montes'}, {'name': 'Richard Price'}, {'name': 'James Gomez'}, {'name': 'Justin Taylor'}, {'name': 'Kelsey Boyer'}, '...(remaining elements truncated)...']>"
      ]
     },
     "execution_count": 114,
     "metadata": {},
     "output_type": "execute_result"
    }
   ],
   "source": [
    "Author.objects.values(\"name\")"
   ]
  },
  {
   "cell_type": "code",
   "execution_count": 115,
   "id": "6c346cda",
   "metadata": {},
   "outputs": [
    {
     "name": "stdout",
     "output_type": "stream",
     "text": [
      "query is {'sql': 'SELECT \"author_model\".\"name\" FROM \"author_model\" LIMIT 21', 'time': '0.001'}\n"
     ]
    }
   ],
   "source": [
    "print(f\"query is {get_query()[-1]}\")"
   ]
  },
  {
   "cell_type": "markdown",
   "id": "5c48ed2d",
   "metadata": {},
   "source": [
    "<a id=\"3.g\"></a>\n",
    "### values_list\n",
    "\n",
    "Django Documentation - https://docs.djangoproject.com/en/4.2/ref/models/querysets/#values_list"
   ]
  },
  {
   "cell_type": "code",
   "execution_count": 119,
   "id": "8ce41c0c",
   "metadata": {
    "collapsed": true
   },
   "outputs": [
    {
     "data": {
      "text/plain": [
       "<QuerySet [(1, 'Justin Johnston', None, 96, datetime.datetime(2023, 7, 2, 19, 13, 55, 858228, tzinfo=datetime.timezone.utc), datetime.datetime(2023, 7, 2, 19, 13, 55, 858280, tzinfo=datetime.timezone.utc)), (2, 'Mark Berry', None, 80, datetime.datetime(2023, 7, 2, 19, 13, 55, 858308, tzinfo=datetime.timezone.utc), datetime.datetime(2023, 7, 2, 19, 13, 55, 858323, tzinfo=datetime.timezone.utc)), (3, 'Heather Friedman', None, 89, datetime.datetime(2023, 7, 2, 19, 13, 55, 858347, tzinfo=datetime.timezone.utc), datetime.datetime(2023, 7, 2, 19, 13, 55, 858360, tzinfo=datetime.timezone.utc)), (4, 'Amy White', None, 59, datetime.datetime(2023, 7, 2, 19, 13, 55, 858388, tzinfo=datetime.timezone.utc), datetime.datetime(2023, 7, 2, 19, 13, 55, 858403, tzinfo=datetime.timezone.utc)), (5, 'Timothy Cameron', None, 65, datetime.datetime(2023, 7, 2, 19, 13, 55, 858426, tzinfo=datetime.timezone.utc), datetime.datetime(2023, 7, 2, 19, 13, 55, 858440, tzinfo=datetime.timezone.utc)), (6, 'Debra Gray', None, 89, datetime.datetime(2023, 7, 2, 19, 13, 55, 858463, tzinfo=datetime.timezone.utc), datetime.datetime(2023, 7, 2, 19, 13, 55, 858477, tzinfo=datetime.timezone.utc)), (7, 'Drew Sweeney', None, 2, datetime.datetime(2023, 7, 2, 19, 13, 55, 858499, tzinfo=datetime.timezone.utc), datetime.datetime(2023, 7, 2, 19, 13, 55, 858513, tzinfo=datetime.timezone.utc)), (8, 'Tina Valdez', None, 48, datetime.datetime(2023, 7, 2, 19, 13, 55, 858535, tzinfo=datetime.timezone.utc), datetime.datetime(2023, 7, 2, 19, 13, 55, 858548, tzinfo=datetime.timezone.utc)), (9, 'Brandon Barker', None, 19, datetime.datetime(2023, 7, 2, 19, 13, 55, 858570, tzinfo=datetime.timezone.utc), datetime.datetime(2023, 7, 2, 19, 13, 55, 858583, tzinfo=datetime.timezone.utc)), (10, 'Robert Lopez', None, 91, datetime.datetime(2023, 7, 2, 19, 13, 55, 858606, tzinfo=datetime.timezone.utc), datetime.datetime(2023, 7, 2, 19, 13, 55, 858619, tzinfo=datetime.timezone.utc)), (11, 'Marcus Lee', None, 97, datetime.datetime(2023, 7, 2, 19, 13, 55, 858641, tzinfo=datetime.timezone.utc), datetime.datetime(2023, 7, 2, 19, 13, 55, 858653, tzinfo=datetime.timezone.utc)), (12, 'Julie Carter', None, 50, datetime.datetime(2023, 7, 2, 19, 13, 55, 858677, tzinfo=datetime.timezone.utc), datetime.datetime(2023, 7, 2, 19, 13, 55, 858690, tzinfo=datetime.timezone.utc)), (13, 'Lori Oconnor', None, 51, datetime.datetime(2023, 7, 2, 19, 13, 55, 858713, tzinfo=datetime.timezone.utc), datetime.datetime(2023, 7, 2, 19, 13, 55, 858725, tzinfo=datetime.timezone.utc)), (14, 'Debbie Garcia', None, 92, datetime.datetime(2023, 7, 2, 19, 13, 55, 858748, tzinfo=datetime.timezone.utc), datetime.datetime(2023, 7, 2, 19, 13, 55, 858760, tzinfo=datetime.timezone.utc)), (15, 'Benjamin Harris', None, 14, datetime.datetime(2023, 7, 2, 19, 13, 55, 858783, tzinfo=datetime.timezone.utc), datetime.datetime(2023, 7, 2, 19, 13, 55, 858796, tzinfo=datetime.timezone.utc)), (16, 'Michael Montes', None, 32, datetime.datetime(2023, 7, 2, 19, 13, 55, 858819, tzinfo=datetime.timezone.utc), datetime.datetime(2023, 7, 2, 19, 13, 55, 858832, tzinfo=datetime.timezone.utc)), (17, 'Richard Price', None, 34, datetime.datetime(2023, 7, 2, 19, 13, 55, 858854, tzinfo=datetime.timezone.utc), datetime.datetime(2023, 7, 2, 19, 13, 55, 858867, tzinfo=datetime.timezone.utc)), (18, 'James Gomez', None, 18, datetime.datetime(2023, 7, 2, 19, 13, 55, 858889, tzinfo=datetime.timezone.utc), datetime.datetime(2023, 7, 2, 19, 13, 55, 858903, tzinfo=datetime.timezone.utc)), (19, 'Justin Taylor', None, 96, datetime.datetime(2023, 7, 2, 19, 13, 55, 858925, tzinfo=datetime.timezone.utc), datetime.datetime(2023, 7, 2, 19, 13, 55, 858938, tzinfo=datetime.timezone.utc)), (20, 'Kelsey Boyer', None, 96, datetime.datetime(2023, 7, 2, 19, 13, 55, 858961, tzinfo=datetime.timezone.utc), datetime.datetime(2023, 7, 2, 19, 13, 55, 858974, tzinfo=datetime.timezone.utc)), '...(remaining elements truncated)...']>"
      ]
     },
     "execution_count": 119,
     "metadata": {},
     "output_type": "execute_result"
    }
   ],
   "source": [
    "Author.objects.values_list()"
   ]
  },
  {
   "cell_type": "code",
   "execution_count": 120,
   "id": "c2977b0d",
   "metadata": {},
   "outputs": [
    {
     "name": "stdout",
     "output_type": "stream",
     "text": [
      "query is {'sql': 'SELECT \"author_model\".\"id\", \"author_model\".\"name\", \"author_model\".\"email\", \"author_model\".\"age\", \"author_model\".\"creation_date\", \"author_model\".\"updation_date\" FROM \"author_model\" LIMIT 21', 'time': '0.000'}\n"
     ]
    }
   ],
   "source": [
    "print(f\"query is {get_query()[-1]}\")"
   ]
  },
  {
   "cell_type": "code",
   "execution_count": 121,
   "id": "5596eec1",
   "metadata": {},
   "outputs": [
    {
     "data": {
      "text/plain": [
       "<QuerySet [('Justin Johnston',), ('Mark Berry',), ('Heather Friedman',), ('Amy White',), ('Timothy Cameron',), ('Debra Gray',), ('Drew Sweeney',), ('Tina Valdez',), ('Brandon Barker',), ('Robert Lopez',), ('Marcus Lee',), ('Julie Carter',), ('Lori Oconnor',), ('Debbie Garcia',), ('Benjamin Harris',), ('Michael Montes',), ('Richard Price',), ('James Gomez',), ('Justin Taylor',), ('Kelsey Boyer',), '...(remaining elements truncated)...']>"
      ]
     },
     "execution_count": 121,
     "metadata": {},
     "output_type": "execute_result"
    }
   ],
   "source": [
    "Author.objects.values_list(\"name\")"
   ]
  },
  {
   "cell_type": "code",
   "execution_count": 124,
   "id": "00856c5e",
   "metadata": {},
   "outputs": [
    {
     "name": "stdout",
     "output_type": "stream",
     "text": [
      "query is {'sql': 'SELECT \"author_model\".\"name\" FROM \"author_model\" LIMIT 21', 'time': '0.000'}\n"
     ]
    }
   ],
   "source": [
    "print(f\"query is {get_query()[-1]}\")"
   ]
  },
  {
   "cell_type": "code",
   "execution_count": 123,
   "id": "19014ec3",
   "metadata": {},
   "outputs": [
    {
     "data": {
      "text/plain": [
       "<QuerySet ['Justin Johnston', 'Mark Berry', 'Heather Friedman', 'Amy White', 'Timothy Cameron', 'Debra Gray', 'Drew Sweeney', 'Tina Valdez', 'Brandon Barker', 'Robert Lopez', 'Marcus Lee', 'Julie Carter', 'Lori Oconnor', 'Debbie Garcia', 'Benjamin Harris', 'Michael Montes', 'Richard Price', 'James Gomez', 'Justin Taylor', 'Kelsey Boyer', '...(remaining elements truncated)...']>"
      ]
     },
     "execution_count": 123,
     "metadata": {},
     "output_type": "execute_result"
    }
   ],
   "source": [
    "Author.objects.values_list(\"name\", flat=True)"
   ]
  },
  {
   "cell_type": "markdown",
   "id": "d582c84e",
   "metadata": {},
   "source": [
    "<a id=\"3.h\"></a>\n",
    "### all\n",
    "\n",
    "Django Documentation - https://docs.djangoproject.com/en/4.2/ref/models/querysets/#all"
   ]
  },
  {
   "cell_type": "code",
   "execution_count": 125,
   "id": "2e5fed9b",
   "metadata": {},
   "outputs": [
    {
     "data": {
      "text/plain": [
       "<QuerySet [<Author: Justin Johnston>, <Author: Mark Berry>, <Author: Heather Friedman>, <Author: Amy White>, <Author: Timothy Cameron>, <Author: Debra Gray>, <Author: Drew Sweeney>, <Author: Tina Valdez>, <Author: Brandon Barker>, <Author: Robert Lopez>, <Author: Marcus Lee>, <Author: Julie Carter>, <Author: Lori Oconnor>, <Author: Debbie Garcia>, <Author: Benjamin Harris>, <Author: Michael Montes>, <Author: Richard Price>, <Author: James Gomez>, <Author: Justin Taylor>, <Author: Kelsey Boyer>, '...(remaining elements truncated)...']>"
      ]
     },
     "execution_count": 125,
     "metadata": {},
     "output_type": "execute_result"
    }
   ],
   "source": [
    "Author.objects.all()"
   ]
  },
  {
   "cell_type": "code",
   "execution_count": 126,
   "id": "05fc4ae6",
   "metadata": {},
   "outputs": [
    {
     "name": "stdout",
     "output_type": "stream",
     "text": [
      "query is {'sql': 'SELECT \"author_model\".\"id\", \"author_model\".\"name\", \"author_model\".\"email\", \"author_model\".\"age\", \"author_model\".\"creation_date\", \"author_model\".\"updation_date\" FROM \"author_model\" LIMIT 21', 'time': '0.001'}\n"
     ]
    }
   ],
   "source": [
    "print(f\"query is {get_query()[-1]}\")"
   ]
  },
  {
   "cell_type": "markdown",
   "id": "a3ded31a",
   "metadata": {},
   "source": [
    "<a id=\"3.i\"></a>\n",
    "### union\n",
    "\n",
    "Django Documentation - https://docs.djangoproject.com/en/4.2/ref/models/querysets/#union"
   ]
  },
  {
   "cell_type": "code",
   "execution_count": 139,
   "id": "b2543cd4",
   "metadata": {},
   "outputs": [],
   "source": [
    "qs1 = Author.objects.values_list(\"name\")\n",
    "qs2 = Author.objects.values_list(\"age\")"
   ]
  },
  {
   "cell_type": "code",
   "execution_count": 144,
   "id": "8b094211",
   "metadata": {},
   "outputs": [
    {
     "data": {
      "text/plain": [
       "<QuerySet [('Justin Johnston',), ('Mark Berry',), ('Heather Friedman',), ('Amy White',), ('Timothy Cameron',), ('Debra Gray',), ('Drew Sweeney',), ('Tina Valdez',), ('Brandon Barker',), ('Robert Lopez',), ('Marcus Lee',), ('Julie Carter',), ('Lori Oconnor',), ('Debbie Garcia',), ('Benjamin Harris',), ('Michael Montes',), ('Richard Price',), ('James Gomez',), ('Justin Taylor',), ('Kelsey Boyer',), '...(remaining elements truncated)...']>"
      ]
     },
     "execution_count": 144,
     "metadata": {},
     "output_type": "execute_result"
    }
   ],
   "source": [
    "qs1"
   ]
  },
  {
   "cell_type": "code",
   "execution_count": 145,
   "id": "2185e87d",
   "metadata": {},
   "outputs": [
    {
     "data": {
      "text/plain": [
       "<QuerySet [(96,), (80,), (89,), (59,), (65,), (89,), (2,), (48,), (19,), (91,), (97,), (50,), (51,), (92,), (14,), (32,), (34,), (18,), (96,), (96,), '...(remaining elements truncated)...']>"
      ]
     },
     "execution_count": 145,
     "metadata": {},
     "output_type": "execute_result"
    }
   ],
   "source": [
    "qs2"
   ]
  },
  {
   "cell_type": "code",
   "execution_count": 143,
   "id": "5482f029",
   "metadata": {},
   "outputs": [
    {
     "name": "stdout",
     "output_type": "stream",
     "text": [
      "(1,)\n",
      "(2,)\n",
      "(3,)\n",
      "(5,)\n",
      "(7,)\n",
      "(8,)\n",
      "(9,)\n",
      "(11,)\n",
      "(12,)\n",
      "(14,)\n",
      "(16,)\n",
      "(18,)\n",
      "(19,)\n",
      "(20,)\n",
      "(21,)\n",
      "(22,)\n",
      "(23,)\n",
      "(24,)\n",
      "(26,)\n",
      "(28,)\n",
      "(29,)\n",
      "(32,)\n",
      "(33,)\n",
      "(34,)\n",
      "(36,)\n",
      "(37,)\n",
      "(38,)\n",
      "(39,)\n",
      "(41,)\n",
      "(45,)\n",
      "(46,)\n",
      "(47,)\n",
      "(48,)\n",
      "(49,)\n",
      "(50,)\n",
      "(51,)\n",
      "(52,)\n",
      "(57,)\n",
      "(59,)\n",
      "(60,)\n",
      "(62,)\n",
      "(65,)\n",
      "(67,)\n",
      "(68,)\n",
      "(69,)\n",
      "(76,)\n",
      "(77,)\n",
      "(79,)\n",
      "(80,)\n",
      "(81,)\n",
      "(83,)\n",
      "(85,)\n",
      "(88,)\n",
      "(89,)\n",
      "(90,)\n",
      "(91,)\n",
      "(92,)\n",
      "(93,)\n",
      "(95,)\n",
      "(96,)\n",
      "(97,)\n",
      "(98,)\n",
      "(99,)\n",
      "(100,)\n",
      "('Aaron Parker',)\n",
      "('Adriana Clark',)\n",
      "('Alicia Nichols',)\n",
      "('Amy Cruz',)\n",
      "('Amy White',)\n",
      "('Angela Webb',)\n",
      "('Anthony Brown',)\n",
      "('Benjamin Hamilton',)\n",
      "('Benjamin Harris',)\n",
      "('Brandon Barker',)\n",
      "('Breanna Camacho',)\n",
      "('Brianna Smith',)\n",
      "('Christopher Campbell',)\n",
      "('Christopher Hernandez',)\n",
      "('Christopher Murphy',)\n",
      "('Cindy Murphy',)\n",
      "('Clayton Taylor',)\n",
      "('Colleen Cochran',)\n",
      "('Colton Smith',)\n",
      "('Connie Mathews',)\n",
      "('Crystal Jenkins',)\n",
      "('Dakota Lee',)\n",
      "('Daniel Villegas',)\n",
      "('Danny Sherman',)\n",
      "('Debbie Garcia',)\n",
      "('Debbie Mckee',)\n",
      "('Debra Gray',)\n",
      "('Drew Sweeney',)\n",
      "('Dustin Schroeder',)\n",
      "('Gary Turner',)\n",
      "('Haley Goodwin',)\n",
      "('Heather Friedman',)\n",
      "('Jack Wilson',)\n",
      "('Jacob Jones',)\n",
      "('James Brown',)\n",
      "('James Gomez',)\n",
      "('Jeffrey Delgado',)\n",
      "('Jeffrey Powers',)\n",
      "('Jennifer Ball',)\n",
      "('Jennifer Harris',)\n",
      "('Joan Martinez',)\n",
      "('Jordan Williams',)\n",
      "('Joseph Roberts',)\n",
      "('Joshua Evans',)\n",
      "('Julie Carter',)\n",
      "('Justin Johnston',)\n",
      "('Justin Taylor',)\n",
      "('Karen Harvey',)\n",
      "('Katherine Bennett',)\n",
      "('Kathryn Perez',)\n",
      "('Kelsey Boyer',)\n",
      "('Kimberly Thomas',)\n",
      "('Kristina Knapp',)\n",
      "('Kyle Taylor III',)\n",
      "('Lindsay Mayer',)\n",
      "('Logan Chang',)\n",
      "('Lori Oconnor',)\n",
      "('Marcus Diaz',)\n",
      "('Marcus Lee',)\n",
      "('Mark Berry',)\n",
      "('Mark George',)\n",
      "('Michael Montes',)\n",
      "('Miguel Cruz',)\n",
      "('Miranda Massey',)\n",
      "('Nancy Nelson',)\n",
      "('Nicholas Hall',)\n",
      "('Pamela Carroll',)\n",
      "('Patrick Olson',)\n",
      "('Paul Wagner',)\n",
      "('Peter Byrd',)\n",
      "('Rachel Smith',)\n",
      "('Rachel White',)\n",
      "('Ralph Martinez',)\n",
      "('Reginald Williamson',)\n",
      "('Richard Price',)\n",
      "('Robert Lopez',)\n",
      "('Samuel Jones',)\n",
      "('Sherri Li',)\n",
      "('Sheryl Moss',)\n",
      "('Spencer Hayes',)\n",
      "('Stephanie Barr',)\n",
      "('Stephanie Brewer',)\n",
      "('Stephanie Mitchell',)\n",
      "('Steven Stewart',)\n",
      "('Sydney Gallagher',)\n",
      "('Taylor Dorsey',)\n",
      "('Tiffany Jones',)\n",
      "('Timothy Cameron',)\n",
      "('Timothy Morgan',)\n",
      "('Tina Brewer',)\n",
      "('Tina Jackson',)\n",
      "('Tina Valdez',)\n",
      "('Todd Patrick',)\n",
      "('Tonya Gallegos',)\n",
      "('Tracy Beck',)\n",
      "('Tracy Howard',)\n",
      "('Tracy Martinez',)\n",
      "('Vicki Griffin',)\n",
      "('Whitney Miller',)\n",
      "('William Mckinney',)\n"
     ]
    }
   ],
   "source": [
    "for obj in qs1.union(qs2):\n",
    "    print(obj)"
   ]
  },
  {
   "cell_type": "code",
   "execution_count": null,
   "id": "ead2e3df",
   "metadata": {},
   "outputs": [],
   "source": []
  },
  {
   "cell_type": "markdown",
   "id": "35b8be29",
   "metadata": {},
   "source": [
    "<a id=\"3.j\"></a>\n",
    "### intersection\n",
    "\n",
    "Django Documentation - https://docs.djangoproject.com/en/4.2/ref/models/querysets/#intersection"
   ]
  },
  {
   "cell_type": "code",
   "execution_count": 174,
   "id": "3040fdc1",
   "metadata": {},
   "outputs": [],
   "source": [
    "qs1 = Author.objects.filter(Q(age__lt = 20) & Q(age__gt = 10)).values_list(\"age\", flat=True)"
   ]
  },
  {
   "cell_type": "code",
   "execution_count": 175,
   "id": "248005d6",
   "metadata": {},
   "outputs": [],
   "source": [
    "qs2 = Author.objects.filter(Q(age__lt = 15) & Q(age__gt = 5)).values_list(\"age\", flat=True)"
   ]
  },
  {
   "cell_type": "code",
   "execution_count": 176,
   "id": "75f22e7d",
   "metadata": {},
   "outputs": [
    {
     "data": {
      "text/plain": [
       "<QuerySet [19, 14, 18, 11, 16, 12, 18]>"
      ]
     },
     "execution_count": 176,
     "metadata": {},
     "output_type": "execute_result"
    }
   ],
   "source": [
    "qs1"
   ]
  },
  {
   "cell_type": "code",
   "execution_count": 177,
   "id": "092d0efc",
   "metadata": {},
   "outputs": [
    {
     "data": {
      "text/plain": [
       "<QuerySet [14, 8, 9, 11, 7, 8, 12]>"
      ]
     },
     "execution_count": 177,
     "metadata": {},
     "output_type": "execute_result"
    }
   ],
   "source": [
    "qs2"
   ]
  },
  {
   "cell_type": "code",
   "execution_count": 192,
   "id": "83b75d66",
   "metadata": {},
   "outputs": [
    {
     "data": {
      "text/plain": [
       "<QuerySet [11, 12, 14]>"
      ]
     },
     "execution_count": 192,
     "metadata": {},
     "output_type": "execute_result"
    }
   ],
   "source": [
    "qs1.intersection(qs2)"
   ]
  },
  {
   "cell_type": "code",
   "execution_count": 193,
   "id": "b565dacb",
   "metadata": {},
   "outputs": [
    {
     "data": {
      "text/plain": [
       "{'sql': 'SELECT \"author_model\".\"age\" AS \"col1\" FROM \"author_model\" WHERE (\"author_model\".\"age\" < 20 AND \"author_model\".\"age\" > 10) INTERSECT SELECT \"author_model\".\"age\" AS \"col1\" FROM \"author_model\" WHERE (\"author_model\".\"age\" < 15 AND \"author_model\".\"age\" > 5) LIMIT 21',\n",
       " 'time': '0.001'}"
      ]
     },
     "execution_count": 193,
     "metadata": {},
     "output_type": "execute_result"
    }
   ],
   "source": [
    "get_query()[-1]"
   ]
  },
  {
   "cell_type": "markdown",
   "id": "144d94a7",
   "metadata": {},
   "source": [
    "<a id=\"3.k\"></a>\n",
    "### difference\n",
    "\n",
    "Django Documentation - https://docs.djangoproject.com/en/4.2/ref/models/querysets/#difference"
   ]
  },
  {
   "cell_type": "code",
   "execution_count": 194,
   "id": "e345f63d",
   "metadata": {},
   "outputs": [],
   "source": [
    "qs1 = Author.objects.filter(Q(age__lt = 20) & Q(age__gt = 10)).values_list(\"age\", flat=True)"
   ]
  },
  {
   "cell_type": "code",
   "execution_count": 195,
   "id": "df802bff",
   "metadata": {},
   "outputs": [],
   "source": [
    "qs2 = Author.objects.filter(Q(age__lt = 15) & Q(age__gt = 5)).values_list(\"age\", flat=True)"
   ]
  },
  {
   "cell_type": "code",
   "execution_count": 196,
   "id": "c66a70ee",
   "metadata": {},
   "outputs": [
    {
     "data": {
      "text/plain": [
       "<QuerySet [19, 14, 18, 11, 16, 12, 18]>"
      ]
     },
     "execution_count": 196,
     "metadata": {},
     "output_type": "execute_result"
    }
   ],
   "source": [
    "qs1"
   ]
  },
  {
   "cell_type": "code",
   "execution_count": 197,
   "id": "185bf247",
   "metadata": {},
   "outputs": [
    {
     "data": {
      "text/plain": [
       "<QuerySet [14, 8, 9, 11, 7, 8, 12]>"
      ]
     },
     "execution_count": 197,
     "metadata": {},
     "output_type": "execute_result"
    }
   ],
   "source": [
    "qs2"
   ]
  },
  {
   "cell_type": "code",
   "execution_count": 199,
   "id": "a8fbe122",
   "metadata": {},
   "outputs": [
    {
     "data": {
      "text/plain": [
       "<QuerySet [7, 8, 9]>"
      ]
     },
     "execution_count": 199,
     "metadata": {},
     "output_type": "execute_result"
    }
   ],
   "source": [
    "qs2.difference(qs1)"
   ]
  },
  {
   "cell_type": "code",
   "execution_count": null,
   "id": "0f10a1f3",
   "metadata": {},
   "outputs": [],
   "source": []
  },
  {
   "cell_type": "markdown",
   "id": "621db3d3",
   "metadata": {},
   "source": [
    "<a id=\"3.l\"></a>\n",
    "### defer\n",
    "\n",
    "Django Documentation - https://docs.djangoproject.com/en/4.2/ref/models/querysets/#defer"
   ]
  },
  {
   "cell_type": "code",
   "execution_count": 201,
   "id": "8b1a71f4",
   "metadata": {},
   "outputs": [],
   "source": [
    "objs = Author.objects.defer(\"name\")"
   ]
  },
  {
   "cell_type": "code",
   "execution_count": 202,
   "id": "e80b75d7",
   "metadata": {},
   "outputs": [
    {
     "name": "stdout",
     "output_type": "stream",
     "text": [
      "{'_state': <django.db.models.base.ModelState object at 0x10beb5a50>, 'id': 1, 'email': None, 'age': 96, 'creation_date': datetime.datetime(2023, 7, 2, 19, 13, 55, 858228, tzinfo=datetime.timezone.utc), 'updation_date': datetime.datetime(2023, 7, 2, 19, 13, 55, 858280, tzinfo=datetime.timezone.utc)}\n",
      "{'_state': <django.db.models.base.ModelState object at 0x10beb5b40>, 'id': 2, 'email': None, 'age': 80, 'creation_date': datetime.datetime(2023, 7, 2, 19, 13, 55, 858308, tzinfo=datetime.timezone.utc), 'updation_date': datetime.datetime(2023, 7, 2, 19, 13, 55, 858323, tzinfo=datetime.timezone.utc)}\n",
      "{'_state': <django.db.models.base.ModelState object at 0x10beb6260>, 'id': 3, 'email': None, 'age': 89, 'creation_date': datetime.datetime(2023, 7, 2, 19, 13, 55, 858347, tzinfo=datetime.timezone.utc), 'updation_date': datetime.datetime(2023, 7, 2, 19, 13, 55, 858360, tzinfo=datetime.timezone.utc)}\n",
      "{'_state': <django.db.models.base.ModelState object at 0x10beb5990>, 'id': 4, 'email': None, 'age': 59, 'creation_date': datetime.datetime(2023, 7, 2, 19, 13, 55, 858388, tzinfo=datetime.timezone.utc), 'updation_date': datetime.datetime(2023, 7, 2, 19, 13, 55, 858403, tzinfo=datetime.timezone.utc)}\n",
      "{'_state': <django.db.models.base.ModelState object at 0x10beb6410>, 'id': 5, 'email': None, 'age': 65, 'creation_date': datetime.datetime(2023, 7, 2, 19, 13, 55, 858426, tzinfo=datetime.timezone.utc), 'updation_date': datetime.datetime(2023, 7, 2, 19, 13, 55, 858440, tzinfo=datetime.timezone.utc)}\n",
      "{'_state': <django.db.models.base.ModelState object at 0x10beb66b0>, 'id': 6, 'email': None, 'age': 89, 'creation_date': datetime.datetime(2023, 7, 2, 19, 13, 55, 858463, tzinfo=datetime.timezone.utc), 'updation_date': datetime.datetime(2023, 7, 2, 19, 13, 55, 858477, tzinfo=datetime.timezone.utc)}\n",
      "{'_state': <django.db.models.base.ModelState object at 0x10beb6770>, 'id': 7, 'email': None, 'age': 2, 'creation_date': datetime.datetime(2023, 7, 2, 19, 13, 55, 858499, tzinfo=datetime.timezone.utc), 'updation_date': datetime.datetime(2023, 7, 2, 19, 13, 55, 858513, tzinfo=datetime.timezone.utc)}\n",
      "{'_state': <django.db.models.base.ModelState object at 0x10beb6830>, 'id': 8, 'email': None, 'age': 48, 'creation_date': datetime.datetime(2023, 7, 2, 19, 13, 55, 858535, tzinfo=datetime.timezone.utc), 'updation_date': datetime.datetime(2023, 7, 2, 19, 13, 55, 858548, tzinfo=datetime.timezone.utc)}\n",
      "{'_state': <django.db.models.base.ModelState object at 0x10beb68f0>, 'id': 9, 'email': None, 'age': 19, 'creation_date': datetime.datetime(2023, 7, 2, 19, 13, 55, 858570, tzinfo=datetime.timezone.utc), 'updation_date': datetime.datetime(2023, 7, 2, 19, 13, 55, 858583, tzinfo=datetime.timezone.utc)}\n",
      "{'_state': <django.db.models.base.ModelState object at 0x10beb5690>, 'id': 10, 'email': None, 'age': 91, 'creation_date': datetime.datetime(2023, 7, 2, 19, 13, 55, 858606, tzinfo=datetime.timezone.utc), 'updation_date': datetime.datetime(2023, 7, 2, 19, 13, 55, 858619, tzinfo=datetime.timezone.utc)}\n"
     ]
    }
   ],
   "source": [
    "for obj in objs[:10]:\n",
    "    print(obj.__dict__)"
   ]
  },
  {
   "cell_type": "code",
   "execution_count": 203,
   "id": "e43d9002",
   "metadata": {},
   "outputs": [
    {
     "data": {
      "text/plain": [
       "{'sql': 'SELECT \"author_model\".\"id\", \"author_model\".\"email\", \"author_model\".\"age\", \"author_model\".\"creation_date\", \"author_model\".\"updation_date\" FROM \"author_model\" LIMIT 10',\n",
       " 'time': '0.001'}"
      ]
     },
     "execution_count": 203,
     "metadata": {},
     "output_type": "execute_result"
    }
   ],
   "source": [
    "get_query()[-1]"
   ]
  },
  {
   "cell_type": "markdown",
   "id": "011c5bc1",
   "metadata": {},
   "source": [
    "<a id=\"3.m\"></a>\n",
    "### only\n",
    "\n",
    "Django Documentation - https://docs.djangoproject.com/en/4.2/ref/models/querysets/#only"
   ]
  },
  {
   "cell_type": "code",
   "execution_count": 212,
   "id": "90c7cf75",
   "metadata": {},
   "outputs": [],
   "source": [
    "objs = Author.objects.only(\"name\")"
   ]
  },
  {
   "cell_type": "code",
   "execution_count": 214,
   "id": "0506a640",
   "metadata": {},
   "outputs": [
    {
     "name": "stdout",
     "output_type": "stream",
     "text": [
      "{'_state': <django.db.models.base.ModelState object at 0x10bea4a60>, 'id': 1, 'name': 'Justin Johnston'}\n",
      "{'_state': <django.db.models.base.ModelState object at 0x10bea4940>, 'id': 2, 'name': 'Mark Berry'}\n",
      "{'_state': <django.db.models.base.ModelState object at 0x10beb6500>, 'id': 3, 'name': 'Heather Friedman'}\n",
      "{'_state': <django.db.models.base.ModelState object at 0x10beb6a10>, 'id': 4, 'name': 'Amy White'}\n",
      "{'_state': <django.db.models.base.ModelState object at 0x10beb5990>, 'id': 5, 'name': 'Timothy Cameron'}\n",
      "{'_state': <django.db.models.base.ModelState object at 0x10beb7130>, 'id': 6, 'name': 'Debra Gray'}\n",
      "{'_state': <django.db.models.base.ModelState object at 0x10beb6830>, 'id': 7, 'name': 'Drew Sweeney'}\n",
      "{'_state': <django.db.models.base.ModelState object at 0x10beb5c60>, 'id': 8, 'name': 'Tina Valdez'}\n",
      "{'_state': <django.db.models.base.ModelState object at 0x10beb4f40>, 'id': 9, 'name': 'Brandon Barker'}\n",
      "{'_state': <django.db.models.base.ModelState object at 0x10beb59c0>, 'id': 10, 'name': 'Robert Lopez'}\n"
     ]
    }
   ],
   "source": [
    "for obj in objs[:10]:\n",
    "    print(obj.__dict__)"
   ]
  },
  {
   "cell_type": "code",
   "execution_count": 215,
   "id": "5242c36c",
   "metadata": {},
   "outputs": [
    {
     "data": {
      "text/plain": [
       "{'sql': 'SELECT \"author_model\".\"id\", \"author_model\".\"name\" FROM \"author_model\" LIMIT 10',\n",
       " 'time': '0.000'}"
      ]
     },
     "execution_count": 215,
     "metadata": {},
     "output_type": "execute_result"
    }
   ],
   "source": [
    "get_query()[-1]"
   ]
  },
  {
   "cell_type": "code",
   "execution_count": null,
   "id": "8f872c30",
   "metadata": {},
   "outputs": [],
   "source": []
  },
  {
   "cell_type": "markdown",
   "id": "4fe0090d",
   "metadata": {},
   "source": [
    "<a id=\"3.n\"></a>\n",
    "### select_for_update\n",
    "<i><b>select_for_update(nowait=False, skip_locked=False, of=(), no_key=False)</b></i>\n",
    "\n",
    "<pre>When the queryset is evaluated (<b>for entry in entries</b> in this case), all matched entries will be locked until the end of the transaction block, meaning that other transactions will be prevented from changing or acquiring locks on them.\n",
    "\n",
    "Usually, if another transaction has already acquired a lock on one of the selected rows, the query will block until the lock is released. If this is not the behavior you want, call <b>select_for_update(nowait=True)</b>. This will make the call non-blocking. If a conflicting lock is already acquired by another transaction, <b>DatabaseError</b> will be raised when the queryset is evaluated. You can also ignore locked rows by using <b>select_for_update(skip_locked=True)</b> instead. The nowait and skip_locked are mutually exclusive and attempts to call <b>select_for_update()</b> with both options enabled will result in a <b>ValueError</b>.\n",
    "\n",
    "By default, <b>select_for_update()</b> locks all rows that are selected by the query. For example, rows of related objects specified in <b>select_related()</b> are locked in addition to rows of the queryset’s model. If this isn’t desired, specify the related objects you want to lock in <b>select_for_update(of=(...))</b> using the same fields syntax as <b>select_related()</b>. Use the value <b>'self'</b> to refer to the queryset’s model.</pre>\n",
    "\n",
    "Django Documentation - https://docs.djangoproject.com/en/4.2/ref/models/querysets/#select-for-update"
   ]
  },
  {
   "cell_type": "code",
   "execution_count": null,
   "id": "ab11b4f8",
   "metadata": {},
   "outputs": [],
   "source": [
    "from django.db import transaction\n",
    "\n",
    "entries = Author.objects.select_for_update().filter(age__gt=10)\n",
    "with transaction.atomic():\n",
    "    for entry in entries:\n",
    "        ... #making some changes here to model data"
   ]
  },
  {
   "cell_type": "markdown",
   "id": "239792f7",
   "metadata": {},
   "source": [
    "<a id=\"3.o\"></a>\n",
    "### raw\n",
    "\n",
    "Django Documentation - https://docs.djangoproject.com/en/4.2/ref/models/querysets/#raw"
   ]
  },
  {
   "cell_type": "code",
   "execution_count": 222,
   "id": "f5d6de17",
   "metadata": {},
   "outputs": [],
   "source": [
    "objs = Author.objects.raw(\"SELECT * FROM AUTHOR_MODEL\")"
   ]
  },
  {
   "cell_type": "code",
   "execution_count": 223,
   "id": "1e33238a",
   "metadata": {},
   "outputs": [
    {
     "name": "stdout",
     "output_type": "stream",
     "text": [
      "something 96\n",
      "Mark Berry 80\n",
      "Heather Friedman 89\n",
      "Amy White 59\n",
      "Timothy Cameron 65\n",
      "Debra Gray 89\n",
      "Drew Sweeney 2\n",
      "Tina Valdez 48\n",
      "Brandon Barker 19\n",
      "Robert Lopez 91\n"
     ]
    }
   ],
   "source": [
    "for obj in objs[:10]:\n",
    "    print(obj.name, obj.age)"
   ]
  },
  {
   "cell_type": "code",
   "execution_count": 224,
   "id": "4cf0f201",
   "metadata": {},
   "outputs": [
    {
     "data": {
      "text/plain": [
       "{'sql': 'SELECT * FROM AUTHOR_MODEL', 'time': '0.001'}"
      ]
     },
     "execution_count": 224,
     "metadata": {},
     "output_type": "execute_result"
    }
   ],
   "source": [
    "get_query()[-1]"
   ]
  },
  {
   "cell_type": "code",
   "execution_count": null,
   "id": "a5258ab4",
   "metadata": {},
   "outputs": [],
   "source": []
  },
  {
   "cell_type": "code",
   "execution_count": null,
   "id": "af4d0f1f",
   "metadata": {},
   "outputs": [],
   "source": []
  },
  {
   "cell_type": "code",
   "execution_count": null,
   "id": "506279e1",
   "metadata": {},
   "outputs": [],
   "source": []
  },
  {
   "cell_type": "code",
   "execution_count": null,
   "id": "37ed103c",
   "metadata": {},
   "outputs": [],
   "source": []
  },
  {
   "cell_type": "code",
   "execution_count": null,
   "id": "dcfe8da0",
   "metadata": {},
   "outputs": [],
   "source": []
  },
  {
   "cell_type": "code",
   "execution_count": null,
   "id": "aa817d92",
   "metadata": {},
   "outputs": [],
   "source": []
  },
  {
   "cell_type": "code",
   "execution_count": null,
   "id": "ae145c1a",
   "metadata": {},
   "outputs": [],
   "source": []
  },
  {
   "cell_type": "markdown",
   "id": "9da360f0",
   "metadata": {},
   "source": [
    "## Hey If You are liked the content Do subscribe to my Youtube Channel\n",
    "https://www.youtube.com/channel/UCpuKtSx_Cu8_ikyhlKAWBYA?sub_confirmation=1"
   ]
  },
  {
   "cell_type": "code",
   "execution_count": null,
   "id": "dfd82f1e",
   "metadata": {},
   "outputs": [],
   "source": []
  }
 ],
 "metadata": {
  "kernelspec": {
   "display_name": "Django Shell-Plus",
   "language": "python",
   "name": "django_extensions"
  },
  "language_info": {
   "codemirror_mode": {
    "name": "ipython",
    "version": 3
   },
   "file_extension": ".py",
   "mimetype": "text/x-python",
   "name": "python",
   "nbconvert_exporter": "python",
   "pygments_lexer": "ipython3",
   "version": "3.10.11"
  }
 },
 "nbformat": 4,
 "nbformat_minor": 5
}
